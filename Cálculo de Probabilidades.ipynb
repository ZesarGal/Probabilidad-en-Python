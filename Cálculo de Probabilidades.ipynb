{
 "cells": [
  {
   "cell_type": "markdown",
   "metadata": {},
   "source": [
    "# Cálculo de probabilidades"
   ]
  },
  {
   "cell_type": "markdown",
   "metadata": {},
   "source": [
    "Sea $(\\Omega, \\mathcal{E}, \\mathbb{P})$ un espacio de probabilidad clásico:\n",
    "$$\n",
    "\\begin{align}\n",
    "    \\mathbb{P}&:\\mathcal{E}\\to [0,1]\\\\\n",
    "        E& \\mapsto \\frac{\\# E}{\\# \\Omega}\n",
    "\\end{align}\n",
    "$$      \n",
    "\n",
    "Recordemos que cada realización de un evento es equiprobable."
   ]
  },
  {
   "cell_type": "markdown",
   "metadata": {},
   "source": [
    "El módulo `fractions` provee soporte para aritmética de números racionales."
   ]
  },
  {
   "cell_type": "code",
   "execution_count": 12,
   "metadata": {},
   "outputs": [],
   "source": [
    "from fractions import Fraction\n",
    "\n",
    "def P(evento, espacio): \n",
    "    \"La probabilidad de un evento.\"\n",
    "    return Fraction(len(evento & espacio), \n",
    "                    len(espacio))"
   ]
  },
  {
   "cell_type": "code",
   "execution_count": 13,
   "metadata": {},
   "outputs": [
    {
     "data": {
      "text/plain": [
       "Fraction(1, 2)"
      ]
     },
     "execution_count": 13,
     "metadata": {},
     "output_type": "execute_result"
    }
   ],
   "source": [
    "# Probabilidad de obtener un número par en un lanzamiento de un dado\n",
    "D    = {1, 2, 3, 4, 5, 6}\n",
    "par = {   2,    4,    6}\n",
    "\n",
    "P(par, D)"
   ]
  },
  {
   "cell_type": "markdown",
   "metadata": {},
   "source": [
    "## Urnas"
   ]
  },
  {
   "cell_type": "markdown",
   "metadata": {},
   "source": [
    "Una urna contiene $23$ bolas: $8$ blancas (W), $6$ azúles (B), and $9$ rojas (R). Seleccionamos $6$ bolas al azar. Calculemos la probabilidad de los siguientes eventos:\n",
    "1. todas sean rojas.\n",
    "2. $3$ sean azules, $2$ sean blancas, and $1$ sea roja.\n",
    "3. exactamente $4$ sean blancas."
   ]
  },
  {
   "cell_type": "markdown",
   "metadata": {},
   "source": [
    "Primero, etiquetamos cada bola en la urna:"
   ]
  },
  {
   "cell_type": "code",
   "execution_count": 2,
   "metadata": {},
   "outputs": [
    {
     "data": {
      "text/plain": [
       "{'B1',\n",
       " 'B2',\n",
       " 'B3',\n",
       " 'B4',\n",
       " 'B5',\n",
       " 'B6',\n",
       " 'R1',\n",
       " 'R2',\n",
       " 'R3',\n",
       " 'R4',\n",
       " 'R5',\n",
       " 'R6',\n",
       " 'R7',\n",
       " 'R8',\n",
       " 'R9',\n",
       " 'W1',\n",
       " 'W2',\n",
       " 'W3',\n",
       " 'W4',\n",
       " 'W5',\n",
       " 'W6',\n",
       " 'W7',\n",
       " 'W8'}"
      ]
     },
     "execution_count": 2,
     "metadata": {},
     "output_type": "execute_result"
    }
   ],
   "source": [
    "def conc(A, B):\n",
    "\n",
    "    return {a + b \n",
    "            for a in A for b in B}\n",
    "\n",
    "urna = conc('W', '12345678') | conc('B', '123456') | conc('R', '123456789') \n",
    "\n",
    "urna"
   ]
  },
  {
   "cell_type": "code",
   "execution_count": 5,
   "metadata": {},
   "outputs": [
    {
     "data": {
      "text/plain": [
       "23"
      ]
     },
     "execution_count": 5,
     "metadata": {},
     "output_type": "execute_result"
    }
   ],
   "source": [
    "len(urna)"
   ]
  },
  {
   "cell_type": "markdown",
   "metadata": {},
   "source": [
    "A continuación, vamos a definir nuestro **espacio de estados**. El método `itertools.combinations(iterable, r)`:\n",
    "    \n",
    "Retorna subsecuencias de longitud $r$ con elementos del iterable de entrada.\n",
    "\n",
    "Las tuplas de combinación se emiten en orden lexicográfico según el orden de la entrada iterable. Entonces, si la entrada iterable está ordenada, las tuplas de combinación se producirán en una secuencia ordenada.\n",
    "\n",
    "Los elementos son tratados como únicos basados en su posición, no en su valor. De esta manera, si los elementos de entrada son únicos, no habrá valores repetidos en cada combinación"
   ]
  },
  {
   "cell_type": "code",
   "execution_count": 4,
   "metadata": {},
   "outputs": [],
   "source": [
    "import itertools\n",
    "\n",
    "def comb(items, n):\n",
    "\n",
    "    return {' '.join(combo) \n",
    "            for combo in itertools.combinations(items, n)}\n",
    "\n",
    "U6 = comb(urna, 6)\n"
   ]
  },
  {
   "cell_type": "markdown",
   "metadata": {},
   "source": [
    "### Solución a 1."
   ]
  },
  {
   "cell_type": "code",
   "execution_count": 8,
   "metadata": {},
   "outputs": [
    {
     "data": {
      "text/plain": [
       "Fraction(4, 4807)"
      ]
     },
     "execution_count": 8,
     "metadata": {},
     "output_type": "execute_result"
    }
   ],
   "source": [
    "r6 = {s for s in U6 if s.count('R') == 6}\n",
    "\n",
    "P(r6, U6)"
   ]
  },
  {
   "cell_type": "markdown",
   "metadata": {},
   "source": [
    "### Solución a 2."
   ]
  },
  {
   "cell_type": "code",
   "execution_count": 9,
   "metadata": {},
   "outputs": [
    {
     "data": {
      "text/plain": [
       "Fraction(240, 4807)"
      ]
     },
     "execution_count": 9,
     "metadata": {},
     "output_type": "execute_result"
    }
   ],
   "source": [
    "b3w2r1 = {s for s in U6 if\n",
    "          s.count('B') == 3 and s.count('W') == 2 and s.count('R') == 1}\n",
    "\n",
    "P(b3w2r1, U6)"
   ]
  },
  {
   "cell_type": "markdown",
   "metadata": {},
   "source": [
    "### Solución a 3."
   ]
  },
  {
   "cell_type": "code",
   "execution_count": 10,
   "metadata": {},
   "outputs": [
    {
     "data": {
      "text/plain": [
       "Fraction(350, 4807)"
      ]
     },
     "execution_count": 10,
     "metadata": {},
     "output_type": "execute_result"
    }
   ],
   "source": [
    "w4 = {s for s in U6 if\n",
    "      s.count('W') == 4}\n",
    "\n",
    "P(w4, U6)"
   ]
  },
  {
   "cell_type": "markdown",
   "metadata": {},
   "source": [
    "## Lanzamiento de un dado"
   ]
  },
  {
   "cell_type": "code",
   "execution_count": 8,
   "metadata": {},
   "outputs": [],
   "source": [
    "def even(n): \n",
    "    return n % 2 == 0"
   ]
  },
  {
   "cell_type": "markdown",
   "metadata": {},
   "source": [
    "### Predicados"
   ]
  },
  {
   "cell_type": "markdown",
   "metadata": {},
   "source": [
    "Es necesario modificar la función $\\mathbb{P}$ para aceptar un conjunto de resultados, o un predicado sobre los resultados (una función que regrese un booleano TRUE para un resultado que sea un evento)."
   ]
  },
  {
   "cell_type": "markdown",
   "metadata": {},
   "source": [
    "Por ejemplo, supongamos que lanzamos un dado. Queremos definir el evento: El resultado del número que se obtiene es par. En este caso, el conjunto asociado al evento es:\n",
    "        $$\\{n\\in \\{1,2,3,4,5,6\\} \\ \\text{tal que} \\ n\\cong 0 \\ \\text{mod} \\ 2  \\}=\\{2,4,6\\}$$"
   ]
  },
  {
   "cell_type": "code",
   "execution_count": 5,
   "metadata": {},
   "outputs": [],
   "source": [
    "def P(evento, espacio): \n",
    "    \n",
    "    if es_predicado(evento):\n",
    "        evento = tal_que(evento, espacio)\n",
    "    return Fraction(len(evento & espacio), len(espacio))\n",
    "\n",
    "es_predicado = callable\n",
    "\n",
    "def tal_que(predicado, colección): \n",
    "    \n",
    "    return {e for e in colección if predicado(e)}"
   ]
  },
  {
   "cell_type": "code",
   "execution_count": 6,
   "metadata": {},
   "outputs": [
    {
     "data": {
      "text/plain": [
       "<function callable(obj, /)>"
      ]
     },
     "execution_count": 6,
     "metadata": {},
     "output_type": "execute_result"
    }
   ],
   "source": [
    "es_predicado"
   ]
  },
  {
   "cell_type": "code",
   "execution_count": 14,
   "metadata": {},
   "outputs": [
    {
     "data": {
      "text/plain": [
       "{2, 4, 6}"
      ]
     },
     "execution_count": 14,
     "metadata": {},
     "output_type": "execute_result"
    }
   ],
   "source": [
    "tal_que(even, D)"
   ]
  },
  {
   "cell_type": "markdown",
   "metadata": {},
   "source": [
    "## El problema de Newton"
   ]
  },
  {
   "cell_type": "markdown",
   "metadata": {},
   "source": [
    "Se tienen las siguientes tres proposiciones:\n",
    "\n",
    "1. Seis dados se lanzan y se obtiene al menos un $6$.\n",
    "2. Doce dados se lanzan y se obtienen al menos dos $6$.\n",
    "3. Dieciocho dados se lanzan y se obtienen al menos tres $6$.\n",
    "\n",
    "¿Cuál de las proposiciones anteriores tiene mayor probabilidad de ocurrir?"
   ]
  },
  {
   "cell_type": "markdown",
   "metadata": {},
   "source": [
    "Para resolver el problema, es necesario introducir un diccionario para trabajar con las leyes (o distribuciones) de las variables aleatorias que se conciben."
   ]
  },
  {
   "cell_type": "markdown",
   "metadata": {},
   "source": [
    "Recordemos que si $X:\\Omega\\to R_{X}$ es una variable aleatoria discreta definida sobre un espacio de probabilidad clásico, entonces su distribución de probabilidades es\n",
    "    $$\\sum_{k\\in R_{X}}\\mathbb{P}(X=k)=1.$$"
   ]
  },
  {
   "cell_type": "code",
   "execution_count": 15,
   "metadata": {},
   "outputs": [],
   "source": [
    "class DistProb(dict):\n",
    "    def __init__(self, map=(), **kwargs): # kwargs en una función se usa para pasar, de forma opcional, un número variable de argumentos con nombre.\n",
    "        self.update(map, **kwargs)\n",
    "        total = sum(self.values())\n",
    "        for outcome in self:\n",
    "            self[outcome] = self[outcome] / total\n",
    "            assert self[outcome] >= 0"
   ]
  },
  {
   "cell_type": "code",
   "execution_count": 16,
   "metadata": {},
   "outputs": [],
   "source": [
    "def P(evento, espacio): \n",
    "    if es_predicado(evento):\n",
    "        evento = tal_que(evento, espacio)\n",
    "    if isinstance(espacio, DistProb):\n",
    "        return sum(espacio[o] for o in espacio if o in evento)\n",
    "    else:\n",
    "        return Fraction(len(evento & espacio), len(espacio))\n",
    "    \n",
    "def such_that(predicado, espacio): \n",
    "    if isinstance(espacio, DistProb):\n",
    "        return DistProb({o:espacio[o] for o in espacio if predicado(o)})\n",
    "    else:\n",
    "        return {o for o in espacio if predicado(o)}"
   ]
  },
  {
   "cell_type": "code",
   "execution_count": 20,
   "metadata": {},
   "outputs": [],
   "source": [
    "def joint(A, B, sep=''):\n",
    "    return DistProb({a + sep + b: A[a] * B[b]\n",
    "                    for a in A\n",
    "                    for b in B})"
   ]
  },
  {
   "cell_type": "code",
   "execution_count": 21,
   "metadata": {},
   "outputs": [],
   "source": [
    "dado = DistProb({'6':1/6, '-':5/6})\n",
    "\n",
    "def dados(n, dado):\n",
    "    if n == 1:\n",
    "        return dado\n",
    "    else:\n",
    "        return joint(dado, dados(n - 1, dado))"
   ]
  },
  {
   "cell_type": "code",
   "execution_count": 22,
   "metadata": {},
   "outputs": [
    {
     "data": {
      "text/plain": [
       "{'666': 0.0046296296296296285,\n",
       " '66-': 0.023148148148148143,\n",
       " '6-6': 0.023148148148148143,\n",
       " '6--': 0.11574074074074073,\n",
       " '-66': 0.023148148148148143,\n",
       " '-6-': 0.11574074074074073,\n",
       " '--6': 0.11574074074074073,\n",
       " '---': 0.5787037037037037}"
      ]
     },
     "execution_count": 22,
     "metadata": {},
     "output_type": "execute_result"
    }
   ],
   "source": [
    "dados(3, dado)"
   ]
  },
  {
   "cell_type": "code",
   "execution_count": 25,
   "metadata": {},
   "outputs": [],
   "source": [
    "def al_menos(k, resultado): \n",
    "    return lambda s: s.count(resultado) >= k # Las expresiones lambda en Python son una forma corta de declarar funciones pequeñas y anónimas"
   ]
  },
  {
   "cell_type": "markdown",
   "metadata": {},
   "source": [
    "**Solución a 1**"
   ]
  },
  {
   "cell_type": "code",
   "execution_count": 26,
   "metadata": {},
   "outputs": [
    {
     "data": {
      "text/plain": [
       "0.6651020233196159"
      ]
     },
     "execution_count": 26,
     "metadata": {},
     "output_type": "execute_result"
    }
   ],
   "source": [
    "P(al_menos(1, '6'), dados(6, dado))"
   ]
  },
  {
   "cell_type": "markdown",
   "metadata": {},
   "source": [
    "**Solución 2**"
   ]
  },
  {
   "cell_type": "code",
   "execution_count": 27,
   "metadata": {},
   "outputs": [
    {
     "data": {
      "text/plain": [
       "0.6186673737323101"
      ]
     },
     "execution_count": 27,
     "metadata": {},
     "output_type": "execute_result"
    }
   ],
   "source": [
    "P(al_menos(2, '6'), dados(12, dado))"
   ]
  },
  {
   "cell_type": "markdown",
   "metadata": {},
   "source": [
    "**Solución 3**"
   ]
  },
  {
   "cell_type": "code",
   "execution_count": 28,
   "metadata": {},
   "outputs": [
    {
     "data": {
      "text/plain": [
       "0.5973456859477544"
      ]
     },
     "execution_count": 28,
     "metadata": {},
     "output_type": "execute_result"
    }
   ],
   "source": [
    "P(al_menos(3, '6'), dados(18, dado))"
   ]
  },
  {
   "cell_type": "code",
   "execution_count": null,
   "metadata": {},
   "outputs": [],
   "source": []
  }
 ],
 "metadata": {
  "kernelspec": {
   "display_name": "Python 3",
   "language": "python",
   "name": "python3"
  },
  "language_info": {
   "codemirror_mode": {
    "name": "ipython",
    "version": 3
   },
   "file_extension": ".py",
   "mimetype": "text/x-python",
   "name": "python",
   "nbconvert_exporter": "python",
   "pygments_lexer": "ipython3",
   "version": "3.7.6"
  }
 },
 "nbformat": 4,
 "nbformat_minor": 4
}
