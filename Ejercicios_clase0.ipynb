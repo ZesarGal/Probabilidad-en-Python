{
  "cells": [
    {
      "cell_type": "markdown",
      "metadata": {
        "id": "R0iybTTPsdlx"
      },
      "source": [
        "## Ejercicios"
      ]
    },
    {
      "cell_type": "code",
      "execution_count": 1,
      "metadata": {
        "id": "UBXkxohcsdly"
      },
      "outputs": [],
      "source": [
        "from itertools import product\n",
        "\n",
        "from fractions import Fraction"
      ]
    },
    {
      "cell_type": "markdown",
      "metadata": {
        "id": "No9sZjD4sdl0"
      },
      "source": [
        "### Ejercicios:"
      ]
    },
    {
      "cell_type": "markdown",
      "metadata": {
        "id": "OEjX563osdl1"
      },
      "source": [
        "1.- En un salón de clases hay $60$ alumnos. $30$ de los alumnos estudian francés, $35$ estudian ruso y $5$ estudian francés y ruso. Dibuja un diagrama de Venn y calcula la probabilidad de que si se elige un estudiante al azar, éste estudie solamente francés."
      ]
    },
    {
      "cell_type": "code",
      "execution_count": 2,
      "metadata": {
        "colab": {
          "base_uri": "https://localhost:8080/",
          "height": 395
        },
        "id": "kv6m5FVxsdl1",
        "outputId": "6d5f370e-dd7a-49a3-d575-90c263ae94fe"
      },
      "outputs": [
        {
          "output_type": "execute_result",
          "data": {
            "text/plain": [
              "<matplotlib_venn._common.VennDiagram at 0x7fcb89865d80>"
            ]
          },
          "metadata": {},
          "execution_count": 2
        },
        {
          "output_type": "display_data",
          "data": {
            "text/plain": [
              "<Figure size 640x480 with 1 Axes>"
            ],
            "image/png": "[encoded data removed]"
          },
          "metadata": {}
        }
      ],
      "source": [
        "from matplotlib_venn import venn2, venn2_circles, venn2_unweighted\n",
        "from matplotlib_venn import venn3, venn3_circles\n",
        "from matplotlib import pyplot as plt\n",
        "\n",
        "venn2(subsets = (25, 30, 5), set_labels = ('Francés', 'Ruso'))"
      ]
    },
    {
      "cell_type": "code",
      "execution_count": 3,
      "metadata": {
        "colab": {
          "base_uri": "https://localhost:8080/"
        },
        "id": "zgqRnOtksdl2",
        "outputId": "4166a325-a8a5-4e31-f5c3-5e70878e6fd3"
      },
      "outputs": [
        {
          "output_type": "stream",
          "name": "stdout",
          "text": [
            "La probabilidad de que un alumno estudie solo francés:25/60\n"
          ]
        }
      ],
      "source": [
        "print(\"La probabilidad de que un alumno estudie solo francés:\"  + \"25/60\" )"
      ]
    },
    {
      "cell_type": "markdown",
      "metadata": {
        "id": "EkB0CrYksdl3"
      },
      "source": [
        "2.- Se lanza un dado 3 veces.\n",
        "    \n",
        " - Describe al espacio muestral.\n",
        "    \n",
        " - Calcula la probabilidad de que salga la cara 1 en el primer lanzamiento.\n",
        "    \n",
        "  - Calcula la probabilidad condicional del evento cae un número par en los tres lanzamientos dado que en el primer lanzamiento cae 2.\n",
        "    \n",
        "    Consideremos el evento: \"se obtiene sol en el segundo lanzamiento\". ¿Tal evento es independiente de los eventos anteriores?"
      ]
    },
    {
      "cell_type": "code",
      "execution_count": 4,
      "metadata": {
        "id": "tCnDgDBrsdl3"
      },
      "outputs": [],
      "source": [
        "Omega_dado3 = set(product([1,2,3,4,5,6], repeat =3))"
      ]
    },
    {
      "cell_type": "code",
      "execution_count": 5,
      "metadata": {
        "id": "hLRMno_Esdl4"
      },
      "outputs": [],
      "source": [
        "def P(E, Omega):\n",
        "    return Fraction(len(E & Omega), len(Omega))"
      ]
    },
    {
      "cell_type": "code",
      "execution_count": 6,
      "metadata": {
        "colab": {
          "base_uri": "https://localhost:8080/"
        },
        "id": "Ki_SAjIasdl5",
        "outputId": "38df845a-4b87-4ff8-c7d9-4f0590750db9"
      },
      "outputs": [
        {
          "output_type": "execute_result",
          "data": {
            "text/plain": [
              "Fraction(1, 6)"
            ]
          },
          "metadata": {},
          "execution_count": 6
        }
      ],
      "source": [
        "E_1 = {om for om in Omega_dado3 if om[0]==1}\n",
        "\n",
        "P(E_1, Omega_dado3)"
      ]
    },
    {
      "cell_type": "code",
      "execution_count": 7,
      "metadata": {
        "colab": {
          "base_uri": "https://localhost:8080/"
        },
        "id": "K3BOawGTsdl5",
        "outputId": "bd97c207-70bc-4265-8962-6e53c12a2edc"
      },
      "outputs": [
        {
          "output_type": "execute_result",
          "data": {
            "text/plain": [
              "Fraction(1, 4)"
            ]
          },
          "metadata": {},
          "execution_count": 7
        }
      ],
      "source": [
        "E_2  = {om for om in Omega_dado3 if om[0]==2}\n",
        "\n",
        "Par = { om for om in E_2 if om[1]%2 == 0 and om[2]%2 == 0}\n",
        "\n",
        "P(Par, E_2)"
      ]
    },
    {
      "cell_type": "code",
      "execution_count": 8,
      "metadata": {
        "id": "8b-wipKtsdl6"
      },
      "outputs": [],
      "source": [
        "def indep(E, F):\n",
        "    return P(E & F, E_2)==P(E, Omega_volado)*P(F, Omega_dado3)"
      ]
    },
    {
      "cell_type": "code",
      "execution_count": 9,
      "metadata": {
        "colab": {
          "base_uri": "https://localhost:8080/"
        },
        "id": "tXleuAbnsdl6",
        "outputId": "fac56e06-8c03-4ba1-9e04-1cbe3c47bcb4"
      },
      "outputs": [
        {
          "output_type": "execute_result",
          "data": {
            "text/plain": [
              "Fraction(1, 2)"
            ]
          },
          "metadata": {},
          "execution_count": 9
        }
      ],
      "source": [
        "Omega_volado = set(product([\"a\",\"s\"], repeat =3))\n",
        "\n",
        "S_2 = {om for om in Omega_volado if om[1]==\"s\" }\n",
        "\n",
        "P(S_2, Omega_volado)"
      ]
    },
    {
      "cell_type": "code",
      "execution_count": 10,
      "metadata": {
        "colab": {
          "base_uri": "https://localhost:8080/"
        },
        "id": "oG9Aw5jcsdl7",
        "outputId": "9b9e25ca-4dac-470f-e713-424c685da109"
      },
      "outputs": [
        {
          "output_type": "execute_result",
          "data": {
            "text/plain": [
              "False"
            ]
          },
          "metadata": {},
          "execution_count": 10
        }
      ],
      "source": [
        "indep(S_2, E_1)"
      ]
    },
    {
      "cell_type": "markdown",
      "metadata": {
        "id": "wVUZKv51sdl8"
      },
      "source": [
        "3.- Considera el experimento: Alicia y Karla lanzan $2$ dados justos. Se tiene el siguiente juego:\n",
        "\n",
        "   - Si la suma de los dados es par, Alicia gana la cantidad máxima que sale en las caras y Karla pierde la cantidad mínima que sale en las caras.\n",
        "     \n",
        "   - Si la suma de los dados es un número impar, Karla gana la cantidad de $\\$ 5$ y Alicia pierde la cantidad de $\\$3$.\n",
        "     \n",
        "¿Quién tiene más probabilidad de obtener mayor ganancia?"
      ]
    },
    {
      "cell_type": "code",
      "execution_count": 11,
      "metadata": {
        "id": "8aa4fe-vsdl9"
      },
      "outputs": [],
      "source": [
        "Omega_dado2 = set(product([1,2,3,4,5,6], repeat =2))\n",
        "\n",
        "Par = {om for om in Omega_dado2 if (om[0]+om[1])%2==0}"
      ]
    },
    {
      "cell_type": "code",
      "execution_count": 12,
      "metadata": {
        "id": "AEV-10Nmsdl9"
      },
      "outputs": [],
      "source": [
        "def Alicia(n):\n",
        "    \n",
        "    A_n = { om for om in Omega_dado2 if (om[0]+om[1])%2==0 and max(om)==n}\n",
        "    \n",
        "    return A_n"
      ]
    },
    {
      "cell_type": "code",
      "execution_count": 13,
      "metadata": {
        "colab": {
          "base_uri": "https://localhost:8080/"
        },
        "id": "o9UNpukRsdl-",
        "outputId": "3189ec93-fdf6-4147-ab05-61f962a95b98"
      },
      "outputs": [
        {
          "output_type": "execute_result",
          "data": {
            "text/plain": [
              "Fraction(79, 18)"
            ]
          },
          "metadata": {},
          "execution_count": 13
        }
      ],
      "source": [
        "G_A = sum([i*P(Alicia(i), Par) for i in range(1, 7)])\n",
        "\n",
        "G_A"
      ]
    },
    {
      "cell_type": "code",
      "execution_count": 14,
      "metadata": {
        "id": "uP9k5bgCsdl_"
      },
      "outputs": [],
      "source": [
        "def Karla(n):\n",
        "    \n",
        "    K_n = { om for om in Omega_dado2 if (om[0]+om[1])%2==0 and min(om)==n}\n",
        "    \n",
        "    return K_n"
      ]
    },
    {
      "cell_type": "code",
      "execution_count": 15,
      "metadata": {
        "colab": {
          "base_uri": "https://localhost:8080/"
        },
        "id": "avZT4nBAsdl_",
        "outputId": "31b122c1-dfe3-4a87-c04c-a5a35a5137d3"
      },
      "outputs": [
        {
          "output_type": "execute_result",
          "data": {
            "text/plain": [
              "Fraction(47, 18)"
            ]
          },
          "metadata": {},
          "execution_count": 15
        }
      ],
      "source": [
        "G_K = sum([i*P(Karla(i), Par) for i in range(1, 7)])\n",
        "\n",
        "G_K"
      ]
    },
    {
      "cell_type": "code",
      "execution_count": 16,
      "metadata": {
        "id": "TXK7s8EUsdmA"
      },
      "outputs": [],
      "source": [
        "Impar = {om for om in Omega_dado2 if (om[0]+om[1])%2==1}"
      ]
    },
    {
      "cell_type": "code",
      "execution_count": 17,
      "metadata": {
        "colab": {
          "base_uri": "https://localhost:8080/"
        },
        "id": "usxIDuL0sdmA",
        "outputId": "6ea2f2ba-1051-4659-eefe-94b9ac47d15b"
      },
      "outputs": [
        {
          "output_type": "execute_result",
          "data": {
            "text/plain": [
              "Fraction(5, 2)"
            ]
          },
          "metadata": {},
          "execution_count": 17
        }
      ],
      "source": [
        "G_K = 5*P(Impar, Omega_dado2)\n",
        "\n",
        "G_K"
      ]
    },
    {
      "cell_type": "code",
      "execution_count": 18,
      "metadata": {
        "colab": {
          "base_uri": "https://localhost:8080/"
        },
        "id": "Hyr1UM-dsdmB",
        "outputId": "977527f0-5248-43fa-ac83-f089785f42cb"
      },
      "outputs": [
        {
          "output_type": "execute_result",
          "data": {
            "text/plain": [
              "Fraction(3, 2)"
            ]
          },
          "metadata": {},
          "execution_count": 18
        }
      ],
      "source": [
        "G_A = 3*P(Impar, Omega_dado2)\n",
        "\n",
        "G_A"
      ]
    },
    {
      "cell_type": "markdown",
      "metadata": {
        "id": "MTrd8M9zsdmB"
      },
      "source": [
        "4.- Escribe en un `DataFrame` la distribución asociada a la suma que se obtiene al lanzar $3$ dados. "
      ]
    },
    {
      "cell_type": "code",
      "execution_count": 19,
      "metadata": {
        "id": "8ubiqYAUsdmC"
      },
      "outputs": [],
      "source": [
        "S = {om : om[0]+om[1]+om[2] for om in Omega_dado3} \n",
        "\n",
        "from collections import defaultdict\n",
        "\n",
        "dS = defaultdict(set)\n",
        "\n",
        "for i, j in S.items():\n",
        "        \n",
        "    dS[j].add(i)\n",
        "    "
      ]
    },
    {
      "cell_type": "code",
      "execution_count": 21,
      "metadata": {
        "colab": {
          "base_uri": "https://localhost:8080/"
        },
        "id": "GQ0CBVhRsdmD",
        "outputId": "dd7d233d-2975-4fd8-be75-a2fb44bbff2e"
      },
      "outputs": [
        {
          "output_type": "execute_result",
          "data": {
            "text/plain": [
              "3      1/216\n",
              "4       1/72\n",
              "5       1/36\n",
              "6      5/108\n",
              "7       5/72\n",
              "8       7/72\n",
              "9     25/216\n",
              "10       1/8\n",
              "11       1/8\n",
              "12    25/216\n",
              "13      7/72\n",
              "14      5/72\n",
              "15     5/108\n",
              "16      1/36\n",
              "17      1/72\n",
              "18     1/216\n",
              "dtype: object"
            ]
          },
          "metadata": {},
          "execution_count": 21
        }
      ],
      "source": [
        "import pandas as pd \n",
        "distS = {i : P(A, Omega_dado3) for i, A in dS.items() }\n",
        "\n",
        "dist_S = pd.Series(distS)\n",
        "dist_S.sort_index()"
      ]
    }
  ],
  "metadata": {
    "kernelspec": {
      "display_name": "Python 3",
      "language": "python",
      "name": "python3"
    },
    "language_info": {
      "codemirror_mode": {
        "name": "ipython",
        "version": 3
      },
      "file_extension": ".py",
      "mimetype": "text/x-python",
      "name": "python",
      "nbconvert_exporter": "python",
      "pygments_lexer": "ipython3",
      "version": "3.7.6"
    },
    "colab": {
      "provenance": []
    }
  },
  "nbformat": 4,
  "nbformat_minor": 0
}