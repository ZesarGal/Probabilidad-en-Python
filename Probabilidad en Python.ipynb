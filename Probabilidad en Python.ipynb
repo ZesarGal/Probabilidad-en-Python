{
 "cells": [
  {
   "cell_type": "markdown",
   "metadata": {},
   "source": [
    "# Probabilidad clásica"
   ]
  },
  {
   "cell_type": "markdown",
   "metadata": {},
   "source": [
    "En probabilidad clásica (modelo laplaciano)\n",
    "\n",
    "- Experimento aleatorio.\n",
    "- Espacio muestral $\\Omega$ (conjunto de todos los posibles resultados de un experimento aleatorio). Hipótesis $\\# \\Omega < +\\infty$. \n",
    "- Eventos (diccionario con conjuntos).\n",
    "- Si $\\omega\\in \\Omega$, entonces $\\{ \\omega \\}$ se le asigna una función $P: P(\\Omega)\\to [0,1]$\n",
    "$$P(\\{ \\omega \\})=\\frac{1}{\\# \\Omega}.$$\n",
    "\n",
    "En particular, si $A\\in P(\\Omega)$ (eventos) entonces\n",
    "$$P(A)=\\frac{\\# A}{\\# \\Omega}.$$"
   ]
  },
  {
   "cell_type": "markdown",
   "metadata": {},
   "source": [
    "## 1. Experimento: Lanzamiento de dos dados"
   ]
  },
  {
   "cell_type": "markdown",
   "metadata": {},
   "source": [
    "Supongamos que estamos interesados en el experimento aleatorio de lanzar un par de dados honestos. De este experimento nos interesa saber cuál es la suma de los dados en cada tirada."
   ]
  },
  {
   "cell_type": "markdown",
   "metadata": {},
   "source": [
    "## 1.1. El espacio muestral"
   ]
  },
  {
   "cell_type": "markdown",
   "metadata": {},
   "source": [
    "El espacio muestral $\\Omega$ del experimento de lanzar dos dados honestos, está compuesto de todas las parejas ordenadas $(i,j)$ tales que $1\\le i,j\\le 6$ (enteros). Esto es \n",
    "\n",
    "$$\\Omega=\\{(i,j):1\\le i,j\\le 6\\}=\\{1,2,3,4,5,6\\}\\times \\{1,2,3,4,5,6\\}.$$\n"
   ]
  },
  {
   "cell_type": "markdown",
   "metadata": {},
   "source": [
    "La cardinalidad de $\\Omega$: $\\# \\Omega = 6^{2}=36$."
   ]
  },
  {
   "cell_type": "code",
   "execution_count": 1,
   "metadata": {},
   "outputs": [],
   "source": [
    "# usando itertools\n",
    "\n",
    "from itertools import product"
   ]
  },
  {
   "cell_type": "code",
   "execution_count": 2,
   "metadata": {},
   "outputs": [],
   "source": [
    "Omega = set(product([1, 2, 3, 4, 5, 6], repeat = 2))\n"
   ]
  },
  {
   "cell_type": "code",
   "execution_count": 3,
   "metadata": {},
   "outputs": [
    {
     "data": {
      "text/plain": [
       "36"
      ]
     },
     "execution_count": 3,
     "metadata": {},
     "output_type": "execute_result"
    }
   ],
   "source": [
    "len(Omega)"
   ]
  },
  {
   "cell_type": "markdown",
   "metadata": {},
   "source": [
    "## 1.2. Eventos aleatorios"
   ]
  },
  {
   "cell_type": "markdown",
   "metadata": {},
   "source": [
    "Sea $S_n$ el evento \"La suma de los dados es $n$\". Esto es:\n",
    "\n",
    "$$S_n=\\{(i,j)\\in\\Omega:i+j=n\\}.$$\n"
   ]
  },
  {
   "cell_type": "code",
   "execution_count": 4,
   "metadata": {},
   "outputs": [],
   "source": [
    "def S(n):\n",
    "    Sn={(i,j) for i in range(1,7) for j in range(1,7) if i+j==n}\n",
    "    return Sn"
   ]
  },
  {
   "cell_type": "code",
   "execution_count": 5,
   "metadata": {},
   "outputs": [
    {
     "data": {
      "text/plain": [
       "True"
      ]
     },
     "execution_count": 5,
     "metadata": {},
     "output_type": "execute_result"
    }
   ],
   "source": [
    "S(0) == S(1) == S(13)"
   ]
  },
  {
   "cell_type": "code",
   "execution_count": 6,
   "metadata": {},
   "outputs": [
    {
     "data": {
      "text/plain": [
       "{(3, 6), (4, 5), (5, 4), (6, 3)}"
      ]
     },
     "execution_count": 6,
     "metadata": {},
     "output_type": "execute_result"
    }
   ],
   "source": [
    "S(9)"
   ]
  },
  {
   "cell_type": "markdown",
   "metadata": {},
   "source": [
    "¿Cuál sería la probabilidad de que la suma de los dos dados sea $9$:\n",
    "    $$P(S(9))=\\frac{4}{36}$$"
   ]
  },
  {
   "cell_type": "markdown",
   "metadata": {},
   "source": [
    "Observación: \n",
    "    $$\\sum_{i=2}^{12} P(S(i))=1.$$"
   ]
  },
  {
   "cell_type": "markdown",
   "metadata": {},
   "source": [
    "## Otro tipo de eventos"
   ]
  },
  {
   "cell_type": "markdown",
   "metadata": {},
   "source": [
    "Sea $T_n$ el evento \"La resta de los dados es mayor que $n$\". Esto es:\n",
    "\n",
    "$$T_n=\\{(i,j)\\in\\Omega:i-j\\geq n\\}.$$"
   ]
  },
  {
   "cell_type": "code",
   "execution_count": 7,
   "metadata": {},
   "outputs": [],
   "source": [
    "def T(n):\n",
    "    Tn=[(i,j) for i in range(1,7) for j in range(1,7) if i-j>=n]\n",
    "    return Tn"
   ]
  },
  {
   "cell_type": "code",
   "execution_count": 8,
   "metadata": {},
   "outputs": [
    {
     "data": {
      "text/plain": [
       "[(3, 1),\n",
       " (4, 1),\n",
       " (4, 2),\n",
       " (5, 1),\n",
       " (5, 2),\n",
       " (5, 3),\n",
       " (6, 1),\n",
       " (6, 2),\n",
       " (6, 3),\n",
       " (6, 4)]"
      ]
     },
     "execution_count": 8,
     "metadata": {},
     "output_type": "execute_result"
    }
   ],
   "source": [
    "T(2)"
   ]
  },
  {
   "cell_type": "markdown",
   "metadata": {},
   "source": [
    "## 2. La variable aleatoria asociada a $S_{n}$"
   ]
  },
  {
   "cell_type": "markdown",
   "metadata": {},
   "source": [
    "## 2.1 Definición de función de probabilidad"
   ]
  },
  {
   "cell_type": "code",
   "execution_count": 9,
   "metadata": {},
   "outputs": [],
   "source": [
    "from fractions import Fraction"
   ]
  },
  {
   "cell_type": "code",
   "execution_count": 10,
   "metadata": {},
   "outputs": [],
   "source": [
    "def P(A):\n",
    "    P = Fraction(len(A), len(Omega))\n",
    "    return P"
   ]
  },
  {
   "cell_type": "code",
   "execution_count": 11,
   "metadata": {},
   "outputs": [],
   "source": [
    "S = {(i,j) : i+j for i,j in Omega}"
   ]
  },
  {
   "cell_type": "code",
   "execution_count": 12,
   "metadata": {},
   "outputs": [],
   "source": [
    "from collections import defaultdict\n",
    "\n",
    "dS = defaultdict(set)"
   ]
  },
  {
   "cell_type": "code",
   "execution_count": 13,
   "metadata": {},
   "outputs": [],
   "source": [
    "for i, j in S.items():\n",
    "        \n",
    "    dS[j].add(i)"
   ]
  },
  {
   "cell_type": "code",
   "execution_count": 14,
   "metadata": {},
   "outputs": [
    {
     "data": {
      "text/plain": [
       "[(4, {(1, 3), (2, 2), (3, 1)}),\n",
       " (12, {(6, 6)}),\n",
       " (11, {(5, 6), (6, 5)}),\n",
       " (3, {(1, 2), (2, 1)}),\n",
       " (8, {(2, 6), (3, 5), (4, 4), (5, 3), (6, 2)}),\n",
       " (7, {(1, 6), (2, 5), (3, 4), (4, 3), (5, 2), (6, 1)}),\n",
       " (6, {(1, 5), (2, 4), (3, 3), (4, 2), (5, 1)}),\n",
       " (10, {(4, 6), (5, 5), (6, 4)}),\n",
       " (9, {(3, 6), (4, 5), (5, 4), (6, 3)}),\n",
       " (5, {(1, 4), (2, 3), (3, 2), (4, 1)}),\n",
       " (2, {(1, 1)})]"
      ]
     },
     "execution_count": 14,
     "metadata": {},
     "output_type": "execute_result"
    }
   ],
   "source": [
    "list(dS.items())"
   ]
  },
  {
   "cell_type": "code",
   "execution_count": 15,
   "metadata": {},
   "outputs": [
    {
     "data": {
      "text/plain": [
       "{4: Fraction(1, 12),\n",
       " 12: Fraction(1, 36),\n",
       " 11: Fraction(1, 18),\n",
       " 3: Fraction(1, 18),\n",
       " 8: Fraction(5, 36),\n",
       " 7: Fraction(1, 6),\n",
       " 6: Fraction(5, 36),\n",
       " 10: Fraction(1, 12),\n",
       " 9: Fraction(1, 9),\n",
       " 5: Fraction(1, 9),\n",
       " 2: Fraction(1, 36)}"
      ]
     },
     "execution_count": 15,
     "metadata": {},
     "output_type": "execute_result"
    }
   ],
   "source": [
    "leyS = {i : P(A) for i, A in dS.items() }\n",
    "\n",
    "leyS"
   ]
  },
  {
   "cell_type": "markdown",
   "metadata": {},
   "source": [
    "## 2.2 Ley de una variable aleatoria"
   ]
  },
  {
   "cell_type": "code",
   "execution_count": 16,
   "metadata": {},
   "outputs": [],
   "source": [
    "import pandas as pd"
   ]
  },
  {
   "cell_type": "markdown",
   "metadata": {},
   "source": [
    "Tenemos una **variable aleatoria** \n",
    "$$S:\\Omega \\to \\{2,3,4,5,6,7,8,9,10,11,12\\}$$\n",
    "\n",
    "La **ley de $S$** (o la distribución de probabilidad) está determinada por la pareja $\\{(k, p_{k}), k\\in\\{2,3,4,5,6,7,8,9,10,11,12 \\} \\}$ en dónde\n",
    "$$p_{k}=\\mathbb{P}(\\{\\omega\\in \\Omega : S(\\omega)=k\\}).$$"
   ]
  },
  {
   "cell_type": "code",
   "execution_count": 17,
   "metadata": {},
   "outputs": [
    {
     "data": {
      "text/plain": [
       "2     1/36\n",
       "3     1/18\n",
       "4     1/12\n",
       "5      1/9\n",
       "6     5/36\n",
       "7      1/6\n",
       "8     5/36\n",
       "9      1/9\n",
       "10    1/12\n",
       "11    1/18\n",
       "12    1/36\n",
       "dtype: object"
      ]
     },
     "execution_count": 17,
     "metadata": {},
     "output_type": "execute_result"
    }
   ],
   "source": [
    "ley_S = pd.Series(leyS)\n",
    "ley_S.sort_index()"
   ]
  },
  {
   "cell_type": "code",
   "execution_count": 18,
   "metadata": {},
   "outputs": [],
   "source": [
    "import numpy as np\n",
    "\n",
    "def leyS(i):\n",
    "    \n",
    "    if i in range(2,13):\n",
    "        x = ley_S[i]\n",
    "    else:\n",
    "        x = 0\n",
    "    \n",
    "    return x"
   ]
  },
  {
   "cell_type": "code",
   "execution_count": 19,
   "metadata": {},
   "outputs": [],
   "source": [
    "rango_S = [k for k in range(2,13)]\n",
    "\n",
    "p_k = [float(leyS(k)) for k in range(2,13)]"
   ]
  },
  {
   "cell_type": "code",
   "execution_count": 20,
   "metadata": {},
   "outputs": [
    {
     "data": {
      "text/html": [
       "<div>\n",
       "<style scoped>\n",
       "    .dataframe tbody tr th:only-of-type {\n",
       "        vertical-align: middle;\n",
       "    }\n",
       "\n",
       "    .dataframe tbody tr th {\n",
       "        vertical-align: top;\n",
       "    }\n",
       "\n",
       "    .dataframe thead th {\n",
       "        text-align: right;\n",
       "    }\n",
       "</style>\n",
       "<table border=\"1\" class=\"dataframe\">\n",
       "  <thead>\n",
       "    <tr style=\"text-align: right;\">\n",
       "      <th></th>\n",
       "      <th>rango</th>\n",
       "      <th>densidad</th>\n",
       "    </tr>\n",
       "  </thead>\n",
       "  <tbody>\n",
       "    <tr>\n",
       "      <th>S_2</th>\n",
       "      <td>2</td>\n",
       "      <td>0.027778</td>\n",
       "    </tr>\n",
       "    <tr>\n",
       "      <th>S_3</th>\n",
       "      <td>3</td>\n",
       "      <td>0.055556</td>\n",
       "    </tr>\n",
       "    <tr>\n",
       "      <th>S_4</th>\n",
       "      <td>4</td>\n",
       "      <td>0.083333</td>\n",
       "    </tr>\n",
       "    <tr>\n",
       "      <th>S_5</th>\n",
       "      <td>5</td>\n",
       "      <td>0.111111</td>\n",
       "    </tr>\n",
       "    <tr>\n",
       "      <th>S_6</th>\n",
       "      <td>6</td>\n",
       "      <td>0.138889</td>\n",
       "    </tr>\n",
       "    <tr>\n",
       "      <th>S_7</th>\n",
       "      <td>7</td>\n",
       "      <td>0.166667</td>\n",
       "    </tr>\n",
       "    <tr>\n",
       "      <th>S_8</th>\n",
       "      <td>8</td>\n",
       "      <td>0.138889</td>\n",
       "    </tr>\n",
       "    <tr>\n",
       "      <th>S_9</th>\n",
       "      <td>9</td>\n",
       "      <td>0.111111</td>\n",
       "    </tr>\n",
       "    <tr>\n",
       "      <th>S_10</th>\n",
       "      <td>10</td>\n",
       "      <td>0.083333</td>\n",
       "    </tr>\n",
       "    <tr>\n",
       "      <th>S_11</th>\n",
       "      <td>11</td>\n",
       "      <td>0.055556</td>\n",
       "    </tr>\n",
       "    <tr>\n",
       "      <th>S_12</th>\n",
       "      <td>12</td>\n",
       "      <td>0.027778</td>\n",
       "    </tr>\n",
       "  </tbody>\n",
       "</table>\n",
       "</div>"
      ],
      "text/plain": [
       "      rango  densidad\n",
       "S_2       2  0.027778\n",
       "S_3       3  0.055556\n",
       "S_4       4  0.083333\n",
       "S_5       5  0.111111\n",
       "S_6       6  0.138889\n",
       "S_7       7  0.166667\n",
       "S_8       8  0.138889\n",
       "S_9       9  0.111111\n",
       "S_10     10  0.083333\n",
       "S_11     11  0.055556\n",
       "S_12     12  0.027778"
      ]
     },
     "execution_count": 20,
     "metadata": {},
     "output_type": "execute_result"
    }
   ],
   "source": [
    "lS = pd.DataFrame(list(zip(rango_S, p_k)), index=[f\"S_{i}\" for i in range(2,13)],\n",
    "               columns =['rango', 'densidad'])\n",
    "lS "
   ]
  },
  {
   "cell_type": "code",
   "execution_count": 21,
   "metadata": {},
   "outputs": [
    {
     "data": {
      "text/plain": [
       "<AxesSubplot:xlabel='rango'>"
      ]
     },
     "execution_count": 21,
     "metadata": {},
     "output_type": "execute_result"
    },
    {
     "data": {
      "image/png": "[encoded data removed]",
      "text/plain": [
       "<Figure size 432x288 with 1 Axes>"
      ]
     },
     "metadata": {
      "needs_background": "light"
     },
     "output_type": "display_data"
    }
   ],
   "source": [
    "lS.plot.bar(x = 'rango', y='densidad')"
   ]
  },
  {
   "cell_type": "markdown",
   "metadata": {},
   "source": [
    "## 3. Lanzamiento de una moneda"
   ]
  },
  {
   "cell_type": "markdown",
   "metadata": {},
   "source": [
    "*Se tiene el siguiente experimento aleatorio:* Se lanzan, de manera independiente, 3 monedas justas. Sean $A=\\{\\text{cae águila}\\}$ y $B=\\{ \\text{cae sol}\\}$.\n",
    "\n",
    "Entonces, el espacio de estados es\n",
    "$$\\Omega=\\{A, S\\}\\times \\{A, S\\} \\times \\{A, S\\}.$$"
   ]
  },
  {
   "cell_type": "markdown",
   "metadata": {},
   "source": [
    "La cardinalidad de $\\Omega$ es $\\# \\Omega=2^{3}=8.$"
   ]
  },
  {
   "cell_type": "code",
   "execution_count": 22,
   "metadata": {},
   "outputs": [
    {
     "data": {
      "text/plain": [
       "{('A', 'A', 'A'),\n",
       " ('A', 'A', 'S'),\n",
       " ('A', 'S', 'A'),\n",
       " ('A', 'S', 'S'),\n",
       " ('S', 'A', 'A'),\n",
       " ('S', 'A', 'S'),\n",
       " ('S', 'S', 'A'),\n",
       " ('S', 'S', 'S')}"
      ]
     },
     "execution_count": 22,
     "metadata": {},
     "output_type": "execute_result"
    }
   ],
   "source": [
    "from itertools import product\n",
    "\n",
    "Omega = set(product([\"A\", \"S\"], repeat=3))\n",
    "Omega"
   ]
  },
  {
   "cell_type": "markdown",
   "metadata": {},
   "source": [
    "Consideremos el evento $E:$ la cara de las tres monedas es \"águila\". En este caso, si se denota por $A_{i}$ al evento: el resultado del $i$-ésimo lanzamiento es *águila*, para $i=1,2,3$, entonces\n",
    "$$E=A_{1}\\cap A_{2}\\cap A_{3}.$$"
   ]
  },
  {
   "cell_type": "markdown",
   "metadata": {},
   "source": [
    "Representemos a los conjuntos $A_{i}$:"
   ]
  },
  {
   "cell_type": "code",
   "execution_count": 23,
   "metadata": {},
   "outputs": [
    {
     "data": {
      "text/plain": [
       "{('A', 'A', 'A'), ('A', 'A', 'S'), ('A', 'S', 'A'), ('A', 'S', 'S')}"
      ]
     },
     "execution_count": 23,
     "metadata": {},
     "output_type": "execute_result"
    }
   ],
   "source": [
    "A_1 = {om for om in Omega if om[0]== \"A\"}\n",
    "\n",
    "A_1"
   ]
  },
  {
   "cell_type": "code",
   "execution_count": 24,
   "metadata": {},
   "outputs": [
    {
     "data": {
      "text/plain": [
       "{('A', 'A', 'A'), ('A', 'A', 'S'), ('S', 'A', 'A'), ('S', 'A', 'S')}"
      ]
     },
     "execution_count": 24,
     "metadata": {},
     "output_type": "execute_result"
    }
   ],
   "source": [
    "A_2 = {om for om in Omega if om[1]== \"A\"}\n",
    "\n",
    "A_2"
   ]
  },
  {
   "cell_type": "code",
   "execution_count": 25,
   "metadata": {},
   "outputs": [
    {
     "data": {
      "text/plain": [
       "{('A', 'A', 'A'), ('A', 'S', 'A'), ('S', 'A', 'A'), ('S', 'S', 'A')}"
      ]
     },
     "execution_count": 25,
     "metadata": {},
     "output_type": "execute_result"
    }
   ],
   "source": [
    "A_3 = {om for om in Omega if om[2]== \"A\"}\n",
    "\n",
    "A_3"
   ]
  },
  {
   "cell_type": "markdown",
   "metadata": {},
   "source": [
    "El evento $E$ está representado como:"
   ]
  },
  {
   "cell_type": "code",
   "execution_count": 26,
   "metadata": {},
   "outputs": [
    {
     "data": {
      "text/plain": [
       "{('A', 'A', 'A')}"
      ]
     },
     "execution_count": 26,
     "metadata": {},
     "output_type": "execute_result"
    }
   ],
   "source": [
    "E = A_1.intersection(A_2.intersection(A_3))\n",
    "\n",
    "E"
   ]
  },
  {
   "cell_type": "markdown",
   "metadata": {},
   "source": [
    "El evento $E$ también puede se representado usando el método `.count`"
   ]
  },
  {
   "cell_type": "code",
   "execution_count": 27,
   "metadata": {},
   "outputs": [
    {
     "data": {
      "text/plain": [
       "{('A', 'A', 'A')}"
      ]
     },
     "execution_count": 27,
     "metadata": {},
     "output_type": "execute_result"
    }
   ],
   "source": [
    "E = {om for om in Omega if om.count(\"A\")==3}\n",
    "\n",
    "E"
   ]
  },
  {
   "cell_type": "markdown",
   "metadata": {},
   "source": [
    "Por lo tanto,"
   ]
  },
  {
   "cell_type": "code",
   "execution_count": 28,
   "metadata": {},
   "outputs": [
    {
     "data": {
      "text/plain": [
       "Fraction(1, 8)"
      ]
     },
     "execution_count": 28,
     "metadata": {},
     "output_type": "execute_result"
    }
   ],
   "source": [
    "P(E)"
   ]
  },
  {
   "cell_type": "markdown",
   "metadata": {},
   "source": [
    "En esta situación, podemos calcular la probabilidad del evento $F$: cae águila en el primero y segundo lanzamiento."
   ]
  },
  {
   "cell_type": "code",
   "execution_count": 29,
   "metadata": {},
   "outputs": [
    {
     "data": {
      "text/plain": [
       "Fraction(1, 4)"
      ]
     },
     "execution_count": 29,
     "metadata": {},
     "output_type": "execute_result"
    }
   ],
   "source": [
    "F = A_1.intersection(A_2.intersection(Omega))\n",
    "\n",
    "P(F)"
   ]
  },
  {
   "cell_type": "markdown",
   "metadata": {},
   "source": [
    "## 3.1 Probabilidad condicional e independencia."
   ]
  },
  {
   "cell_type": "markdown",
   "metadata": {},
   "source": [
    "La probabilidad condicional, explica cómo cambia la probabilidad de un evento dado que se conoce la probabilidad de otro evento sujeto a las mismas condiciones."
   ]
  },
  {
   "cell_type": "markdown",
   "metadata": {},
   "source": [
    "**Definición.-** Sea $(\\Omega,\\mathcal{A},\\mathbb{P})$ un espacio de probabilidad y $F\\subset \\Omega$ un evento asociado a cierto experimento aleatorio. Si $\\mathbb{P}(F)>0$ (es decir, si $F$ ocurre con probabilidad positiva), entonces es posible considerar un nuevo espacio de probabilidad en donde el espacio muestral sea ahora $(F,\\mathcal{A}_{F}=\\mathcal{A}\\cap F,\\mathbb{P}(\\bullet \\mid F))$, en donde la función de probabilidad se define como:\n",
    "$$\\mathbb{P}(E\\mid F)=\\frac{\\mathbb{P}(E\\cap F)}{\\mathbb{P}(F)},$$\n",
    "para todo $E\\in \\mathcal{A}_{B}$."
   ]
  },
  {
   "cell_type": "code",
   "execution_count": 30,
   "metadata": {},
   "outputs": [],
   "source": [
    "def P_cond(E, F):\n",
    "    return Fraction(len(E & F), len(F))"
   ]
  },
  {
   "cell_type": "markdown",
   "metadata": {},
   "source": [
    "Consideremos el evento en $\\Omega$: \"El resultado del primer lanzamiento fue águila\". Sabemos que tal evento está representado por $A_1$. Podemos preguntarnos entonces sobre la probabilidad del evento $E$ dada la ocurrencia del evento $E_{1}$."
   ]
  },
  {
   "cell_type": "code",
   "execution_count": 31,
   "metadata": {},
   "outputs": [
    {
     "data": {
      "text/plain": [
       "Fraction(1, 4)"
      ]
     },
     "execution_count": 31,
     "metadata": {},
     "output_type": "execute_result"
    }
   ],
   "source": [
    "P_cond(E, A_1)"
   ]
  },
  {
   "cell_type": "markdown",
   "metadata": {},
   "source": [
    "Tratemos de contestar a la siguiente pregunta: ¿Cuál es la probabilidad de que se obtenga \"sol\" en el segundo lanzamiento dado dado que se obtuvo \"águila\" en el primer lanzamiento? "
   ]
  },
  {
   "cell_type": "markdown",
   "metadata": {},
   "source": [
    "Sea $B_2$ el evento: se obtiene \"sol\" en el segundo lanzamiento. Representemos a tal evento:"
   ]
  },
  {
   "cell_type": "code",
   "execution_count": 32,
   "metadata": {},
   "outputs": [
    {
     "data": {
      "text/plain": [
       "{('A', 'S', 'A'), ('A', 'S', 'S'), ('S', 'S', 'A'), ('S', 'S', 'S')}"
      ]
     },
     "execution_count": 32,
     "metadata": {},
     "output_type": "execute_result"
    }
   ],
   "source": [
    "B_2 = {om for om in Omega if om[1]== \"S\"}\n",
    "\n",
    "B_2"
   ]
  },
  {
   "cell_type": "markdown",
   "metadata": {},
   "source": [
    "Entonces,"
   ]
  },
  {
   "cell_type": "code",
   "execution_count": 33,
   "metadata": {},
   "outputs": [
    {
     "data": {
      "text/plain": [
       "Fraction(1, 2)"
      ]
     },
     "execution_count": 33,
     "metadata": {},
     "output_type": "execute_result"
    }
   ],
   "source": [
    "P_cond(B_2, A_1)"
   ]
  },
  {
   "cell_type": "markdown",
   "metadata": {},
   "source": [
    "Note que,"
   ]
  },
  {
   "cell_type": "code",
   "execution_count": 34,
   "metadata": {},
   "outputs": [
    {
     "data": {
      "text/plain": [
       "True"
      ]
     },
     "execution_count": 34,
     "metadata": {},
     "output_type": "execute_result"
    }
   ],
   "source": [
    "P_cond(B_2, A_1) == 1-P_cond(A_2, A_1)"
   ]
  },
  {
   "cell_type": "markdown",
   "metadata": {},
   "source": [
    "## 3.2 Lanzamiento de monedas injustas (volados)"
   ]
  },
  {
   "cell_type": "markdown",
   "metadata": {},
   "source": [
    "Sin embargo, existe la noción de **modelo de probabilidad frecuentista**: Bajo la hipótesis de que el espacio muestral es un conjunto finito, podemos definir la siguiente probabilidad asociada a un evento $A$\n",
    "$$f_{n}(A)=\\frac{n(A)}{n}$$\n",
    "en donde $n(A)$ denota al número de veces que ocurre $A$.\n",
    "\n",
    "Tenemos que \n",
    "$$f(A):=\\lim_{n\\to \\infty}f_{n}(A)$$\n",
    "tal modelo es más realista."
   ]
  },
  {
   "cell_type": "code",
   "execution_count": 35,
   "metadata": {},
   "outputs": [],
   "source": [
    "import random"
   ]
  },
  {
   "cell_type": "code",
   "execution_count": 36,
   "metadata": {},
   "outputs": [],
   "source": [
    "def volado(p):\n",
    "    return 'sol' if random.random() < p else 'águila'"
   ]
  },
  {
   "cell_type": "markdown",
   "metadata": {},
   "source": [
    "Por ejemplo, si la moneda tiene carga en $A$ igual a $0.4$, podemos realizar una sucesión de lanzamientos y obtener las veces que cae \"águila\""
   ]
  },
  {
   "cell_type": "code",
   "execution_count": 37,
   "metadata": {},
   "outputs": [
    {
     "data": {
      "text/plain": [
       "'águila'"
      ]
     },
     "execution_count": 37,
     "metadata": {},
     "output_type": "execute_result"
    }
   ],
   "source": [
    "volado(0.4)"
   ]
  },
  {
   "cell_type": "code",
   "execution_count": 38,
   "metadata": {},
   "outputs": [
    {
     "data": {
      "text/plain": [
       "['águila',\n",
       " 'águila',\n",
       " 'sol',\n",
       " 'águila',\n",
       " 'sol',\n",
       " 'águila',\n",
       " 'sol',\n",
       " 'águila',\n",
       " 'águila',\n",
       " 'águila']"
      ]
     },
     "execution_count": 38,
     "metadata": {},
     "output_type": "execute_result"
    }
   ],
   "source": [
    "a = [volado(0.4) for i in range(10)]\n",
    "\n",
    "a"
   ]
  },
  {
   "cell_type": "code",
   "execution_count": 39,
   "metadata": {},
   "outputs": [
    {
     "data": {
      "text/plain": [
       "3"
      ]
     },
     "execution_count": 39,
     "metadata": {},
     "output_type": "execute_result"
    }
   ],
   "source": [
    "a.count(\"sol\")"
   ]
  },
  {
   "cell_type": "code",
   "execution_count": 40,
   "metadata": {},
   "outputs": [
    {
     "data": {
      "text/plain": [
       "['sol', 'sol', 'sol', 'sol', 'sol', 'sol', 'sol', 'águila', 'águila', 'sol']"
      ]
     },
     "execution_count": 40,
     "metadata": {},
     "output_type": "execute_result"
    }
   ],
   "source": [
    "resultados = []\n",
    "\n",
    "for i in range(10):\n",
    "        resultado = volado(0.7)\n",
    "        resultados.append(resultado)\n",
    "        \n",
    "resultados"
   ]
  },
  {
   "cell_type": "code",
   "execution_count": 41,
   "metadata": {},
   "outputs": [
    {
     "data": {
      "text/plain": [
       "8"
      ]
     },
     "execution_count": 41,
     "metadata": {},
     "output_type": "execute_result"
    }
   ],
   "source": [
    "resultados.count(\"sol\")"
   ]
  },
  {
   "cell_type": "code",
   "execution_count": 42,
   "metadata": {},
   "outputs": [
    {
     "name": "stdout",
     "output_type": "stream",
     "text": [
      "Probabilidad 0.624\n"
     ]
    }
   ],
   "source": [
    "p = []\n",
    " \n",
    "for i in range(1000):\n",
    "     \n",
    "    \n",
    "    N = 10\n",
    "    \n",
    "    resultados =[]\n",
    "    \n",
    "    for i in range(N):\n",
    "        resultado = volado(0.63)\n",
    "        \n",
    "        resultados.append(resultado)\n",
    "        \n",
    "    n_soles = resultados.count(\"sol\")\n",
    "    p_soles = n_soles/N\n",
    "    p.append(p_soles)\n",
    " \n",
    "# probabilidad promedio\n",
    "p_soles_ = sum(p)/1000\n",
    " \n",
    "print(\"Probabilidad {:.3f}\".format(p_soles_))\n"
   ]
  },
  {
   "cell_type": "markdown",
   "metadata": {},
   "source": [
    "## 4. Urnas "
   ]
  },
  {
   "cell_type": "markdown",
   "metadata": {},
   "source": [
    "Una urna contiene $23$ bolas: $8$ blancas $(W)$, $6$ azúles $(B)$, and $9$ rojas $(R)$. Seleccionamos $6$ bolas al azar. Calculemos la probabilidad de los siguientes eventos:\n",
    "1. todas sean rojas.\n",
    "2. $3$ sean azules, $2$ sean blancas, and $1$ sea roja.\n",
    "3. exactamente $4$ sean blancas."
   ]
  },
  {
   "cell_type": "markdown",
   "metadata": {},
   "source": [
    "Primero, etiquetamos cada bola en la urna:"
   ]
  },
  {
   "cell_type": "code",
   "execution_count": 43,
   "metadata": {},
   "outputs": [],
   "source": [
    "def conc(A, B):\n",
    "\n",
    "    return {a + b \n",
    "            for a in A for b in B}"
   ]
  },
  {
   "cell_type": "code",
   "execution_count": 44,
   "metadata": {},
   "outputs": [
    {
     "data": {
      "text/plain": [
       "{'B1',\n",
       " 'B2',\n",
       " 'B3',\n",
       " 'B4',\n",
       " 'B5',\n",
       " 'B6',\n",
       " 'R1',\n",
       " 'R2',\n",
       " 'R3',\n",
       " 'R4',\n",
       " 'R5',\n",
       " 'R6',\n",
       " 'R7',\n",
       " 'R8',\n",
       " 'R9',\n",
       " 'W1',\n",
       " 'W2',\n",
       " 'W3',\n",
       " 'W4',\n",
       " 'W5',\n",
       " 'W6',\n",
       " 'W7',\n",
       " 'W8'}"
      ]
     },
     "execution_count": 44,
     "metadata": {},
     "output_type": "execute_result"
    }
   ],
   "source": [
    "urna = conc('W', '12345678') | conc('B', '123456') | conc('R', '123456789') \n",
    "\n",
    "urna"
   ]
  },
  {
   "cell_type": "code",
   "execution_count": 45,
   "metadata": {},
   "outputs": [
    {
     "data": {
      "text/plain": [
       "23"
      ]
     },
     "execution_count": 45,
     "metadata": {},
     "output_type": "execute_result"
    }
   ],
   "source": [
    "len(urna)"
   ]
  },
  {
   "cell_type": "markdown",
   "metadata": {},
   "source": [
    "A continuación, vamos a definir nuestro **espacio de estados**. El método `itertools.combinations(iterable, r)`:\n",
    "    \n",
    "Retorna subsecuencias de longitud $r$ con elementos del iterable de entrada.\n",
    "\n",
    "Las tuplas de combinación se emiten en orden lexicográfico según el orden de la entrada iterable. Entonces, si la entrada iterable está ordenada, las tuplas de combinación se producirán en una secuencia ordenada.\n",
    "\n",
    "Los elementos son tratados como únicos basados en su posición, no en su valor. De esta manera, si los elementos de entrada son únicos, no habrá valores repetidos en cada combinación"
   ]
  },
  {
   "cell_type": "code",
   "execution_count": 46,
   "metadata": {},
   "outputs": [],
   "source": [
    "import itertools\n",
    "\n",
    "def comb(items, n):\n",
    "\n",
    "    return {' '.join(combo) \n",
    "            for combo in itertools.combinations(items, n)}"
   ]
  },
  {
   "cell_type": "markdown",
   "metadata": {},
   "source": [
    "Seleccionamos $6$ bolas de la urna:"
   ]
  },
  {
   "cell_type": "code",
   "execution_count": 47,
   "metadata": {},
   "outputs": [],
   "source": [
    "Omega = comb(urna, 6)"
   ]
  },
  {
   "cell_type": "code",
   "execution_count": 48,
   "metadata": {},
   "outputs": [
    {
     "data": {
      "text/plain": [
       "100947"
      ]
     },
     "execution_count": 48,
     "metadata": {},
     "output_type": "execute_result"
    }
   ],
   "source": [
    "len(Omega)"
   ]
  },
  {
   "cell_type": "markdown",
   "metadata": {},
   "source": [
    "### Solución a 1."
   ]
  },
  {
   "cell_type": "code",
   "execution_count": 49,
   "metadata": {},
   "outputs": [
    {
     "data": {
      "text/plain": [
       "Fraction(4, 4807)"
      ]
     },
     "execution_count": 49,
     "metadata": {},
     "output_type": "execute_result"
    }
   ],
   "source": [
    "R6 = {s for s in Omega if s.count('R') == 6}\n",
    "\n",
    "P(R6)"
   ]
  },
  {
   "cell_type": "markdown",
   "metadata": {},
   "source": [
    "### Solución a 2."
   ]
  },
  {
   "cell_type": "code",
   "execution_count": 50,
   "metadata": {},
   "outputs": [
    {
     "data": {
      "text/plain": [
       "Fraction(240, 4807)"
      ]
     },
     "execution_count": 50,
     "metadata": {},
     "output_type": "execute_result"
    }
   ],
   "source": [
    "B3W2R1 = {s for s in Omega if\n",
    "          s.count('B') == 3 and s.count('W') == 2 and s.count('R') == 1}\n",
    "\n",
    "P(B3W2R1)"
   ]
  },
  {
   "cell_type": "markdown",
   "metadata": {},
   "source": [
    "### Solución a 3."
   ]
  },
  {
   "cell_type": "code",
   "execution_count": 51,
   "metadata": {},
   "outputs": [
    {
     "data": {
      "text/plain": [
       "Fraction(350, 4807)"
      ]
     },
     "execution_count": 51,
     "metadata": {},
     "output_type": "execute_result"
    }
   ],
   "source": [
    "W4 = {s for s in Omega if\n",
    "      s.count('W') == 4}\n",
    "\n",
    "P(W4)"
   ]
  },
  {
   "cell_type": "code",
   "execution_count": null,
   "metadata": {},
   "outputs": [],
   "source": []
  },
  {
   "cell_type": "markdown",
   "metadata": {},
   "source": [
    "Se tienen $2$ urnas, cada una de las cuales contiene $10$ bolas numeradas del $1$ al $10$. Un experimento\n",
    "aleatorio consiste en seleccionar al azar una bola de cada urna. Calcula la probabilidad de que los números de las dos bolas seleccionadas difieran por $2$ o más.\n",
    "\n",
    "<p style=\"color:red;\">Solución. \n",
    "    \n",
    " Se tiene que el espacio muestral asociado al experimento aleatorio es $\\Omega=\\{1,2,\\dots,10\\}\\times \\{1,2,\\dots,10\\}$. La forma de visualizar a $\\Omega$ es por medio del siguiente arreglo:\n",
    "$$\\Omega=\\left(\\begin{array}{ccccc}\n",
    "(1,1) & (1,2) & \\cdots & (1,10) \\\\\n",
    "(2,1) & (2,2) & \\cdots & (2,10) \\\\\n",
    "\\vdots & \\vdots & \\ddots  & \\vdots \\\\\n",
    "(9,1) & (9,2) & \\cdots & (9,10) \\\\\n",
    "(10,1) & (10,2) & \\cdots & (10,10) \\end{array} \\right).$$ \n",
    "    \n",
    "Se observa que $|\\Omega|=100$. \n",
    "\n",
    "Considere el siguiente evento:\n",
    "\n",
    "$A:$ el evento \"el número de las bolas seleccionadas difiere por $2$ o más\". \n",
    "\n",
    "Entonces, el conjunto asociado al evento $A$ es:\n",
    "$$A=\\{(i,j)\\in \\Omega \\ | \\ |i-j|\\geq 2\\}.$$\n",
    " \n",
    "Para $k\\in \\{1,2,\\dots, 8\\}$ fijo, denotemos también por $A^{k}$ al evento de $A$ dado por:\n",
    "\n",
    "$$A^{k}=\\{j\\in \\{1,\\dots, 10\\} \\ | \\ j-k\\geq 2 \\}.$$\n",
    "\n",
    "Entonces, \n",
    "\\begin{align*}\n",
    "A^{1}&=\\{(1,3),(1,4), (1,5), (1,6), (1,7), (1,8), (1,9), (1,10)\\}\\\\\n",
    "A^{2}&=\\{(2,4), (2,5), (2,6), (2,7), (2,8), (2,9), (2,10)\\}\\\\\n",
    "A^{3}&=\\{(3,5), (3,6), (3,7), (3,8), (3,9), (3,10)\\}\\\\\n",
    "A^{4}&=\\{(4,6), (4,7), (4,8), (4,9), (4,10)\\}\\\\\n",
    "A^{5}&=\\{(5,7), (5,8), (5,9), (5,10)\\}\\\\\n",
    "A^{6}&=\\{(6,8), (6,9), (6,10)\\}\\\\\n",
    "A^{7}&=\\{(7,9), (7,10)\\}\\\\\n",
    "A^{8}&=\\{(8,10)\\}\\\\\n",
    "\\end{align*} \n",
    "\n",
    "Para $\\ell\\in \\{3,\\dots, 10\\}$ fijo, denotemos también por $A_{\\ell}$ al evento de $A$ dado por:\n",
    "\n",
    "$$A_{\\ell}=\\{i\\in \\{1,\\dots, 10\\} \\ | \\ \\ell-i\\geq 2 \\}.$$\n",
    "\n",
    "Entonces, \n",
    "\\begin{align*}\n",
    "A_{3}&=\\{(3,1)\\}\\\\\n",
    "A_{4}&=\\{(4,1), (4,2)\\}\\\\\n",
    "A_{5}&=\\{(5,1), (5,2), (5,3)\\}\\\\\n",
    "A_{6}&=\\{(6,1), (6,2), (6,3), (6,4)\\}\\\\\n",
    "A_{7}&=\\{(7,1), (7,2), (7,3), (7,4), (7,5)\\}\\\\\n",
    "A_{8}&=\\{(8,1), (8,2), (8,3), (8,4), (8,5), (8,6)\\}\\\\\n",
    "A_{9}&=\\{(9,1), (9,2), (9,3), (9,4), (9,5), (9,6), (9,7)\\}\\\\\n",
    "A_{10}&=\\{(10,1), (10,2), (10,3), (10,4), (10,5), (10,6), (10,7), (10,8)\\}\\\n",
    "\\end{align*} \n",
    "\n",
    "Note la siguiente igualdad:\n",
    "$$A=\\bigcup_{k=1}^{8}A^{k}\\cup \\bigcup_{\\ell=3}^{10}A_{\\ell}.$$\n",
    "\n",
    "Observe también lo siguiente:\n",
    "\\begin{align*}\n",
    "\\#A^{1}&=\\#A_{10}=8\\\\\n",
    "\\#A^{2}&=\\#A_{9}=7\\\\\n",
    "\\#A^{3}&=\\#A_{8}=6\\\\\n",
    "\\#A^{4}&=\\#A_{7}=5\\\\\n",
    "\\#A^{5}&=\\#A_{6}=4\\\\\n",
    "\\#A^{6}&=\\#A_{5}=3\\\\\n",
    "\\#A^{7}&=\\#A_{4}=2\\\\\n",
    "\\#A^{8}&=\\#A_{3}=1.\n",
    "\\end{align*}\n",
    "\n",
    "De esta forma, \n",
    "\\begin{align*} \n",
    "\\#A&=\\sum_{k=1}^{8}\\#A^{k}+\\sum_{\\ell=3}^{10}\\#A_{\\ell}\\\\\n",
    "&=8+7+6+5+4+3+2+1+1+2+3+4+5+6+7+8\\\\\n",
    "&=2\\left(\\frac{8\\times 9}{2}\\right)\\\\\n",
    "&=72.\n",
    "\\end{align*} \n",
    "\n",
    "Finalmente, ya que estamos en un espacio de probabilidad de Laplace,\n",
    "$$\\mathbb{P}(A)=\\frac{\\#A}{\\#\\Omega}=\\frac{72}{100}.$$\n",
    "\n",
    "Una solución del problema que resulta ser más eficaz es usando la propiedad de que, en cualquier espacio de probabilidad (en nuestra situación nos encontramos en un espacio de Laplace), se cumple\n",
    "$$\\mathbb{P}(A^{c})=1-\\mathbb{P}(A).$$\n",
    "\n",
    "Aquí, el evento \"no sucede A\", como conjunto, tiene la forma\n",
    "$$A^{c}=\\{(i,j)\\in \\Omega \\ | \\ |i-j|\\leq 1 \\}.$$\n",
    "En este caso,\n",
    "$$A^{c}=\\bigcup_{i=1}^{10}\\{(i,i)\\}\\cup \\bigcup_{i=1}^{9}\\left(\\{(i,i+1) \\}\\cup \\{(i+1,i)\\}\\right).$$\n",
    "Por lo tanto, \n",
    "$$\\#A^{c}=10+9+9=28,$$\n",
    "y\n",
    "$$\\mathbb{P}(A^{c})=1-\\frac{28}{100}=\\frac{72}{100}.$$"
   ]
  },
  {
   "cell_type": "code",
   "execution_count": 52,
   "metadata": {},
   "outputs": [
    {
     "data": {
      "text/plain": [
       "100"
      ]
     },
     "execution_count": 52,
     "metadata": {},
     "output_type": "execute_result"
    }
   ],
   "source": [
    "from itertools import product\n",
    "\n",
    "Omega = set(product([i for i in range(1,11)], repeat=2))\n",
    "\n",
    "len(Omega)"
   ]
  },
  {
   "cell_type": "code",
   "execution_count": 53,
   "metadata": {},
   "outputs": [
    {
     "data": {
      "text/plain": [
       "Fraction(18, 25)"
      ]
     },
     "execution_count": 53,
     "metadata": {},
     "output_type": "execute_result"
    }
   ],
   "source": [
    "A = {(i, j) for i,j in Omega if abs(i-j)>=2}\n",
    "\n",
    "P(A)"
   ]
  },
  {
   "cell_type": "code",
   "execution_count": null,
   "metadata": {},
   "outputs": [],
   "source": []
  }
 ],
 "metadata": {
  "kernelspec": {
   "display_name": "Python 3",
   "language": "python",
   "name": "python3"
  },
  "language_info": {
   "codemirror_mode": {
    "name": "ipython",
    "version": 3
   },
   "file_extension": ".py",
   "mimetype": "text/x-python",
   "name": "python",
   "nbconvert_exporter": "python",
   "pygments_lexer": "ipython3",
   "version": "3.7.6"
  }
 },
 "nbformat": 4,
 "nbformat_minor": 4
}
