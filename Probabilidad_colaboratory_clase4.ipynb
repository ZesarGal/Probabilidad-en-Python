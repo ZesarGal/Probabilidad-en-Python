{
 "cells": [
  {
   "cell_type": "markdown",
   "metadata": {
    "id": "Z_FSuZ5YVnqP"
   },
   "source": [
    "## Módulo Random"
   ]
  },
  {
   "cell_type": "markdown",
   "metadata": {
    "id": "36TcaHAcXRW_"
   },
   "source": [
    "El módulo random implementa un generador de números pseudo-aleatorios"
   ]
  },
  {
   "cell_type": "code",
   "execution_count": 2,
   "metadata": {
    "id": "EoQ0_dGUYPaJ"
   },
   "outputs": [],
   "source": [
    "import random"
   ]
  },
  {
   "cell_type": "code",
   "execution_count": 3,
   "metadata": {
    "colab": {
     "base_uri": "https://localhost:8080/"
    },
    "id": "GTNaPjaFYpTd",
    "outputId": "faf882bc-d370-4afb-f840-68c92041da2a"
   },
   "outputs": [
    {
     "name": "stdout",
     "output_type": "stream",
     "text": [
      "1\n"
     ]
    }
   ],
   "source": [
    "print(random.randint(0,10)) #número de aleatorio entre 0 y 10 entero"
   ]
  },
  {
   "cell_type": "code",
   "execution_count": 4,
   "metadata": {
    "colab": {
     "base_uri": "https://localhost:8080/"
    },
    "id": "3SHhVt48ZLhb",
    "outputId": "f46a28d8-ebd0-40a1-af8e-88d081009fac"
   },
   "outputs": [
    {
     "data": {
      "text/plain": [
       "96.88022717384965"
      ]
     },
     "execution_count": 4,
     "metadata": {},
     "output_type": "execute_result"
    }
   ],
   "source": [
    "random.random()+random.random()*100 #dos números entre 0 y 1 al poner doble funcion se convierte en un número, y se pueden hace operaciones, son de tipo flotante"
   ]
  },
  {
   "cell_type": "code",
   "execution_count": 5,
   "metadata": {
    "colab": {
     "base_uri": "https://localhost:8080/",
     "height": 35
    },
    "id": "cQJowa3gZ9T1",
    "outputId": "d076a0bc-d43c-47c6-9192-fa575a1efeb1"
   },
   "outputs": [
    {
     "data": {
      "text/plain": [
       "'blanco'"
      ]
     },
     "execution_count": 5,
     "metadata": {},
     "output_type": "execute_result"
    }
   ],
   "source": [
    "random.choice([\"rojo\",\"blanco\",\"verde\"]) #función bivariada, sin poner datos marca error por que tienes que poner rango, se pueden elegir datos de varios tipos: secuencia de números 1,2,3 o \"rojo\", \"blanco\", \"azul\""
   ]
  },
  {
   "cell_type": "code",
   "execution_count": 6,
   "metadata": {
    "id": "nPHzQskCajiX"
   },
   "outputs": [],
   "source": [
    "Lista= [1, 2000, True, False, \"Ray\" ] #valores booleanos aquí, tienen que ser en mayúsculas TRUE, FALSE, caracteres, número"
   ]
  },
  {
   "cell_type": "code",
   "execution_count": 7,
   "metadata": {
    "colab": {
     "base_uri": "https://localhost:8080/",
     "height": 35
    },
    "id": "4JotUzqhbaTO",
    "outputId": "7d043ac7-f1dd-4a0d-a400-7cbb81817e94"
   },
   "outputs": [
    {
     "data": {
      "text/plain": [
       "1"
      ]
     },
     "execution_count": 7,
     "metadata": {},
     "output_type": "execute_result"
    }
   ],
   "source": [
    "random.choice(Lista) #String"
   ]
  },
  {
   "cell_type": "markdown",
   "metadata": {
    "id": "wlGeow1Wb7zo"
   },
   "source": [
    "## Shuffle: se puede usar con probabilidad, es como barajar"
   ]
  },
  {
   "cell_type": "code",
   "execution_count": 8,
   "metadata": {
    "id": "TGeEwYzFcDUF"
   },
   "outputs": [],
   "source": [
    "from random import shuffle "
   ]
  },
  {
   "cell_type": "code",
   "execution_count": 9,
   "metadata": {
    "colab": {
     "base_uri": "https://localhost:8080/"
    },
    "id": "ri065U-yciAs",
    "outputId": "1d6cdc3b-7a2d-4812-d73e-cac922a2759a"
   },
   "outputs": [
    {
     "name": "stdout",
     "output_type": "stream",
     "text": [
      "[[5], [7], [3], [6], [0], [1], [14], [11], [18], [9], [13], [4], [15], [2], [10], [16], [19], [12], [8], [17]]\n"
     ]
    }
   ],
   "source": [
    "A = [[i] for i in range (20 )] #recordemos que las etiquetas comienzan en 0, por eso marca como uno menos al rango establecido, primero crea el vector, luego lo desarregla y luego lo muestra desarreglado\n",
    "random.shuffle(A)\n",
    "print (A)"
   ]
  },
  {
   "cell_type": "code",
   "execution_count": 16,
   "metadata": {},
   "outputs": [
    {
     "name": "stdout",
     "output_type": "stream",
     "text": [
      "[4 2 1 5 3]\n",
      "[5 1 4 3 2]\n"
     ]
    }
   ],
   "source": [
    "\n",
    "import numpy as np\n",
    "\n",
    "arr = np.array([1, 2, 3, 4, 5])\n",
    "\n",
    "random.shuffle(arr)\n",
    "\n",
    "print(arr)\n",
    "print(random.permutation(arr))"
   ]
  },
  {
   "cell_type": "markdown",
   "metadata": {},
   "source": [
    "## Rangos"
   ]
  },
  {
   "cell_type": "markdown",
   "metadata": {
    "id": "guliNRwJegOl"
   },
   "source": [
    "Podemos generar un elemento seleccionado de manera aleatoria a partir de un rango (start, stop, step)"
   ]
  },
  {
   "cell_type": "code",
   "execution_count": 18,
   "metadata": {
    "colab": {
     "base_uri": "https://localhost:8080/"
    },
    "id": "qVIcU-CsfSIq",
    "outputId": "0c3efe20-a9e4-4af3-b1da-88bb03984715"
   },
   "outputs": [
    {
     "name": "stdout",
     "output_type": "stream",
     "text": [
      "57\n",
      "9\n",
      "69\n"
     ]
    }
   ],
   "source": [
    "import random\n",
    "\n",
    "for i in range(3):\n",
    "    print(random.randrange(0,100,3))"
   ]
  },
  {
   "cell_type": "markdown",
   "metadata": {},
   "source": [
    "## Algo de probabilidad"
   ]
  },
  {
   "cell_type": "markdown",
   "metadata": {
    "id": "-bbqmVIIfffZ"
   },
   "source": [
    "Supongamos que lanzamos una moneda justa un cierto número de veces\n",
    "- El espacio muestral $\\Omega=\\{águila,sol\\}^{n}$ (producto cartesiano= voy a tomar un elemento de estos dos, tantas veces como n)\n",
    "- Eventos\n",
    "- Probabilidad del evento  "
   ]
  },
  {
   "cell_type": "markdown",
   "metadata": {
    "id": "SsOSAj6Dhi9c"
   },
   "source": [
    "Si $n=2$, entonces\n",
    "\n",
    "  $\\Omega=\\{(A,A), (A,S), (S,S), (S,A)\\}$"
   ]
  },
  {
   "cell_type": "code",
   "execution_count": 19,
   "metadata": {
    "id": "RAwiJiNniEgr"
   },
   "outputs": [],
   "source": [
    "import itertools # herramientas para iteraciones"
   ]
  },
  {
   "cell_type": "markdown",
   "metadata": {},
   "source": [
    "### Volados (probabilidad frecuentista)"
   ]
  },
  {
   "cell_type": "code",
   "execution_count": 20,
   "metadata": {
    "colab": {
     "base_uri": "https://localhost:8080/"
    },
    "id": "W2GwART4ibJG",
    "outputId": "d51c2157-6870-43ab-8931-95002f8616c4"
   },
   "outputs": [
    {
     "data": {
      "text/plain": [
       "{'águila': 0, 'sol': 0}"
      ]
     },
     "execution_count": 20,
     "metadata": {},
     "output_type": "execute_result"
    }
   ],
   "source": [
    "resultados = {\"águila\":0, \"sol\":0} #diccionario, se le da un valor, función es dic para escribir un diccionario. En un diccionario lo que está a la izquierda llaves \"keys\", derecha valor \"values\"\n",
    "resultados"
   ]
  },
  {
   "cell_type": "code",
   "execution_count": 21,
   "metadata": {
    "colab": {
     "base_uri": "https://localhost:8080/"
    },
    "id": "NBlP7hSgjF_G",
    "outputId": "9033cea8-5484-47e0-9bcc-719e13ef0fad"
   },
   "outputs": [
    {
     "data": {
      "text/plain": [
       "['águila', 'sol']"
      ]
     },
     "execution_count": 21,
     "metadata": {},
     "output_type": "execute_result"
    }
   ],
   "source": [
    "caras = list(resultados.keys())\n",
    "caras"
   ]
  },
  {
   "cell_type": "code",
   "execution_count": 22,
   "metadata": {
    "id": "63qwyjKolyvF"
   },
   "outputs": [],
   "source": [
    "for i in range(10000): #se ponen dos puntos después de for\n",
    "    resultados[random.choice(caras)]+=1 #para que vaya incrementando los valores se pone la función"
   ]
  },
  {
   "cell_type": "code",
   "execution_count": 23,
   "metadata": {
    "colab": {
     "base_uri": "https://localhost:8080/"
    },
    "id": "LHlbCaJ10IIx",
    "outputId": "6d65d26d-b28c-4606-82b3-737c5e9645eb"
   },
   "outputs": [
    {
     "data": {
      "text/plain": [
       "4894"
      ]
     },
     "execution_count": 23,
     "metadata": {},
     "output_type": "execute_result"
    }
   ],
   "source": [
    "resultados[\"sol\"]"
   ]
  },
  {
   "cell_type": "code",
   "execution_count": 24,
   "metadata": {
    "colab": {
     "base_uri": "https://localhost:8080/"
    },
    "id": "UUG1jRHe0O18",
    "outputId": "3154033b-9cd6-4196-8fad-a0467b3d5eb6"
   },
   "outputs": [
    {
     "data": {
      "text/plain": [
       "5106"
      ]
     },
     "execution_count": 24,
     "metadata": {},
     "output_type": "execute_result"
    }
   ],
   "source": [
    "resultados[\"águila\"]"
   ]
  },
  {
   "cell_type": "code",
   "execution_count": 26,
   "metadata": {
    "colab": {
     "base_uri": "https://localhost:8080/"
    },
    "id": "66lNc2JUq8NL",
    "outputId": "38347a49-fc1e-4fb5-e146-dbde677e8962"
   },
   "outputs": [
    {
     "name": "stdout",
     "output_type": "stream",
     "text": [
      "count=4955, count=5045\n"
     ]
    }
   ],
   "source": [
    "omega = [random.randint(0,1) for i in range (10000)]\n",
    "sol= omega.count(0)\n",
    "águila= omega.count(1)\n",
    "\n",
    "for s in omega:\n",
    "  msg = 'Sol' if s==1 else 'Águila'\n",
    "\n",
    "print(\"count=%d, count=%d\" % (sol, águila))"
   ]
  },
  {
   "cell_type": "markdown",
   "metadata": {
    "id": "4pFssUmTsm_H"
   },
   "source": [
    "### Volados (probabilidad clásica)"
   ]
  },
  {
   "cell_type": "markdown",
   "metadata": {},
   "source": [
    "Consideremos el experimento aleatorio de lanzar de manera independiente $3$ veces una moneda justa. El espacio muestral está dado por:"
   ]
  },
  {
   "cell_type": "code",
   "execution_count": 28,
   "metadata": {},
   "outputs": [
    {
     "data": {
      "text/plain": [
       "{('A', 'A', 'A'),\n",
       " ('A', 'A', 'S'),\n",
       " ('A', 'S', 'A'),\n",
       " ('A', 'S', 'S'),\n",
       " ('S', 'A', 'A'),\n",
       " ('S', 'A', 'S'),\n",
       " ('S', 'S', 'A'),\n",
       " ('S', 'S', 'S')}"
      ]
     },
     "execution_count": 28,
     "metadata": {},
     "output_type": "execute_result"
    }
   ],
   "source": [
    "from itertools import product\n",
    "\n",
    "Omega = set(product([\"A\", \"S\"], repeat=3))\n",
    "Omega"
   ]
  },
  {
   "cell_type": "markdown",
   "metadata": {},
   "source": [
    "La probabilidad clásica está dada por:\n",
    "$$\\mathbb{P}(E)=\\frac{\\# E}{\\# \\Omega}.$$"
   ]
  },
  {
   "cell_type": "code",
   "execution_count": 29,
   "metadata": {},
   "outputs": [],
   "source": [
    "def prob(E): \n",
    "    return len(E) / len(Omega)"
   ]
  },
  {
   "cell_type": "markdown",
   "metadata": {},
   "source": [
    "Consideremos el evento $A$: \"Los resultados de los tres lanzamientos son águilas\". Calculemos su probabilidad."
   ]
  },
  {
   "cell_type": "code",
   "execution_count": 31,
   "metadata": {},
   "outputs": [
    {
     "data": {
      "text/plain": [
       "0.125"
      ]
     },
     "execution_count": 31,
     "metadata": {},
     "output_type": "execute_result"
    }
   ],
   "source": [
    "A = {om for om in Omega if om.count(\"A\")==3}\n",
    "\n",
    "prob(A)"
   ]
  },
  {
   "cell_type": "markdown",
   "metadata": {},
   "source": [
    "Si se conoce algo de información sobre el resultado del primer lanzamiento, entonces nos referimos a la probabilidad condicional."
   ]
  },
  {
   "cell_type": "markdown",
   "metadata": {},
   "source": [
    "Consideremos el evento $B$: \"El resultado del primer lanzamiento fue águila\"."
   ]
  },
  {
   "cell_type": "code",
   "execution_count": 32,
   "metadata": {},
   "outputs": [
    {
     "name": "stdout",
     "output_type": "stream",
     "text": [
      "{('A', 'A', 'A'), ('A', 'S', 'A'), ('A', 'S', 'S'), ('A', 'A', 'S')}\n"
     ]
    }
   ],
   "source": [
    "B = {om for om in Omega if om[0]== \"A\"}\n",
    "\n",
    "print(B)"
   ]
  },
  {
   "cell_type": "markdown",
   "metadata": {},
   "source": [
    "La probabilidad condicional de $E$ dado que ocurre $F$ está dada por:\n",
    "    $$\\mathbb{P}(E\\mid F)=\\frac{\\mathbb{P}(E\\cap F)}{\\mathbb{P}(F)}.$$"
   ]
  },
  {
   "cell_type": "code",
   "execution_count": 33,
   "metadata": {},
   "outputs": [],
   "source": [
    "def prob_cond(E, F):\n",
    "    return len(E & F) / len(F)"
   ]
  },
  {
   "cell_type": "markdown",
   "metadata": {},
   "source": [
    "Así, en nuestro caso, la probabilidad de obtener águila en los tres lanzamientos dado que sabemos que cayó águila en el primer lanzamiento es:"
   ]
  },
  {
   "cell_type": "code",
   "execution_count": 34,
   "metadata": {},
   "outputs": [
    {
     "data": {
      "text/plain": [
       "0.25"
      ]
     },
     "execution_count": 34,
     "metadata": {},
     "output_type": "execute_result"
    }
   ],
   "source": [
    "prob_cond(A, B)"
   ]
  },
  {
   "cell_type": "code",
   "execution_count": null,
   "metadata": {},
   "outputs": [],
   "source": []
  }
 ],
 "metadata": {
  "colab": {
   "collapsed_sections": [],
   "name": "Copy of Welcome To Colaboratory",
   "provenance": [],
   "toc_visible": true
  },
  "kernelspec": {
   "display_name": "Python 3",
   "language": "python",
   "name": "python3"
  },
  "language_info": {
   "codemirror_mode": {
    "name": "ipython",
    "version": 3
   },
   "file_extension": ".py",
   "mimetype": "text/x-python",
   "name": "python",
   "nbconvert_exporter": "python",
   "pygments_lexer": "ipython3",
   "version": "3.7.6"
  }
 },
 "nbformat": 4,
 "nbformat_minor": 1
}
