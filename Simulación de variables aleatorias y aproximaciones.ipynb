{
 "cells": [
  {
   "cell_type": "markdown",
   "metadata": {},
   "source": [
    "# Simulación de variables aleatorias y teoremas de aproximación."
   ]
  },
  {
   "cell_type": "markdown",
   "metadata": {},
   "source": [
    "$\\mathbf{Teorema}.-$ Sea $X$ una variable aleatoria real. Supongamos que su función de rapartición $F$ es estrictamente creciente (por lo que $F$ es una biyección de $\\mathbb{R}$ sobre $(0,1)$ y podemos denotar por $F^{-1}$ a su inversa). Sea $U\\sim \\text{unif}[0,1]$. Entonces $F^{-1}(U)$ tiene la misma ley que $X$."
   ]
  },
  {
   "cell_type": "markdown",
   "metadata": {},
   "source": [
    "Si $F$ no es estrictamente creciente, hemos visto que el teorema precedente sigue siendo válido bajo la condición de definir \n",
    "$$F^{-1}(u)=\\inf\\{ x\\in \\mathbb{R} : F(u)\\geq u\\},$$\n",
    "la inversa generalizada de $F$."
   ]
  },
  {
   "cell_type": "markdown",
   "metadata": {},
   "source": [
    "$\\mathbf{Ejemplo}$ (Variable aleatoria Cauchy) Simulemos la variable aleatoria de Cauchy de parámetro $1$ que tiene por función de densidad \n",
    "$$\\frac{1}{\\pi}\\frac{1}{1+x^{2}}.$$\n",
    "\n",
    "Ejercicio: Ver que la función así definida es una función de densidad de probabilidad y crear una gráfica en Python que muestre su forma.\n",
    "\n",
    "Por el teorema anterior, para $u\\in (0,1)$\n",
    "$$u=\\frac{1}{\\pi}\\arctan(x)+\\frac{1}{2} \\qquad \\text{si y sólo si} \\qquad x=\\tan\\left({\\pi}\\left(u-\\frac{1}{2} \\right) \\right).$$"
   ]
  },
  {
   "cell_type": "markdown",
   "metadata": {},
   "source": [
    "$\\mathbf{Implementar \\ un \\ código \\ para \\ simular \\ una \\ variable \\ aleatoria \\ Cauchy}$"
   ]
  },
  {
   "cell_type": "code",
   "execution_count": 1,
   "metadata": {},
   "outputs": [
    {
     "name": "stdout",
     "output_type": "stream",
     "text": [
      "-0.01729157023223721\n"
     ]
    }
   ],
   "source": [
    "from math import *\n",
    "import numpy.random as npr\n",
    "\n",
    "def Cauchy():\n",
    "    U=npr.rand() \n",
    "    return tan(pi*(U-1/2))\n",
    "    \n",
    "print(Cauchy()) "
   ]
  },
  {
   "cell_type": "markdown",
   "metadata": {},
   "source": [
    "## Aproximación Bernoulli a Poisson"
   ]
  },
  {
   "cell_type": "markdown",
   "metadata": {},
   "source": [
    "$\\textbf{Teorema (Poisson).-}$ Sean $S_{n}\\sim Bin(n,p_{n})$ bajo el regimen $$\\lim_{n\\to \\infty}np_{n}=\\theta>0.$$\n",
    "Consideremos la siguiente sucesión de números reales:\n",
    "    $$a_{j}(n,p_n)=\\begin{cases}\\binom{n}{j}(p_n)^{j}(1-p_{n})^{n-j} & j\\leq n\\\\\n",
    "    0 & j\\geq n+1\\end{cases}.$$\n",
    " Entonces, \n",
    " $$\\lim_{n\\to \\infty}a_{j}(n,p_n)=a_{j}=e^{-\\theta}\\frac{\\theta^{j}}{j!} \\ \\ \\forall j\\in \\mathbb{N}.$$\n",
    " \n",
    " Simulemos el teorema de Poisson."
   ]
  },
  {
   "cell_type": "code",
   "execution_count": 2,
   "metadata": {},
   "outputs": [
    {
     "data": {
      "image/png": "[encoded data removed]",
      "text/plain": [
       "<Figure size 640x480 with 1 Axes>"
      ]
     },
     "metadata": {},
     "output_type": "display_data"
    }
   ],
   "source": [
    "from __future__ import division\n",
    "import numpy as np\n",
    "import numpy.random as npr\n",
    "import scipy.stats as sps\n",
    "import matplotlib.pyplot as plt\n",
    "import warnings\n",
    "warnings.filterwarnings(\"ignore\")\n",
    "\n",
    "param=3 \n",
    "n=1000\n",
    "N=5000 \n",
    "\n",
    "X=npr.binomial(n,param/n,N)\n",
    "\n",
    "counts = np.bincount(X) / float(N)\n",
    "x = np.arange(len(counts))\n",
    "f_x = sps.poisson.pmf(x, param)\n",
    "plt.close()\n",
    "plt.bar(x - 0.5, counts, width=1., label=\"ley empírica\")\n",
    "p2 = plt.stem(x, f_x, \"r\", label=\"ley teórica\")\n",
    "plt.legend()\n",
    "plt.show()"
   ]
  },
  {
   "cell_type": "markdown",
   "metadata": {},
   "source": [
    "# Variables aleatorias geométrica y exponencial"
   ]
  },
  {
   "cell_type": "markdown",
   "metadata": {},
   "source": [
    "A través del teorema de simulación, es posible generar una variable aleatoria exponencial."
   ]
  },
  {
   "cell_type": "markdown",
   "metadata": {},
   "source": [
    "Sea $\\lambda>0$ y $U\\sim \\text{unif}[0,1]$. Entonces, la variable aleatoria\n",
    "$$X=-\\frac{\\ln(U)}{\\lambda}\\sim \\exp(\\lambda).$$"
   ]
  },
  {
   "cell_type": "markdown",
   "metadata": {},
   "source": [
    "$\\mathbf{Definición.-}$ Una variable aleatoria $X$ sigue una ley exponencial de parámetro $\\lambda>0$: $X(\\Omega)=\\mathbb{R}_{+}$ y $\\mathbb{P}_{X}$ admite la ley de densidad\n",
    "$$f(x)=\\lambda e^{-\\lambda x}\\mathbf{1}_{\\{x>0\\}}$$"
   ]
  },
  {
   "cell_type": "markdown",
   "metadata": {},
   "source": [
    "Una variable aleatoria exponencial modela varios fenómenos que ocurren en la naturaleza; en particular aquellos que cuentan la duración de vida de una partícula o tiempo de espera entre eventos específicos:\n",
    "- duración de vida de una bacteria,\n",
    "- duración de una conversación telefónica,\n",
    "- tiempo entre terremotos.\n",
    "\n",
    "$\\textbf{Propiedad de pérdida de memoria:}$\n",
    "$$\\mathbb{P}(X>t+s \\mid X>t)=\\mathbb{P}(X>s)=e^{-\\lambda s}.$$\n",
    "\n",
    "Ejercicio: Demostrar la propiedad de pérdida de memoria para $X\\sim \\exp(\\lambda)$.\n",
    "\n",
    "Ejemplo: hipótesis natural para modelar las duraciones de vida de átomos radioactivas (Rutherford y Soddy). Cada átomo radioactivo posee una duración de vida que sigue una ley exponencial. En este campo, el parámetro $\\lambda$ se llama la constante de desintegración.\n",
    "\n",
    " Si $t\\mapsto \\rho(t)=\\mathbb{P}(X>t)$ verifica\n",
    "$$\\rho(t+s)=\\rho(t)\\rho(s),$$\n",
    "de manera que (derivando en $s$, con $s=0$),\n",
    "$$\\rho^{\\prime}(t)=-\\rho(t)\\lambda \\qquad \\ \\lambda=-\\rho^{\\prime}(0)\\geq 0.$$\n",
    "Así,\n",
    "$$\\rho(t)=e^{-\\lambda t} \\qquad \\text{y} \\qquad f(t)=\\lambda e^{-\\lambda t} \\ \\  \\rho(0)=1.$$"
   ]
  },
  {
   "cell_type": "markdown",
   "metadata": {},
   "source": [
    "## Relación ley geométrica-ley exponencial"
   ]
  },
  {
   "cell_type": "markdown",
   "metadata": {},
   "source": [
    "$\\mathbf{Teorema.-}$ Sea $\\varepsilon>0$ y $Y_{\\epsilon}\\sim Geo(p_{\\varepsilon})$. Supongamos que nos encontramos en el regimen:\n",
    "    $$\\lim_{\\varepsilon\\to 0}p_{\\varepsilon}=0 \\qquad \\text{y} \\qquad \\varepsilon^{-1}p_{\\varepsilon}\\sim \\lambda>0$$\n",
    "   Sea $X_{\\varepsilon}:=\\varepsilon Y_{\\varepsilon}$. Entonces,\n",
    "   $$\\lim_{\\varepsilon\\to 0}F_{X_{\\varepsilon}}(x)=F_{X}(x),$$\n",
    "   en donde $X\\sim \\exp(\\lambda)$. Este también es un resultado de convergencia en ley."
   ]
  },
  {
   "cell_type": "markdown",
   "metadata": {},
   "source": [
    "Realicemos un programa que visualice al teorema precedente."
   ]
  },
  {
   "cell_type": "code",
   "execution_count": 3,
   "metadata": {},
   "outputs": [
    {
     "data": {
      "image/png": "[encoded data removed]",
      "text/plain": [
       "<Figure size 640x480 with 1 Axes>"
      ]
     },
     "metadata": {},
     "output_type": "display_data"
    }
   ],
   "source": [
    "from __future__ import division\n",
    "import numpy as np\n",
    "import numpy.random as npr\n",
    "import scipy.stats as sps\n",
    "import matplotlib.pyplot as plt\n",
    "\n",
    "\n",
    "param=2 \n",
    "n=1000\n",
    "N=5000 \n",
    "\n",
    "X=npr.geometric(param/n,N)\n",
    "\n",
    "plt.close()\n",
    "plt.hist(X/n, density=True, label=\"Densidad empírica\", bins=int(sqrt(N)))\n",
    "x = np.linspace(min(X/n), max(X/n), 100) \n",
    "f_x =  param*np.exp(-param*x)\n",
    "plt.plot(x, f_x, \"r\", label=\"Densidad teórica\")\n",
    "plt.legend()\n",
    "plt.show()"
   ]
  },
  {
   "cell_type": "markdown",
   "metadata": {},
   "source": [
    "También, tenemos el siguiente resultado:\n",
    "\n",
    "$\\mathbf{Teorema.-}$ Sea $X\\sim \\exp(1)$. Si $Y=\\min\\{k\\in \\mathbb{Z}: k\\geq \\lambda X \\}$, con $\\lambda>0$, entonces \n",
    "$$Y\\sim Geo\\left(p=1-e^{-1/\\lambda} \\right).$$\n",
    "\n",
    "A continuación, vamos a comparar distintas maneras de simular una variable aleatoria geométrica de parámetro $p\\in (0,1)$ a partir de una variable aleatoria uniforme sobre $[0,1]$:\n",
    "\n",
    "- En general, para simular una variable aleatoria $X$ con valores enteros tal que $\\mathbb{P}(X=i)=p_{i}$ para toda $i\\geq 0$, tomamos una variable $U\\sim \\text{unif}[0,1]$ y tomamos $k$ entero tal que $$p_{0}+\\cdots + p_{k-1}<U<p_{0}+\\cdots + p_{k}.$$\n",
    "Para generar una variable aleatoria geométrica, notemos que $x=F^{-1}(u)$ es tal que satisface\n",
    "$$x\\geq \\frac{\\log(1-u)}{\\log(1-p)} (Ejercicio).$$\n",
    "- Tomamos variables aleatorias Bernoulli de parámetro $p$ (lo enviamos al $1$ si una variable $U\\sim \\text{unif}[0,1]$ es menor que $p$, y al $0$ si no) y paramos en la primera vez que toma el valor $1$.\n",
    "- Tomamos $\\lambda=-\\frac{1}{\\ln (1-p)}$ y usamos el teorema.\n",
    "- El modelo integrado en Python."
   ]
  },
  {
   "cell_type": "code",
   "execution_count": 4,
   "metadata": {},
   "outputs": [
    {
     "name": "stdout",
     "output_type": "stream",
     "text": [
      "El método 1 tardó  0.019214153289794922  segundos\n",
      "El método 2 tardó  0.019955873489379883  segundos\n",
      "El método 3 tardó  0.03416705131530762  segundos\n",
      "El método 4 tardó  0.015408754348754883  segundos\n"
     ]
    }
   ],
   "source": [
    "from __future__ import division\n",
    "from math import *\n",
    "import numpy as np\n",
    "import numpy.random as npr\n",
    "from time import time\n",
    "\n",
    "p=0.9 \n",
    "\n",
    "N=10000 \n",
    "\n",
    "def methode1():\n",
    "    k=1\n",
    "    tmp=p\n",
    "    U=npr.rand()\n",
    "    while U>tmp:\n",
    "        tmp=tmp+p*(1-p)**k\n",
    "        k=k+1\n",
    "    return k    \n",
    "\n",
    "\n",
    "def methode2():\n",
    "    tmp=0\n",
    "    k=0\n",
    "    while tmp==0:\n",
    "        k=k+1\n",
    "        if npr.rand()<p:\n",
    "            tmp=1\n",
    "    return k\n",
    "    \n",
    "def methode3():\n",
    "    X=-log(npr.rand())\n",
    "    return int(ceil(-X/log(1-p)))\n",
    "\n",
    "def methode4():\n",
    "    return npr.geometric(p)\n",
    "\n",
    "t1 = time()    \n",
    "[methode1() for i in range(N)]\n",
    "t2 = time()\n",
    "temps1 = t2 - t1\n",
    "print (\"El método 1 tardó \", temps1, \" segundos\")\n",
    "\n",
    "t1 = time()    \n",
    "[methode2() for i in range(N)]\n",
    "t2 = time()\n",
    "temps1 = t2 - t1\n",
    "print (\"El método 2 tardó \", temps1, \" segundos\")\n",
    "\n",
    "t1 = time()    \n",
    "[methode3() for i in range(N)]\n",
    "t2 = time()\n",
    "temps1 = t2 - t1\n",
    "print (\"El método 3 tardó \", temps1, \" segundos\")\n",
    "\n",
    "t1 = time()    \n",
    "[methode4() for i in range(N)]\n",
    "t2 = time()\n",
    "temps1 = t2 - t1\n",
    "print (\"El método 4 tardó \", temps1, \" segundos\")"
   ]
  },
  {
   "cell_type": "code",
   "execution_count": null,
   "metadata": {},
   "outputs": [],
   "source": []
  }
 ],
 "metadata": {
  "kernelspec": {
   "display_name": "Python 3 (ipykernel)",
   "language": "python",
   "name": "python3"
  },
  "language_info": {
   "codemirror_mode": {
    "name": "ipython",
    "version": 3
   },
   "file_extension": ".py",
   "mimetype": "text/x-python",
   "name": "python",
   "nbconvert_exporter": "python",
   "pygments_lexer": "ipython3",
   "version": "3.9.13"
  }
 },
 "nbformat": 4,
 "nbformat_minor": 4
}
