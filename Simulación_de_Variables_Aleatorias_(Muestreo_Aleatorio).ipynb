{
  "nbformat": 4,
  "nbformat_minor": 0,
  "metadata": {
    "kernelspec": {
      "display_name": "Python 3",
      "language": "python",
      "name": "python3"
    },
    "language_info": {
      "codemirror_mode": {
        "name": "ipython",
        "version": 3
      },
      "file_extension": ".py",
      "mimetype": "text/x-python",
      "name": "python",
      "nbconvert_exporter": "python",
      "pygments_lexer": "ipython3",
      "version": "3.8.3"
    },
    "colab": {
      "provenance": []
    }
  },
  "cells": [
    {
      "cell_type": "markdown",
      "metadata": {
        "id": "vS1KrF5mYiEO"
      },
      "source": [
        "# 1 El Método de la Transformada Inversa"
      ]
    },
    {
      "cell_type": "markdown",
      "metadata": {
        "id": "ziXke2TCYiEU"
      },
      "source": [
        "## 1.1 Función de Distribución de una variables aleatoria"
      ]
    },
    {
      "cell_type": "markdown",
      "metadata": {
        "id": "ggZis_s6YiEU"
      },
      "source": [
        "Sea $X$ una variable aleatoria sobre un espacio de probabilidad $(\\Omega,\\mathcal F,\\mathbb P)$. Esto es, $X:\\Omega\\to\\mathbb R$ es una función tal que para todas $a,b\\in\\mathbb R$,\n",
        "\n",
        "$$\n",
        "(a<X<b)\\in\\mathcal F,\n",
        "$$\n",
        "\n",
        "donde\n",
        "\n",
        "$$\n",
        "(a<X<b):=X^{-1}(a,b)=\\{\\omega\\in\\Omega:a<X(\\omega)<b\\}.\n",
        "$$"
      ]
    },
    {
      "cell_type": "markdown",
      "metadata": {
        "id": "BuB7OAyAYiEV"
      },
      "source": [
        "Definimos la **Función de Distribución** de $X$ como la función $F:\\mathbb R\\to\\mathbb R$ dada por\n",
        "\n",
        "$$\n",
        "F(x):=\\mathbb P(X\\le x), \\qquad x\\in\\mathbb R.\n",
        "$$"
      ]
    },
    {
      "cell_type": "markdown",
      "metadata": {
        "id": "NcWRSiFjYiEV"
      },
      "source": [
        "Donde\n",
        "\n",
        "$$\n",
        "(X\\le x):=X^{-1}(-\\infty,x]=\\{\\omega\\in\\Omega:X(\\omega)\\le x\\}, \\qquad x\\in\\mathbb R.\n",
        "$$"
      ]
    },
    {
      "cell_type": "markdown",
      "metadata": {
        "id": "qR0ij5suYiEV"
      },
      "source": [
        "### Teorema 1"
      ]
    },
    {
      "cell_type": "markdown",
      "metadata": {
        "id": "Ct0ngAosYiEW"
      },
      "source": [
        "*Propiedades de la Función de Distribución* de una variable aleatoria $X$. Dada una variable aleatoria $X$ sobre un espacio de probabilidad $(\\Omega,\\mathcal F,\\mathbb P)$, si $F$ es la función de distribución de $X$, entonces:\n",
        "\n",
        "1. $0\\le F(x)\\le 1$, para toda $x\\in\\mathbb R$.\n",
        "\n",
        "\n",
        "2. $F$ es no decreciente. Esto es, si $x\\le y$, entonces $F(x)\\le F(y)$.\n",
        "\n",
        "\n",
        "3. $\\displaystyle{\\lim_{x\\to-\\infty}F(x)=0}$ y $\\displaystyle{\\lim_{x\\to+\\infty}F(x)=1}$.\n",
        "\n",
        "\n",
        "4. $F$ es continua por la derecha (*càd*) y tiene límites por la izquierda (*làg*)."
      ]
    },
    {
      "cell_type": "markdown",
      "metadata": {
        "id": "csFP97ULYiEW"
      },
      "source": [
        "### Formas Típicas de la Función de Distribución"
      ]
    },
    {
      "cell_type": "markdown",
      "metadata": {
        "id": "rEQaZWZqYiEW"
      },
      "source": [
        "#### Si $X$ es discreta"
      ]
    },
    {
      "cell_type": "markdown",
      "metadata": {
        "id": "gpouCWXuYiEW"
      },
      "source": [
        "Una variable aleatoria $X$ es **discreta** si el rango de valores de $X$ es un conjunto discreto. Esto es, ell conjunto\n",
        "\n",
        "$$\n",
        "\\mathrm{Rango}(X):=\\{k\\in\\mathbb R: X(\\omega)=k, \\text{ para algún }\\omega\\in\\Omega\\}\n",
        "$$\n",
        "\n",
        "es finito o a lo sumo numerable y cada uno de sus puntos es un punto aislado de $\\mathbb R$."
      ]
    },
    {
      "cell_type": "markdown",
      "metadata": {
        "id": "Hc4Hy8xaYiEX"
      },
      "source": [
        "Generalmente, sin pérdida de generalidad, asumimos que el rango de una variable aleatoria discreta es $\\mathbb N$ o un subconjunto de $\\mathbb N$. También podemos elegir $\\mathbb Z$."
      ]
    },
    {
      "cell_type": "markdown",
      "metadata": {
        "id": "6vtrtqNUYiEX"
      },
      "source": [
        "Tenemos entonces que\n",
        "\n",
        "$$\n",
        "\\sum_{k\\in\\mathrm{Rango}(X)}\\mathbb P(X=k)=1.\n",
        "$$"
      ]
    },
    {
      "cell_type": "markdown",
      "metadata": {
        "id": "JNihkMcYYiEX"
      },
      "source": [
        "La función de distribución de una variable aleatoria discreta $X$ está dada por\n",
        "\n",
        "$$\n",
        "F(x)=\\mathbb P(X\\le x)=\\mathbb P\\left(\\bigcup_{k\\le x}(X=k)\\right)=\\sum_{k\\le x}\\mathbb P(X=k).\n",
        "$$"
      ]
    },
    {
      "cell_type": "markdown",
      "metadata": {
        "id": "o0Do83f0YiEX"
      },
      "source": [
        "![title](discrete.jpg)"
      ]
    },
    {
      "cell_type": "markdown",
      "metadata": {
        "id": "EqPuWcFDYiEX"
      },
      "source": [
        "En la gráfica se muestra la función de dsitribución de una variable aleatoria discreta $X$ con rango el conjunto $\\mathrm{Rango}(X)=\\{-2,0,2,4,5\\}$, y que tiene función de probabilidades dada por"
      ]
    },
    {
      "cell_type": "markdown",
      "metadata": {
        "id": "8r-iC18_YiEY"
      },
      "source": [
        "$$\n",
        "\\mathbb P(X=k)=\n",
        "\\begin{cases}\n",
        "\\frac 16 & \\text{ si } \\ k=-2,\\\\[0.3em]\n",
        "\\frac 16 & \\text{ si } \\ k=0,\\\\[0.3em]\n",
        "\\frac 13 & \\text{ si } \\ k=2,\\\\[0.3em]\n",
        "\\frac 16 & \\text{ si } \\ k=4,\\\\[0.3em]\n",
        "\\frac 16 & \\text{ si } \\ k=5.\n",
        "\\end{cases}\n",
        "$$"
      ]
    },
    {
      "cell_type": "markdown",
      "metadata": {
        "id": "uCWtGaylYiEY"
      },
      "source": [
        "Por lo tanto, la función de distribución de $X$ (mostrada en la gráfica de arriba) está dada por"
      ]
    },
    {
      "cell_type": "markdown",
      "metadata": {
        "id": "cxiNxh1_YiEY"
      },
      "source": [
        "$$\n",
        "F(x)=\n",
        "\\begin{cases}\n",
        "0 & \\text{ si } \\ x<-2,\\\\[0.3em]\n",
        "\\frac 16 & \\text{ si } \\ -2\\le x<0\\\\[0.3em]\n",
        "\\frac 13 & \\text{ si } \\ 0\\le x<2\\\\[0.3em]\n",
        "\\frac 23 & \\text{ si } \\ 2\\le x<4\\\\[0.3em]\n",
        "\\frac 56 & \\text{ si } \\ 4\\le x<5\\\\[0.3em]\n",
        "1 & \\text{ si } \\ x\\ge 5.\n",
        "\\end{cases}\n",
        "$$"
      ]
    },
    {
      "cell_type": "markdown",
      "metadata": {
        "id": "2B41XXCcYiEY"
      },
      "source": [
        "#### Si $X$ es absolutamente continua"
      ]
    },
    {
      "cell_type": "markdown",
      "metadata": {
        "id": "2MdRpDRCYiEY"
      },
      "source": [
        "Una variable aleatoria $X$ es absolutamente continua si existe una función $f:\\mathbb R\\to\\mathbb R$ no negativa, llamada **función de densidad**, tal que $\\int_{-\\infty}^\\infty f(t)dt=1$ y\n",
        "\n",
        "$$\n",
        "F(x)=\\int_{-\\infty}^xf(t)dt, \\qquad x\\in\\mathbb R.\n",
        "$$"
      ]
    },
    {
      "cell_type": "markdown",
      "metadata": {
        "id": "Hfm7zc6zYiEZ"
      },
      "source": [
        "![title](logistic.jpg)"
      ]
    },
    {
      "cell_type": "markdown",
      "metadata": {
        "id": "-CGiyq5qYiEZ"
      },
      "source": [
        "En la gráfica se muestra la función de distribución de una variable aleatoria absolutamente continua con función de distribución **logística** dada por\n",
        "\n",
        "$$\n",
        "F(x)=\\frac 1{1+e^{-x}},\\qquad-\\infty<x<\\infty.\n",
        "$$"
      ]
    },
    {
      "cell_type": "markdown",
      "metadata": {
        "id": "hjdeO6VAYiEZ"
      },
      "source": [
        "## 1.2 Funciones de Distribución (de probabilidad)"
      ]
    },
    {
      "cell_type": "markdown",
      "metadata": {
        "id": "ZGUHaO_xYiEZ"
      },
      "source": [
        "En general, cualquier función $F:\\mathbb R\\to\\mathbb R$ que cumpla las propiedades del **Teorema 1**, es llamada **Función de Distribución** (**de Probabilidades**)."
      ]
    },
    {
      "cell_type": "markdown",
      "metadata": {
        "id": "72hQnEzHYiEZ"
      },
      "source": [
        "### Ejemplo: La Función *Escalera* de Cantor"
      ]
    },
    {
      "cell_type": "markdown",
      "metadata": {
        "id": "0H6gABwRYiEa"
      },
      "source": [
        "La función *Escalera* de Cantor es la función $s:[0,1]\\to[0,1]$ que resulta del siguiente proceso iterativo:"
      ]
    },
    {
      "cell_type": "markdown",
      "metadata": {
        "id": "m00le029YiEa"
      },
      "source": [
        "![title](cantor_function.jpg)"
      ]
    },
    {
      "cell_type": "markdown",
      "metadata": {
        "id": "iE7W2-ViYiEa"
      },
      "source": [
        "En el límite:"
      ]
    },
    {
      "cell_type": "markdown",
      "metadata": {
        "id": "1BWEQKjZYiEa"
      },
      "source": [
        "![title](cantor_function_final.jpg)"
      ]
    },
    {
      "cell_type": "markdown",
      "metadata": {
        "id": "R_O50S1YYiEa"
      },
      "source": [
        "Fuentes:\n",
        "    \n",
        "1. [Wipedia - Cantor Function](https://en.wikipedia.org/wiki/Cantor_function)\n",
        "\n",
        "2. [Wolfram Demostrations Projects - Cantor Function](https://demonstrations.wolfram.com/CantorFunction)\n",
        "\n",
        "3. [tex.stackexchange.com - Plotting the Cantor function](https://tex.stackexchange.com/questions/241622/plotting-the-cantor-function)\n",
        "\n",
        "4. [stackoverflow.com - Cantor ternary set in Python](https://stackoverflow.com/questions/17809817/cantor-ternary-set-in-python-or-c/17810389#17810389)\n"
      ]
    },
    {
      "cell_type": "markdown",
      "metadata": {
        "id": "ebDYsKsnYiEa"
      },
      "source": [
        "Definimos entonces la función $F:\\mathbb R\\to\\mathbb R$ dada por \n",
        "\n",
        "$$\n",
        "F(x)=\n",
        "\\begin{cases}\n",
        "0 & \\text{ si } \\ x<0,\\\\[0.3em]\n",
        "s(x) & \\text{ si }\\ 0\\le x<1,\\\\[0.3em]\n",
        "1 & \\text{ si }x\\ge1,\n",
        "\\end{cases}\n",
        "$$\n",
        "\n",
        "donde $s$ es la función escalera de Cantor sobre $[0,1]$."
      ]
    },
    {
      "cell_type": "markdown",
      "metadata": {
        "id": "frQ0mPE_YiEa"
      },
      "source": [
        "Note entonces que $F$ satisface las propiedades enunciadas en el **Teorema 1**."
      ]
    },
    {
      "cell_type": "markdown",
      "metadata": {
        "id": "q71HmlpoYiEb"
      },
      "source": [
        "Es decir, $F$ es una función de distribución de probabilidades."
      ]
    },
    {
      "cell_type": "markdown",
      "metadata": {
        "id": "blx920JgYiEb"
      },
      "source": [
        "De hecho, se puede probar que $s$ es una función continua pero no es absolutamente continua."
      ]
    },
    {
      "cell_type": "markdown",
      "metadata": {
        "id": "71_2mLEgYiEb"
      },
      "source": [
        "**Ejercicio:** Demuestra que $F$ es una función de distribución."
      ]
    },
    {
      "cell_type": "markdown",
      "metadata": {
        "id": "Nnyx8_mIYiEb"
      },
      "source": [
        "### Ejemplo: Una distribución que no es discreta ni continua "
      ]
    },
    {
      "cell_type": "markdown",
      "metadata": {
        "id": "yKrGTiz2YiEb"
      },
      "source": [
        "![title](truncada.jpg)"
      ]
    },
    {
      "cell_type": "markdown",
      "metadata": {
        "id": "72XOssT9YiEb"
      },
      "source": [
        "La distribución $F$ de la imagen anterior está dada por\n",
        "\n",
        "$$\n",
        "F(x)=\n",
        "\\begin{cases}\n",
        "\\frac 1{1+5\\exp\\left(-\\frac25x\\right)} & \\text{ si } \\ x<2,\\\\[0.5em]\n",
        "\\frac 1{1+2\\exp\\left(-\\frac35x\\right)} & \\text{ si } \\ x\\ge2.\n",
        "\\end{cases}\n",
        "$$"
      ]
    },
    {
      "cell_type": "markdown",
      "metadata": {
        "id": "n0kEVQQ7YiEc"
      },
      "source": [
        "**Ejercicio:** Demuestra que $F$ es una función de distribución."
      ]
    },
    {
      "cell_type": "markdown",
      "metadata": {
        "id": "QbmJBqpqYiEc"
      },
      "source": [
        "### Una pregunta importante"
      ]
    },
    {
      "cell_type": "markdown",
      "metadata": {
        "id": "mYMPbKLsYiEc"
      },
      "source": [
        "Dada una función de distribución $F$ cualquiera, ¿existe un espacio de probabilidad $(\\Omega,\\mathcal F,\\mathbb P)$ y una variable aleatoria $X$ tal que $F$ sea la función de distribución de $X$?"
      ]
    },
    {
      "cell_type": "markdown",
      "metadata": {
        "id": "g7AddAelYiEc"
      },
      "source": [
        "## 1.3 La función inversa generalizada"
      ]
    },
    {
      "cell_type": "markdown",
      "metadata": {
        "id": "6fO3WtCNYiEc"
      },
      "source": [
        "Dada una función de distribución $F:\\mathbb R\\to[0,1]$, la **inversa generalizada** de $F$ es la función $F^{-1}:[0,1]\\to\\mathbb R$ dada por\n",
        "\n",
        "$$\n",
        "F^{-1}(y)=\\inf\\{x\\in\\mathbb R: F(x)\\ge y\\}, \\qquad y\\in[0,1].\n",
        "$$"
      ]
    },
    {
      "cell_type": "markdown",
      "metadata": {
        "id": "5J8RsIjZYiEc"
      },
      "source": [
        "![title](generalized_inverse.png)"
      ]
    },
    {
      "cell_type": "markdown",
      "metadata": {
        "id": "Am-Y7_9-YiEc"
      },
      "source": [
        "Fuente: [A note on generalized inverse](https://people.math.ethz.ch/~embrecht/ftp/generalized_inverse.pdf)"
      ]
    },
    {
      "cell_type": "markdown",
      "metadata": {
        "id": "woGqyrIdYiEd"
      },
      "source": [
        "### Propiedades Fundamentales"
      ]
    },
    {
      "cell_type": "markdown",
      "metadata": {
        "id": "-q4kWXmrYiEd"
      },
      "source": [
        "Para toda $x$ y toda $y$:\n",
        "\n",
        "$$\n",
        "F^{-1}(y)\\le x\\Leftrightarrow y\\le F(x).\n",
        "$$"
      ]
    },
    {
      "cell_type": "markdown",
      "metadata": {
        "id": "6z9zt-nAYiEd"
      },
      "source": [
        "O equivalentemente\n",
        "\n",
        "$$\n",
        "x<F^{-1}(y)\\Leftrightarrow F(x)<y.\n",
        "$$"
      ]
    },
    {
      "cell_type": "markdown",
      "metadata": {
        "id": "UhQisDxyYiEd"
      },
      "source": [
        "## Teorema 2"
      ]
    },
    {
      "cell_type": "markdown",
      "metadata": {
        "id": "9gPyBQ0PYiEd"
      },
      "source": [
        "Sea $F:\\mathbb R\\to[0,1]$ una función de distribución."
      ]
    },
    {
      "cell_type": "markdown",
      "metadata": {
        "id": "Zo-hG3CuYiEd"
      },
      "source": [
        "Supongamos que $U$ es una variable aleatoria uniforme sobre $[0,1]$, definida sobrer un espacio de probabilidad $(\\Omega,\\mathcal F,\\mathbb P)$."
      ]
    },
    {
      "cell_type": "markdown",
      "metadata": {
        "id": "dQjpGNmmYiEd"
      },
      "source": [
        "De forma estándar, elegimos el espacio de probabilidad formado por el espacio $\\Omega=[0,1]$, la $\\sigma$-álgebra $\\mathcal F=\\mathcal B_{[0,1]}$ (los borelianos de $[0,1]$) y la medida de probabilidad $\\mathbb P$ uniforme sobre $[0,1]$ (la *medida de Lebesgue*). La variable aleatoria $U$ está definida como la función identidad $U(\\omega)=\\omega$ sobre este espacio de probabilidad."
      ]
    },
    {
      "cell_type": "markdown",
      "metadata": {
        "id": "TbCjLcUpYiEe"
      },
      "source": [
        "Sobre $(\\Omega,\\mathcal F,\\mathbb P)$ definimos la variable aleatoria $X$ dada por\n",
        "\n",
        "$$\n",
        "X=F^{-1}(U).\n",
        "$$\n",
        "\n",
        "Esto es, $X$ es la composición de $F^{-1}$ con $U$."
      ]
    },
    {
      "cell_type": "markdown",
      "metadata": {
        "id": "UIJkxwhHYiEe"
      },
      "source": [
        "Entonces $X$ es tiene distribución $F$."
      ]
    },
    {
      "cell_type": "markdown",
      "metadata": {
        "id": "eAcmxx0qYiEe"
      },
      "source": [
        "#### Demostración."
      ]
    },
    {
      "cell_type": "markdown",
      "metadata": {
        "id": "MYdFGZFEYiEf"
      },
      "source": [
        "Para cada $x\\in\\mathbb R$,"
      ]
    },
    {
      "cell_type": "markdown",
      "metadata": {
        "id": "8AFx97qaYiEf"
      },
      "source": [
        "\\begin{align}\n",
        "(X\\le x)&=(F^{-1}(U)\\le x)\\\\[0.3em]\n",
        "&=(U\\le F(x)).\n",
        "\\end{align}"
      ]
    },
    {
      "cell_type": "markdown",
      "metadata": {
        "id": "YTUo5pN4YiEf"
      },
      "source": [
        "Por lo tanto,\n",
        "\n",
        "$$\n",
        "\\mathbb P(X\\le x)=\\mathbb P(U\\le F(x))=F(x).\n",
        "$$"
      ]
    },
    {
      "cell_type": "markdown",
      "metadata": {
        "id": "WgM522A8YiEf"
      },
      "source": [
        "# 2 Simulación de Variables Aleatorias (Muestreo Aleatorio)"
      ]
    },
    {
      "cell_type": "markdown",
      "metadata": {
        "id": "F86KPj1XYiEf"
      },
      "source": [
        "Dada una distribución $F$, una **muestra aleatoria** de $F$ es un número $x$ elegido aleatoriamente de acuerdo a la ley de probabilidad determinada por la variable aleatoria $X$ cuya distribución es $F$."
      ]
    },
    {
      "cell_type": "markdown",
      "metadata": {
        "id": "EHOADQROYiEf"
      },
      "source": [
        "Entonces, en teoría tenemos una forma de muestrear cualquier distribución $F$:\n",
        "\n",
        "1. Elegimos una muestra aleatoria $u$ uniforme sobre el intervalo $(0,1)$.\n",
        "\n",
        "2. Evaluamos $x:=F^{-1}(u)$.\n"
      ]
    },
    {
      "cell_type": "markdown",
      "metadata": {
        "id": "IwsoZk_9YiEf"
      },
      "source": [
        "Una **muestra aleatoria de tamaño $m$** de una distribución $F$ es un conjunto $S=\\{x_1,...,x_m\\}$ de $m$ muestras aleatorias de la distribución $F$ obtenidas de forma independiente una de otra"
      ]
    },
    {
      "cell_type": "markdown",
      "metadata": {
        "id": "3jkTjpUwYiEg"
      },
      "source": [
        "Para obtener una muestra aleatoria de tamaño $m$ de $F$ seguimos los siguientes pasos:\n",
        "\n",
        "1. Elegimos una muestra aleatoria $u_1,...,u_m$ de tamaño $m$ de forma independiente de $m$ distribuciones $U_1(0,1), ..., U_m(0,1)$ indepedientes.\n",
        "\n",
        "2. Evaluamos $x_i:=F^{-1}(u_i)$, para cada $i=1,...,m$."
      ]
    },
    {
      "cell_type": "markdown",
      "metadata": {
        "id": "zrwTpvtzYiEg"
      },
      "source": [
        "## 2.1 Ejemplo: Muestreo aleatorio de la distribución Exponencial, Parte 1"
      ]
    },
    {
      "cell_type": "markdown",
      "metadata": {
        "id": "du4M_Ep_YiEg"
      },
      "source": [
        "Sea $X$ una variable alaeatoria con distribución $\\mathrm{exp}(\\alpha)$, con $\\alpha>0$. Entonces la densidad de $X$ es la función\n",
        "\n",
        "$$\n",
        "f_\\alpha(x)=\n",
        "\\begin{cases}\n",
        "0 & \\text{ si } \\ x<0,\\\\[0.3em]\n",
        "\\alpha\\exp\\left(-\\alpha x\\right) & \\text{ si } \\ x\\ge0.\n",
        "\\end{cases}\n",
        "$$\n"
      ]
    },
    {
      "cell_type": "markdown",
      "metadata": {
        "id": "BvIKeKKBYiEg"
      },
      "source": [
        "Y la función de dsitribución está dada por\n",
        "\n",
        "$$\n",
        "F_\\alpha(x)=\n",
        "\\begin{cases}\n",
        "0 & \\text{ si } \\ x<0,\\\\[0.3em]\n",
        "1-\\exp\\left(-\\alpha x\\right) & \\text{ si } \\ x\\ge0.\n",
        "\\end{cases}\n",
        "$$"
      ]
    },
    {
      "cell_type": "markdown",
      "metadata": {
        "id": "0kl_nkLKYiEg"
      },
      "source": [
        "Por lo tanto, para $y\\in(0,1)$,\n",
        "\n",
        "$$\n",
        "F_\\alpha^{-1}(y)=\\frac1\\alpha\\ln\\left(\\frac1{1-y}\\right).\n",
        "$$"
      ]
    },
    {
      "cell_type": "markdown",
      "metadata": {
        "id": "h5fo_UvjYiEh"
      },
      "source": [
        "Podemos hacer un script en Python con lo que ya conocemos:"
      ]
    },
    {
      "cell_type": "code",
      "metadata": {
        "id": "WGpFhjV8YiEh",
        "outputId": "d545ce08-f8b8-4b22-b7d5-a369bdf9fca2"
      },
      "source": [
        "import numpy as np\n",
        "\n",
        "# Transformación inversa de la distribución exp(a)\n",
        "def FINV(y,a):\n",
        "    FINV=(1/a)*np.log(1/(1-y))\n",
        "    return FINV\n",
        "\n",
        "# Obtenemos una muestra de la distribución U(0,1)\n",
        "u=np.random.random()\n",
        "\n",
        "a=1. # Parámetro de la distribución exp(a)\n",
        "\n",
        "# Obtenemos una muestra de la distribución exp(a)\n",
        "x=FINV(u,a)\n",
        "\n",
        "print(\"u=\",u,\"x=\",x)"
      ],
      "execution_count": null,
      "outputs": [
        {
          "output_type": "stream",
          "text": [
            "u= 0.03034601401104975 x= 0.030815986598116893\n"
          ],
          "name": "stdout"
        }
      ]
    },
    {
      "cell_type": "markdown",
      "metadata": {
        "id": "Mzo08T42YiEi"
      },
      "source": [
        "Podemos obtener cualquier número de muestras $m$. Decimos que el **tamaño de la muestra es $m$**."
      ]
    },
    {
      "cell_type": "code",
      "metadata": {
        "id": "--dTCeFbYiEi",
        "outputId": "fd722fe2-523c-424b-f27b-5f10fcee1c2d"
      },
      "source": [
        "# Número de Muestras\n",
        "m=10\n",
        "\n",
        "# m muestras independientes de la distribución U(0,1)\n",
        "u=np.random.random(m)\n",
        "\n",
        "# nn muestras independientes de la distribución exp(a)\n",
        "x=[FINV(u,a) for u in u]\n",
        "\n",
        "print(\"u=\",u,\"\\nx=\",x)"
      ],
      "execution_count": null,
      "outputs": [
        {
          "output_type": "stream",
          "text": [
            "u= [0.2763106  0.32033589 0.82913201 0.29525991 0.08513806 0.02772399\n",
            " 0.02946991 0.2064643  0.59986133 0.92839216] \n",
            "x= [0.3233929904948778, 0.38615656063946285, 1.766863991305133, 0.34992621728232187, 0.08898210545332677, 0.028115554900098337, 0.029912870501886627, 0.2312567547965155, 0.9159441229961787, 2.636550689442798]\n"
          ],
          "name": "stdout"
        }
      ]
    },
    {
      "cell_type": "markdown",
      "metadata": {
        "id": "1JwAs3qVYiEj"
      },
      "source": [
        "Usamos la función **matplotlib.pyplot.hist** para construir un historgrama de frecuencias."
      ]
    },
    {
      "cell_type": "code",
      "metadata": {
        "id": "PpKbR8HCYiEj",
        "outputId": "06494f6f-64d2-4c73-f7b1-f7792cf5c5b8"
      },
      "source": [
        "import numpy as np\n",
        "import matplotlib.pyplot as plt\n",
        "\n",
        "def FINV(y,a):\n",
        "    FINV=(1/a)*np.log(1/(1-y))\n",
        "    return FINV\n",
        "\n",
        "a=1.0\n",
        "m=5000\n",
        "num_bins=50\n",
        "\n",
        "u=np.random.random(m)\n",
        "\n",
        "x=[FINV(u,a) for u in u]\n",
        "\n",
        "print(\"min(x)=\",min(x),\"max(x)=\",max(x))\n",
        "\n",
        "plt.figure(figsize=[12,6])\n",
        "plt.hist(x,edgecolor = 'black',bins=num_bins)\n",
        "plt.ylabel('Frecuencias')\n",
        "plt.title('Histograma de Frecuencias para una muestra aleatoria de tamaño '\n",
        "          +str(m)+\n",
        "          r' de la distribución $\\exp(\\alpha)$ con $\\alpha=$'\n",
        "          +str(a)) \n",
        "plt.show()"
      ],
      "execution_count": null,
      "outputs": [
        {
          "output_type": "stream",
          "text": [
            "min(x)= 0.00021480347266505465 max(x)= 8.31575457211475\n"
          ],
          "name": "stdout"
        },
        {
          "output_type": "display_data",
          "data": {
            "image/png": "[encoded data removed]",
            "text/plain": [
              "<Figure size 864x432 with 1 Axes>"
            ]
          },
          "metadata": {
            "tags": [],
            "needs_background": "light"
          }
        }
      ]
    },
    {
      "cell_type": "markdown",
      "metadata": {
        "id": "dWbXxmahYiEj"
      },
      "source": [
        "# 3 Conociendo mejor la función matplotlib.pyplot.hist"
      ]
    },
    {
      "cell_type": "markdown",
      "metadata": {
        "id": "5RdI0LwuYiEj"
      },
      "source": [
        "## 3.1 Histogramas"
      ]
    },
    {
      "cell_type": "markdown",
      "metadata": {
        "id": "Y80FqlR_YiEk"
      },
      "source": [
        "Recordemos que un **Histograma** es una representación gráfica de un conjunto de datos $S=\\{x_1,...,x_m\\}$ de tamaño $m$, contabilizado en $k$ clases dadas por los intervalos $I_1,...,I_k$ de la forma\n",
        "\n",
        "$$\n",
        "I_1=[a_1,b_1),\\quad I_2=[a_2,b_2),\\quad\\dots\\quad I_k=[a_k,b_k],\n",
        "$$\n",
        "\n",
        "en donde\n",
        "\n",
        "$$\n",
        "a_1<b_1=a_2<b_2=\\cdots=a_k<b_k \\qquad \\text{ y } \\qquad S\\subset[a_1,b_k].\n",
        "$$\n",
        "\n",
        "El gráfico del histograma consta de $k$ rectángulos cuyos anchos están definidos por los límites de las clases (i.e. los puntos extremos de los intervalos $I_1,....,I_k$) y las alturas se determian de acuerdo al tipo de histograma considerado.\n",
        "\n",
        "Podemos identificar $3$ tipos de histogramas:\n",
        "\n",
        "**Histograma de Frecuencias**\n",
        "\n",
        "Las alturas de los rectángulos están determinadas por la frecuencias con la que ocurren cada una de las $k$ clases. \n",
        "\n",
        "Las frecuencias se definen del modo siguiente:\n",
        "\n",
        "Para toda $j=1,...,k$, la **frecuencia** de la $j$-ésima clase está dada por\n",
        "\n",
        "$$\n",
        "f_j:=|\\{s\\in S: s\\in I_j\\}|.\n",
        "$$\n",
        "\n",
        "Observe que\n",
        "\n",
        "$$\n",
        "\\sum_{j=1}^m f_j=m.\n",
        "$$\n",
        "\n",
        "**Histograma de Frecuencias Relativas**\n",
        "\n",
        "Las alturas de los rectángulos están determinadas por la frecuencias relativas con la que ocurren cada una de las $k$ clases. \n",
        "\n",
        "Las frecuencias relativas se definen del modo siguiente:\n",
        "\n",
        "Para toda $j=1,...,k$, la **frecuencia relativa** de la $j$-ésima clase está dada por\n",
        "\n",
        "$$\n",
        "r_j:=\\frac{f_j}m.\n",
        "$$\n",
        "\n",
        "Observe que \n",
        "\n",
        "$$\n",
        "\\sum_{j=1}^m r_j=1\n",
        "$$\n",
        "\n",
        "**Histograma de Densidad**\n",
        "\n",
        "Las alturas de los rectángulos están determinadas por el *área* (*densidad*) de los rectángulos del histograma de frecuencias relativas. \n",
        "\n",
        "Las densidades se definen del modo siguiente:\n",
        "\n",
        "Para toda $j=1,...,k$, la **densidad** de la $j$-ésima clase está dada por\n",
        "\n",
        "$$\n",
        "d_j:=\\frac{r_j}{b_j-a_j}.\n",
        "$$\n",
        "\n",
        "Observe que el gráfico que define el histograma de densidad *integra* 1. Es decir:\n",
        "\n",
        "$$\n",
        "\\sum_{j=1}^n (b_j-a_j)d_j=\\sum_{j=1}^m r_j=1.\n",
        "$$\n",
        "\n",
        "Un histograma de densidad es un indicador preferible a cualquiera de los otros dos histogramas"
      ]
    },
    {
      "cell_type": "markdown",
      "metadata": {
        "id": "Yqe9XouvYiEk"
      },
      "source": [
        "**Ejemplo**\n",
        "\n",
        "Conideremos $m=16$ datos dados por la tabla siguiente\n",
        "\n",
        "| $i$ | $x_i$ | Clase (intervalo)| Frec. Rel. | Densidad |\n",
        "|-----|-------|------------------|------------|----------|\n",
        "|   1  | 0.5| $I_1=[0,1)$ | $0.063$ | $0.063$ |\n",
        "|   2  | 1.2| $I_2=[1,2)$ | $0.250$ | $0.250$ |\n",
        "|   3  | 1.2| $I_2=[1,2)$ | $0.250$ | $0.250$ |\n",
        "|   4  | 1.5| $I_2=[1,2)$ | $0.250$ | $0.250$ |\n",
        "|   5  | 1.7| $I_2=[1,2)$ | $0.250$ | $0.250$ |\n",
        "|   6  | 2.0| $I_3=[2,3)$ | $0.312$ | $0.312$ |\n",
        "|   7  | 2.2| $I_3=[2,3)$ | $0.312$ | $0.312$ |\n",
        "|   8  | 2.5| $I_3=[2,3)$ | $0.312$ | $0.312$ |\n",
        "|   9  | 2.5| $I_3=[2,3)$ | $0.312$ | $0.312$ |\n",
        "|   10  | 2.8| $I_3=[2,3)$ | $0.312$ | $0.312$ |\n",
        "|   11  | 3.1| $I_4=[3,4)$ | $0.188$ | $0.188$ |\n",
        "|   12  | 3.3| $I_4=[3,4)$ | $0.188$ | $0.188$ |\n",
        "|   13  | 3.3| $I_4=[3,4)$ | $0.188$ | $0.188$ |\n",
        "|   14  | 4.2| $I_5=[4,5)$ | $0.123$ | $0.123$ |\n",
        "|   15  | 4.6| $I_5=[4,5)$ | $0.123$ | $0.123$ |\n",
        "|   16  | 5.2| $I_6=[5,6]$ | $0.063$ | $0.063$ |\n"
      ]
    },
    {
      "cell_type": "markdown",
      "metadata": {
        "id": "csU2nxKWYiEk"
      },
      "source": [
        "**Histogramas**"
      ]
    },
    {
      "cell_type": "markdown",
      "metadata": {
        "id": "QxjBqAhwYiEk"
      },
      "source": [
        "![title](histogram_rel.jpg)"
      ]
    },
    {
      "cell_type": "markdown",
      "metadata": {
        "id": "sdPj57MPYiEk"
      },
      "source": [
        "En este caso, el histograma de densidad coincide con el histograma de frecuencias relativas"
      ]
    },
    {
      "cell_type": "markdown",
      "metadata": {
        "id": "_dMmpE-_YiEk"
      },
      "source": [
        "## 3.2.  Ejemplo: Función matplotlib.pyplot.hist"
      ]
    },
    {
      "cell_type": "markdown",
      "metadata": {
        "id": "ZO0EJ5diYiEl"
      },
      "source": [
        "La función **matplotlib.pyplot.hist** tiene como retorno una tupla de tres entradas  que denotamos como\n",
        "\n",
        "$$\n",
        "(\\mathrm{n},\\mathrm{bins},\\mathrm{patches})\n",
        "$$"
      ]
    },
    {
      "cell_type": "markdown",
      "metadata": {
        "id": "Q2w6oHfRYiEl"
      },
      "source": [
        "Cada una de estas entradas siginifica lo siguiente:\n",
        "\n",
        "- $\\mathrm n$ : Esto devuelve el valor de los *bins* del histograma.\n",
        "\n",
        "\n",
        "- $\\mathrm{bins}$ : Esto devuelve el valor de los bordes de los bins.\n",
        "\n",
        "\n",
        "Estos primeros dos objetos son los que se usan para el análsis de datos.\n",
        "\n",
        "\n",
        "- $\\mathrm{patches}$ : Esto devuelve la lista de *patches* individuales utilizados para crear el histograma. Es la colección de rectángulos que forman las barras. Solo se usan para resaltar o cambiar propiedades de las barras."
      ]
    },
    {
      "cell_type": "code",
      "metadata": {
        "id": "D6OBjmYmYiEl",
        "outputId": "e5d232e8-8627-4941-ceb3-f1f59c770db0"
      },
      "source": [
        "import numpy as np\n",
        "import matplotlib.pyplot as plt\n",
        "\n",
        "x=np.random.randint(1,91,size=100,dtype=int) # 100 números entre 1 y 90 (inclusive ambos)\n",
        "\n",
        "plt.figure(figsize=[10,5])\n",
        "h=plt.hist(x,bins=10)\n",
        "plt.show()"
      ],
      "execution_count": null,
      "outputs": [
        {
          "output_type": "display_data",
          "data": {
            "image/png": "[encoded data removed]",
            "text/plain": [
              "<Figure size 720x360 with 1 Axes>"
            ]
          },
          "metadata": {
            "tags": [],
            "needs_background": "light"
          }
        }
      ]
    },
    {
      "cell_type": "code",
      "metadata": {
        "id": "P3A-qfJVYiEl",
        "outputId": "c8d679a1-6bd0-4efa-c589-2a2b1fc7217f"
      },
      "source": [
        "n=h[0]\n",
        "n"
      ],
      "execution_count": null,
      "outputs": [
        {
          "output_type": "execute_result",
          "data": {
            "text/plain": [
              "array([10., 12., 10., 12.,  3., 14., 12., 10.,  9.,  8.])"
            ]
          },
          "metadata": {
            "tags": []
          },
          "execution_count": 12
        }
      ]
    },
    {
      "cell_type": "code",
      "metadata": {
        "id": "cK03ytS2YiEl",
        "outputId": "097b7abf-dd21-47f5-bd4b-27adcde7f361"
      },
      "source": [
        "sum(n)"
      ],
      "execution_count": null,
      "outputs": [
        {
          "output_type": "execute_result",
          "data": {
            "text/plain": [
              "100.0"
            ]
          },
          "metadata": {
            "tags": []
          },
          "execution_count": 13
        }
      ]
    },
    {
      "cell_type": "code",
      "metadata": {
        "id": "ZDwidr2cYiEm",
        "outputId": "4eb38399-fefe-4e79-c4a7-7e1a5cd8da3a"
      },
      "source": [
        "# Frecuencias Relativas\n",
        "f=n/100\n",
        "f"
      ],
      "execution_count": null,
      "outputs": [
        {
          "output_type": "execute_result",
          "data": {
            "text/plain": [
              "array([0.1 , 0.12, 0.1 , 0.12, 0.03, 0.14, 0.12, 0.1 , 0.09, 0.08])"
            ]
          },
          "metadata": {
            "tags": []
          },
          "execution_count": 14
        }
      ]
    },
    {
      "cell_type": "code",
      "metadata": {
        "id": "FuyqnNL1YiEm",
        "outputId": "b3247015-32b9-41d3-be47-f797ad9b0e4f"
      },
      "source": [
        "sum(f)"
      ],
      "execution_count": null,
      "outputs": [
        {
          "output_type": "execute_result",
          "data": {
            "text/plain": [
              "0.9999999999999999"
            ]
          },
          "metadata": {
            "tags": []
          },
          "execution_count": 15
        }
      ]
    },
    {
      "cell_type": "code",
      "metadata": {
        "id": "McHf7zr6YiEm",
        "outputId": "a85dbc5b-40b3-4d0c-813e-c7078b418e0c"
      },
      "source": [
        "bins=h[1]\n",
        "bins"
      ],
      "execution_count": null,
      "outputs": [
        {
          "output_type": "execute_result",
          "data": {
            "text/plain": [
              "array([ 3. , 11.6, 20.2, 28.8, 37.4, 46. , 54.6, 63.2, 71.8, 80.4, 89. ])"
            ]
          },
          "metadata": {
            "tags": []
          },
          "execution_count": 16
        }
      ]
    },
    {
      "cell_type": "code",
      "metadata": {
        "id": "7rrI0QgEYiEm",
        "outputId": "e64e4ae5-d70c-40af-ff35-594022e6bcb4"
      },
      "source": [
        "patches=h[2]\n",
        "patches[0]"
      ],
      "execution_count": null,
      "outputs": [
        {
          "output_type": "execute_result",
          "data": {
            "text/plain": [
              "<matplotlib.patches.Rectangle at 0x7fa0c22166d0>"
            ]
          },
          "metadata": {
            "tags": []
          },
          "execution_count": 17
        }
      ]
    },
    {
      "cell_type": "code",
      "metadata": {
        "id": "KSlvFMyTYiEn",
        "outputId": "418825d6-b73d-43ee-bbd8-18a36dc95c27"
      },
      "source": [
        "plt.figure(figsize=[10,5])\n",
        "n, bins, patches=plt.hist(x,edgecolor = 'black',bins=10)\n",
        "plt.setp(patches[1],color='g')\n",
        "plt.show()"
      ],
      "execution_count": null,
      "outputs": [
        {
          "output_type": "display_data",
          "data": {
            "image/png": "[encoded data removed]",
            "text/plain": [
              "<Figure size 720x360 with 1 Axes>"
            ]
          },
          "metadata": {
            "tags": [],
            "needs_background": "light"
          }
        }
      ]
    },
    {
      "cell_type": "code",
      "metadata": {
        "id": "X5bzfAQlYiEn",
        "outputId": "c52e24a4-5d10-4dcc-d7f9-e83145c874d8"
      },
      "source": [
        "# Tamaño de los intervalos de las barras\n",
        "b=np.diff(bins)\n",
        "b"
      ],
      "execution_count": null,
      "outputs": [
        {
          "output_type": "execute_result",
          "data": {
            "text/plain": [
              "array([8.6, 8.6, 8.6, 8.6, 8.6, 8.6, 8.6, 8.6, 8.6, 8.6])"
            ]
          },
          "metadata": {
            "tags": []
          },
          "execution_count": 19
        }
      ]
    },
    {
      "cell_type": "code",
      "metadata": {
        "id": "BEd9DMADYiEn",
        "outputId": "4978b084-233b-49d6-a157-873c550688cd"
      },
      "source": [
        "# Densidades \n",
        "d=[f/b for f,b in zip(f,b)] # Densidad =(Frecuencia Relativa)/(Tamaño del Intervalo)\n",
        "d"
      ],
      "execution_count": null,
      "outputs": [
        {
          "output_type": "execute_result",
          "data": {
            "text/plain": [
              "[0.011627906976744188,\n",
              " 0.013953488372093023,\n",
              " 0.01162790697674419,\n",
              " 0.01395348837209302,\n",
              " 0.003488372093023255,\n",
              " 0.016279069767441874,\n",
              " 0.01395348837209302,\n",
              " 0.011627906976744184,\n",
              " 0.010465116279069774,\n",
              " 0.00930232558139534]"
            ]
          },
          "metadata": {
            "tags": []
          },
          "execution_count": 20
        }
      ]
    },
    {
      "cell_type": "markdown",
      "metadata": {
        "id": "dvZN5Dn8YiEn"
      },
      "source": [
        "Para obtener el histograma de densidad agragamos el parámetro **density=1**."
      ]
    },
    {
      "cell_type": "code",
      "metadata": {
        "id": "3mTSAkjgYiEo",
        "outputId": "c282a815-e42b-4b0b-a54b-44b9d7276b7e"
      },
      "source": [
        "plt.figure(figsize=[10,5])\n",
        "n, bins, patches=plt.hist(x,edgecolor = 'black',bins=10,density=1)\n",
        "plt.setp(patches[1],color='g')\n",
        "plt.show()"
      ],
      "execution_count": null,
      "outputs": [
        {
          "output_type": "display_data",
          "data": {
            "image/png": "[encoded data removed]",
            "text/plain": [
              "<Figure size 720x360 with 1 Axes>"
            ]
          },
          "metadata": {
            "tags": [],
            "needs_background": "light"
          }
        }
      ]
    },
    {
      "cell_type": "code",
      "metadata": {
        "id": "yqU74qfkYiEo",
        "outputId": "322a4cf1-07c3-4bb3-a452-b7c45687790d"
      },
      "source": [
        "bins"
      ],
      "execution_count": null,
      "outputs": [
        {
          "output_type": "execute_result",
          "data": {
            "text/plain": [
              "array([ 3. , 11.6, 20.2, 28.8, 37.4, 46. , 54.6, 63.2, 71.8, 80.4, 89. ])"
            ]
          },
          "metadata": {
            "tags": []
          },
          "execution_count": 22
        }
      ]
    },
    {
      "cell_type": "code",
      "metadata": {
        "id": "Ol1DjB47YiEo",
        "outputId": "b9af9ab5-bf39-4340-fcf0-9c1f98c6fd4d"
      },
      "source": [
        "n"
      ],
      "execution_count": null,
      "outputs": [
        {
          "output_type": "execute_result",
          "data": {
            "text/plain": [
              "array([0.01162791, 0.01395349, 0.01162791, 0.01395349, 0.00348837,\n",
              "       0.01627907, 0.01395349, 0.01162791, 0.01046512, 0.00930233])"
            ]
          },
          "metadata": {
            "tags": []
          },
          "execution_count": 23
        }
      ]
    },
    {
      "cell_type": "markdown",
      "metadata": {
        "id": "E9kzaBS6YiEo"
      },
      "source": [
        "## 3.3 Ejemplo: Muestreo aleatorio de la distribución Exponencial, Parte 2"
      ]
    },
    {
      "cell_type": "code",
      "metadata": {
        "id": "P3PtEDETYiEo",
        "outputId": "704d3b86-859b-46a1-c909-508cf5b7b3a1"
      },
      "source": [
        "import numpy as np\n",
        "import matplotlib.pyplot as plt\n",
        "\n",
        "def FINV(y,a):\n",
        "    FINV=(1/a)*np.log(1/(1-y))\n",
        "    return FINV\n",
        "\n",
        "a=1.0\n",
        "m=5000\n",
        "num_bins=50\n",
        "\n",
        "u=np.random.random(m)\n",
        "\n",
        "x=[FINV(u,a) for u in u]\n",
        "\n",
        "print(\"min(x)=\",min(x),\"max(x)=\",max(x))\n",
        "\n",
        "plt.figure(figsize=[15,8])\n",
        "n, bins , patches = plt.hist(x,edgecolor = 'black',bins=num_bins,density = 1)\n",
        "plt.ylabel('Densidades')\n",
        "plt.title('Histograma de Densidades para una muestra aleatoria de tamaño '\n",
        "          +str(m)+\n",
        "          r' de la distribución $\\exp(\\alpha)$ con $\\alpha=$'\n",
        "          +str(a))\n",
        "y=(a*np.exp(-a*bins)) # Densidad exp(a)\n",
        "plt.plot(bins, y,color ='red',label=r'Densidad $exp(\\alpha)$')\n",
        "plt.legend()\n",
        "plt.show()"
      ],
      "execution_count": null,
      "outputs": [
        {
          "output_type": "stream",
          "text": [
            "min(x)= 0.0003900504581118719 max(x)= 8.012013207522228\n"
          ],
          "name": "stdout"
        },
        {
          "output_type": "display_data",
          "data": {
            "image/png": "[encoded data removed]",
            "text/plain": [
              "<Figure size 1080x576 with 1 Axes>"
            ]
          },
          "metadata": {
            "tags": [],
            "needs_background": "light"
          }
        }
      ]
    },
    {
      "cell_type": "markdown",
      "metadata": {
        "id": "HxOCK5C3YiEp"
      },
      "source": [
        "# 4 Funciones lambda (uso básico)"
      ]
    },
    {
      "cell_type": "markdown",
      "metadata": {
        "id": "9DG-Hor1YiEp"
      },
      "source": [
        "Una **función lambda** es una pequeña función la cul generalmente se conoce como función anónima. El principal uso de las funciones lambda es para crear funciones \"sobre la marcha\". Es decir, cuando se requiere dde funciones que son usadas solo en una pequeña parte del código o en un periodo corto de tiempo. Las funciones lambda pueden sustituir el método usual mediante la sentencia usual **def** y son ello simplificar el código. "
      ]
    },
    {
      "cell_type": "markdown",
      "metadata": {
        "id": "3J9LkyMyYiEp"
      },
      "source": [
        "Fuentes:\n",
        "\n",
        "- [www.w3schools.com](https://www.w3schools.com/python/python_lambda.asp)\n",
        "\n",
        "- [realpython.com](https://realpython.com/python-lambda/)"
      ]
    },
    {
      "cell_type": "markdown",
      "metadata": {
        "id": "Q7oNgz_sYiEp"
      },
      "source": [
        "## Sintaxis"
      ]
    },
    {
      "cell_type": "code",
      "metadata": {
        "id": "OyfdGKWFYiEp"
      },
      "source": [
        "lambda arguments : expression"
      ],
      "execution_count": null,
      "outputs": []
    },
    {
      "cell_type": "markdown",
      "metadata": {
        "id": "qA9c3j75YiEp"
      },
      "source": [
        "Una función lambda puede tomar cualquier número de argumentos, pero solo puede tener una expresión"
      ]
    },
    {
      "cell_type": "markdown",
      "metadata": {
        "id": "J3bO79bMYiEp"
      },
      "source": [
        "## Ejemplo"
      ]
    },
    {
      "cell_type": "code",
      "metadata": {
        "id": "q-H9oBqLYiEq",
        "outputId": "7fee052c-ad65-4ea5-b7f7-cd74e064078c"
      },
      "source": [
        "# Función \"sumar 10\" como función lambda\n",
        "\n",
        "x=lambda a:a+10\n",
        "type(x)"
      ],
      "execution_count": null,
      "outputs": [
        {
          "output_type": "execute_result",
          "data": {
            "text/plain": [
              "function"
            ]
          },
          "metadata": {
            "tags": []
          },
          "execution_count": 101
        }
      ]
    },
    {
      "cell_type": "code",
      "metadata": {
        "id": "iD6QbSvnYiEq",
        "outputId": "2365c11f-8d89-44ab-d307-411c811fb0a4"
      },
      "source": [
        "x(0)"
      ],
      "execution_count": null,
      "outputs": [
        {
          "output_type": "execute_result",
          "data": {
            "text/plain": [
              "10"
            ]
          },
          "metadata": {
            "tags": []
          },
          "execution_count": 102
        }
      ]
    },
    {
      "cell_type": "code",
      "metadata": {
        "id": "mAiVoIroYiEq"
      },
      "source": [
        "# Función \"sumar 10\" con def\n",
        "\n",
        "def x(n):\n",
        "    return n+10"
      ],
      "execution_count": null,
      "outputs": []
    },
    {
      "cell_type": "code",
      "metadata": {
        "id": "gOektSE_YiEq",
        "outputId": "5be4bc12-dd0b-483e-8a5d-6d98984493cb"
      },
      "source": [
        "x(9)"
      ],
      "execution_count": null,
      "outputs": [
        {
          "output_type": "execute_result",
          "data": {
            "text/plain": [
              "19"
            ]
          },
          "metadata": {
            "tags": []
          },
          "execution_count": 104
        }
      ]
    },
    {
      "cell_type": "markdown",
      "metadata": {
        "id": "f4ervBOsYiEq"
      },
      "source": [
        "## Ejemplo"
      ]
    },
    {
      "cell_type": "code",
      "metadata": {
        "id": "cheHTaTQYiEr"
      },
      "source": [
        "# Función producto\n",
        "\n",
        "x=lambda a,b:a*b"
      ],
      "execution_count": null,
      "outputs": []
    },
    {
      "cell_type": "code",
      "metadata": {
        "id": "bauxG5cxYiEr",
        "outputId": "b3fe5875-3079-4259-dd75-0a098165c1dc"
      },
      "source": [
        "x(3,4)"
      ],
      "execution_count": null,
      "outputs": [
        {
          "output_type": "execute_result",
          "data": {
            "text/plain": [
              "12"
            ]
          },
          "metadata": {
            "tags": []
          },
          "execution_count": 106
        }
      ]
    },
    {
      "cell_type": "code",
      "metadata": {
        "id": "dN12qNPMYiEr",
        "outputId": "32968e28-ebfa-4942-da33-7a381e92b79d"
      },
      "source": [
        "lambda a,b:a*b"
      ],
      "execution_count": null,
      "outputs": [
        {
          "output_type": "execute_result",
          "data": {
            "text/plain": [
              "<function __main__.<lambda>(a, b)>"
            ]
          },
          "metadata": {
            "tags": []
          },
          "execution_count": 107
        }
      ]
    },
    {
      "cell_type": "code",
      "metadata": {
        "id": "9Ohunu40YiEr",
        "outputId": "b3ae69fc-f639-4dd7-e9a1-33e194f53b2f"
      },
      "source": [
        "_(5,7)"
      ],
      "execution_count": null,
      "outputs": [
        {
          "output_type": "execute_result",
          "data": {
            "text/plain": [
              "35"
            ]
          },
          "metadata": {
            "tags": []
          },
          "execution_count": 108
        }
      ]
    },
    {
      "cell_type": "markdown",
      "metadata": {
        "id": "tuhiIqMyYiEr"
      },
      "source": [
        "En el intérprete interactivo, el guión bajo \\_ está vinculado a la última expresión evaluada. "
      ]
    },
    {
      "cell_type": "code",
      "metadata": {
        "id": "uH2PFUhNYiEr",
        "outputId": "69fbb0b4-8159-47b8-923f-0d3a8975fe40"
      },
      "source": [
        "(lambda a,b:a*b)(4,8)"
      ],
      "execution_count": null,
      "outputs": [
        {
          "output_type": "execute_result",
          "data": {
            "text/plain": [
              "32"
            ]
          },
          "metadata": {
            "tags": []
          },
          "execution_count": 9
        }
      ]
    },
    {
      "cell_type": "markdown",
      "metadata": {
        "id": "IAKP_g_pYiEs"
      },
      "source": [
        "## Ejemplo: Funciones de orden superior"
      ]
    },
    {
      "cell_type": "markdown",
      "metadata": {
        "id": "UydjCI5cYiEs"
      },
      "source": [
        "Otro uso importante de las funciones lambda es como función \"anónima\" dentro de otra función. El resultado es una función que devuelve otra función."
      ]
    },
    {
      "cell_type": "markdown",
      "metadata": {
        "id": "bYduyAI9YiEs"
      },
      "source": [
        "Supongamos que tiene una definición de función que toma un argumento, y ese argumento se multiplicará por un número desconocido:"
      ]
    },
    {
      "cell_type": "code",
      "metadata": {
        "id": "xUbvk0B0YiEs"
      },
      "source": [
        "def myfunc(n):\n",
        "  return lambda a : a * n"
      ],
      "execution_count": null,
      "outputs": []
    },
    {
      "cell_type": "code",
      "metadata": {
        "id": "ke6s1c36YiEs"
      },
      "source": [
        "mydoubler = myfunc(2)"
      ],
      "execution_count": null,
      "outputs": []
    },
    {
      "cell_type": "code",
      "metadata": {
        "id": "JkkHej1pYiEs",
        "outputId": "702f702c-6715-4460-ce0e-44cbe1bb8be5"
      },
      "source": [
        "mydoubler(11)"
      ],
      "execution_count": null,
      "outputs": [
        {
          "output_type": "execute_result",
          "data": {
            "text/plain": [
              "22"
            ]
          },
          "metadata": {
            "tags": []
          },
          "execution_count": 111
        }
      ]
    },
    {
      "cell_type": "code",
      "metadata": {
        "id": "jYnaZIP4YiEt"
      },
      "source": [
        "mytripler=myfunc(3)"
      ],
      "execution_count": null,
      "outputs": []
    },
    {
      "cell_type": "code",
      "metadata": {
        "id": "b1IOy6vvYiEt",
        "outputId": "154c220c-2001-4b17-ec6b-2450344958e3"
      },
      "source": [
        "mytripler(11)"
      ],
      "execution_count": null,
      "outputs": [
        {
          "output_type": "execute_result",
          "data": {
            "text/plain": [
              "33"
            ]
          },
          "metadata": {
            "tags": []
          },
          "execution_count": 113
        }
      ]
    },
    {
      "cell_type": "markdown",
      "metadata": {
        "id": "xii9P8tkYiEt"
      },
      "source": [
        "Una función lambda puede ser una función de orden superior tomando una función (normal o lambda)."
      ]
    },
    {
      "cell_type": "code",
      "metadata": {
        "id": "U1yQjU3WYiEt"
      },
      "source": [
        "mymultiplier=lambda a,n,myfunc:myfunc(a,n)"
      ],
      "execution_count": null,
      "outputs": []
    },
    {
      "cell_type": "code",
      "metadata": {
        "id": "3KI3ADsFYiEt",
        "outputId": "1d028d2a-98fd-49bd-c927-c81ca18188b6"
      },
      "source": [
        "mymultiplier(11,2,lambda a,n:a*n)"
      ],
      "execution_count": null,
      "outputs": [
        {
          "output_type": "execute_result",
          "data": {
            "text/plain": [
              "22"
            ]
          },
          "metadata": {
            "tags": []
          },
          "execution_count": 115
        }
      ]
    },
    {
      "cell_type": "code",
      "metadata": {
        "id": "9zLeNVIeYiEu",
        "outputId": "8607f0f5-e077-46f9-a694-ae963916be84"
      },
      "source": [
        "mymultiplier(5,2,lambda a,n:a*n)"
      ],
      "execution_count": null,
      "outputs": [
        {
          "output_type": "execute_result",
          "data": {
            "text/plain": [
              "10"
            ]
          },
          "metadata": {
            "tags": []
          },
          "execution_count": 116
        }
      ]
    },
    {
      "cell_type": "code",
      "metadata": {
        "id": "bOfvP6QCYiEu",
        "outputId": "f2117e82-04f7-4936-bd22-5c76eb345462"
      },
      "source": [
        "mymultiplier(11,3,lambda a,n:a*n)"
      ],
      "execution_count": null,
      "outputs": [
        {
          "output_type": "execute_result",
          "data": {
            "text/plain": [
              "33"
            ]
          },
          "metadata": {
            "tags": []
          },
          "execution_count": 117
        }
      ]
    },
    {
      "cell_type": "markdown",
      "metadata": {
        "id": "lFtbo3JMYiEu"
      },
      "source": [
        "Redefinimos las funciones 'doubler' y 'tripler':"
      ]
    },
    {
      "cell_type": "code",
      "metadata": {
        "id": "kPO1FQ-iYiEu"
      },
      "source": [
        "mydoubler=lambda a:mymultiplier(a,2,lambda a,n:a*n)"
      ],
      "execution_count": null,
      "outputs": []
    },
    {
      "cell_type": "code",
      "metadata": {
        "id": "_GTHDOCuYiEu",
        "outputId": "c1307cca-0f06-42a7-c4f8-510285772407"
      },
      "source": [
        "mydoubler(6)"
      ],
      "execution_count": null,
      "outputs": [
        {
          "output_type": "execute_result",
          "data": {
            "text/plain": [
              "12"
            ]
          },
          "metadata": {
            "tags": []
          },
          "execution_count": 119
        }
      ]
    },
    {
      "cell_type": "code",
      "metadata": {
        "id": "PnbuAXNnYiEv"
      },
      "source": [
        "mytripler=lambda a:mymultiplier(a,3,lambda a,n:a*n)"
      ],
      "execution_count": null,
      "outputs": []
    },
    {
      "cell_type": "code",
      "metadata": {
        "id": "XhSA4ic6YiEv",
        "outputId": "9eb9bac4-f6b0-4304-fb3c-e18b113ca108"
      },
      "source": [
        "mytripler(6)"
      ],
      "execution_count": null,
      "outputs": [
        {
          "output_type": "execute_result",
          "data": {
            "text/plain": [
              "18"
            ]
          },
          "metadata": {
            "tags": []
          },
          "execution_count": 121
        }
      ]
    },
    {
      "cell_type": "markdown",
      "metadata": {
        "id": "HrWY3VYLYiEv"
      },
      "source": [
        "# 5. Función map"
      ]
    },
    {
      "cell_type": "markdown",
      "metadata": {
        "id": "FGNo3psgYiEv"
      },
      "source": [
        "La función **map( )** devuelve una lista de rresultados después de aplicar una función dada a cada elemento de un iterable dado (lista, tupla, etc.)"
      ]
    },
    {
      "cell_type": "markdown",
      "metadata": {
        "id": "QkBF3AYVYiEv"
      },
      "source": [
        "## Sintaxis"
      ]
    },
    {
      "cell_type": "code",
      "metadata": {
        "id": "g2RrUFXvYiEv"
      },
      "source": [
        "map(fun, iter)"
      ],
      "execution_count": null,
      "outputs": []
    },
    {
      "cell_type": "markdown",
      "metadata": {
        "id": "4GcGamJYYiEv"
      },
      "source": [
        "**Parámetros**\n",
        "\n",
        "- **fun** Es una función a la que map aplica a cada elemento de un iterable dado.\n",
        "\n",
        "- **iter** Es un iterable que se va a mapear."
      ]
    },
    {
      "cell_type": "markdown",
      "metadata": {
        "id": "rJPwU8LyYiEw"
      },
      "source": [
        "**Características**\n",
        "\n",
        "- Se puede pasar uno o más iterables a la función **map( )**.\n",
        "\n",
        "- **map( )** se puede convertir a listas, tuplas o conjuntos con las funciones **list( )**, **tuple( )** y **set( )**, resp."
      ]
    },
    {
      "cell_type": "markdown",
      "metadata": {
        "id": "PGIAL6TlYiEw"
      },
      "source": [
        "## Ejemplo"
      ]
    },
    {
      "cell_type": "code",
      "metadata": {
        "id": "78tkPnfaYiEw",
        "outputId": "e4407113-6020-4039-c659-b8afeaeded51"
      },
      "source": [
        "add=lambda n:n+n\n",
        "numbers=(1,2,3,4)\n",
        "\n",
        "result=map(add,numbers)\n",
        "type(result)"
      ],
      "execution_count": null,
      "outputs": [
        {
          "output_type": "execute_result",
          "data": {
            "text/plain": [
              "map"
            ]
          },
          "metadata": {
            "tags": []
          },
          "execution_count": 122
        }
      ]
    },
    {
      "cell_type": "code",
      "metadata": {
        "id": "_zjvlitUYiEw",
        "outputId": "b0c246c9-e54f-4fd0-c4a7-924d43f51c23"
      },
      "source": [
        "list(result)"
      ],
      "execution_count": null,
      "outputs": [
        {
          "output_type": "execute_result",
          "data": {
            "text/plain": [
              "[2, 4, 6, 8]"
            ]
          },
          "metadata": {
            "tags": []
          },
          "execution_count": 123
        }
      ]
    },
    {
      "cell_type": "markdown",
      "metadata": {
        "id": "b2f9Wg-6YiEw"
      },
      "source": [
        "## Ejemplo"
      ]
    },
    {
      "cell_type": "code",
      "metadata": {
        "id": "3yJ8JpN1YiEw",
        "outputId": "98e81247-7195-422a-bfd2-2dc33d473f77"
      },
      "source": [
        "n1=[1,2,3]\n",
        "n2=[4,5,6]\n",
        "\n",
        "result=map(lambda x,y:x+y,n1,n2)\n",
        "\n",
        "list(result)"
      ],
      "execution_count": null,
      "outputs": [
        {
          "output_type": "execute_result",
          "data": {
            "text/plain": [
              "[5, 7, 9]"
            ]
          },
          "metadata": {
            "tags": []
          },
          "execution_count": 124
        }
      ]
    },
    {
      "cell_type": "markdown",
      "metadata": {
        "id": "nurUzBRPYiEx"
      },
      "source": [
        "# 6. Muestreo Alaetorio de la distribución Exponencial, Parte 3"
      ]
    },
    {
      "cell_type": "markdown",
      "metadata": {
        "id": "WK074SojYiEx"
      },
      "source": [
        "Podemos repetir el muestreo exponencial usando una función **lambda** y la función **map( )** y la librería **scipy** (epecífica para estadística y probabilidad).\n",
        "\n",
        "Fuente: *Python for probability, Statistics and Machine Learning*, J. Unpingco, pág.91."
      ]
    },
    {
      "cell_type": "code",
      "metadata": {
        "id": "ofYLzEF_YiEx"
      },
      "source": [
        "import numpy as np\n",
        "import scipy.stats\n",
        "\n",
        "a = 1. # Parámetro de la distribución exponencial\n",
        "m = 1000 # Número de muestras aleatorias\n",
        "u=scipy.stats.uniform(0,1) # Variable alatoria uniforme sobre (0,1)\n",
        "Finv=lambda u: (1/a)*np.log(1/(1-u)) # Transformada inversa de la distribución de exp(alpha)\n",
        "v=list(map(Finv,u.rvs(m))) # Aplicamos la inversa a las muestras uniformes"
      ],
      "execution_count": null,
      "outputs": []
    },
    {
      "cell_type": "markdown",
      "metadata": {
        "id": "cHF-GBQWYiEx"
      },
      "source": [
        "Ya tenemos las muestras de la distribución exponencial, pero ¿cómo sabemos que el método es correcto? Afortunadamente, **scipy.stats** ya tiene una distribución exponencial, por lo que podemos comparar nuestro trabajo con la referencia usando una gráfica de probabilidad (es decir, también conocida como aquantile-quantileplot). El siguiente código configura la gráfica de probabilidad de **scipy.stats**"
      ]
    },
    {
      "cell_type": "code",
      "metadata": {
        "id": "vYZk6TDqYiEy",
        "outputId": "f4b3245d-643b-4bc3-c97b-a8c15048d1f1"
      },
      "source": [
        "import matplotlib.pyplot as plt \n",
        "\n",
        "plt.figure(figsize=[15,8])\n",
        "scipy.stats.probplot(v,(a,),dist='expon',plot=plt)\n",
        "plt.show()"
      ],
      "execution_count": null,
      "outputs": [
        {
          "output_type": "display_data",
          "data": {
            "image/png": "[encoded data removed]",
            "text/plain": [
              "<Figure size 1080x576 with 1 Axes>"
            ]
          },
          "metadata": {
            "tags": [],
            "needs_background": "light"
          }
        }
      ]
    },
    {
      "cell_type": "markdown",
      "metadata": {
        "id": "ocd_OpFYYiEy"
      },
      "source": [
        "Cuanto más coincida la línea de muestras con la línea diagonal, más coinciden con la distribución de referencia (es decir, distribución exponencial en este caso)."
      ]
    },
    {
      "cell_type": "markdown",
      "metadata": {
        "id": "Yn2OW4FPYiEy"
      },
      "source": [
        "# 7. Ejemplo: Muestreo Normal"
      ]
    },
    {
      "cell_type": "code",
      "metadata": {
        "id": "4UX2kjzRYiEy",
        "outputId": "d7713961-073e-4e97-e754-ac206ea76058"
      },
      "source": [
        "# Implementation of matplotlib function \n",
        "import matplotlib \n",
        "import numpy as np \n",
        "import matplotlib.pyplot as plt \n",
        "   \n",
        "np.random.seed(10**7) \n",
        "mu = 121 \n",
        "sigma = 21\n",
        "x = mu + sigma * np.random.randn(1000) \n",
        "   \n",
        "num_bins = 100\n",
        "   \n",
        "n, bins, patches = plt.hist(x, num_bins,  \n",
        "                            density = 1,  \n",
        "                            color ='green', \n",
        "                            alpha = 0.7)\n",
        "   \n",
        "y = ((1 / (np.sqrt(2 * np.pi) * sigma)) *\n",
        "     np.exp(-0.5 * (1 / sigma * (bins - mu))**2)) \n",
        "  \n",
        "plt.plot(bins, y, '--', color ='black') \n",
        "  \n",
        "plt.ylabel('Density') \n",
        "plt.xlabel('Samples') \n",
        "  \n",
        "plt.title('matplotlib.pyplot.hist() function Example\\n\\n', \n",
        "          fontweight =\"bold\") \n",
        "  \n",
        "plt.show() "
      ],
      "execution_count": null,
      "outputs": [
        {
          "output_type": "display_data",
          "data": {
            "image/png": "[encoded data removed]",
            "text/plain": [
              "<Figure size 432x288 with 1 Axes>"
            ]
          },
          "metadata": {
            "tags": [],
            "needs_background": "light"
          }
        }
      ]
    },
    {
      "cell_type": "code",
      "metadata": {
        "id": "o8oYgfThYiEy"
      },
      "source": [],
      "execution_count": null,
      "outputs": []
    }
  ]
}