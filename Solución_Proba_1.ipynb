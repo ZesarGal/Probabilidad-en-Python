{
 "cells": [
  {
   "cell_type": "code",
   "execution_count": 1,
   "metadata": {},
   "outputs": [],
   "source": [
    "import sympy as sym\n",
    "from sympy import*"
   ]
  },
  {
   "cell_type": "markdown",
   "metadata": {
    "id": "myyUCFbMojhn"
   },
   "source": [
    "## Ejercicios\n",
    "\n",
    "### Ejercicio 1.\n",
    "\n",
    "Supongamos que se lanzan dos dados honestos. Considere los siguientes eventos:\n",
    "\t- $S_{n}:$ la suma de las caras de los dados es $n$.\n",
    "\t- $D_{m}:$ la diferencia de las caras de los dados es mayor o igual a $m$.\n",
    "\t\n",
    "  Sea $R_{S_n}$ el conjunto de valores que toma la variable $S_n$ y similarmente para $R_{D_n}$. Conteste la siguientes preguntas justificando sus respuestas:\n",
    "\n",
    "* Calcule $\\mathbb{P}(S_{7}\\mid D_{3})$ y $\\mathbb{P}(D_{3}\\mid S_{7})$.\n",
    "* ¿Los eventos dados son ajenos para alguna elección de $(n,m)\\in R_{S_n}\\times R_{D_m}$ ?\n",
    "* ¿Los eventos son independientes? \n",
    "* Calcule $\\mathbb{P}(S_{n}\\cap D_{m})$ para dos $(n,m), (n^{\\prime}, m^{\\prime})\\in R_{S_n}\\times R_{D_m}$ distintos.\n",
    "\n",
    "\n",
    "\n",
    "\n",
    "\n",
    "\n"
   ]
  },
  {
   "cell_type": "markdown",
   "metadata": {
    "id": "JMG4LSwvqdQ0"
   },
   "source": [
    "**Solución.**  El espacio muestral tanto para $S_{n}$ como para $D_{n}$ es el mismo:\n",
    "$$\\Omega_{1}=\\{1,2,3,4,5,6\\}\\times \\{1,2,3,4,5,6\\}$$\n",
    "\n",
    "Ahora, veamos el rango de cada evento:\n",
    "\n",
    "\n",
    "*   $R_{S_{n}}=\\{2,3,4,5,6,7,8,9,10,11,12\\}$\n",
    "*   $R_{D_{n}}=\\{0,1,2,3,4,5\\}$\n",
    "\n"
   ]
  },
  {
   "cell_type": "code",
   "execution_count": 2,
   "metadata": {
    "colab": {
     "base_uri": "https://localhost:8080/"
    },
    "id": "99pQBNYLqThO",
    "outputId": "6b052b38-02c4-4b1d-c9af-edc4d265e2e0"
   },
   "outputs": [
    {
     "name": "stdout",
     "output_type": "stream",
     "text": [
      "{(3, 4), (4, 3), (3, 1), (5, 4), (4, 6), (5, 1), (2, 2), (1, 6), (2, 5), (1, 3), (6, 2), (6, 5), (4, 2), (4, 5), (3, 3), (5, 6), (3, 6), (5, 3), (2, 4), (1, 2), (2, 1), (1, 5), (6, 1), (6, 4), (3, 2), (4, 1), (3, 5), (5, 2), (4, 4), (5, 5), (1, 1), (1, 4), (2, 3), (2, 6), (6, 6), (6, 3)}\n",
      "La cardinalidad de Omega1 es: 36\n"
     ]
    }
   ],
   "source": [
    "# Espacio muestral\n",
    "\n",
    "from itertools import product\n",
    "\n",
    "\n",
    "Omega1 = set(product({1,2,3,4,5,6}, repeat =2))\n",
    "print(Omega1)\n",
    "print(\"La cardinalidad de Omega1 es:\", len(Omega1))"
   ]
  },
  {
   "cell_type": "markdown",
   "metadata": {
    "id": "8IM6ltrcsObG"
   },
   "source": [
    "La descripción conjuntista de los eventos en cuestión son:\n",
    "$$S_{n}=\\{(i,j)\\in \\Omega_{1} : i+j =n \\}$$\n",
    "y\n",
    "$$D_{m}=\\{(i,j)\\in \\Omega_{1} : |i-j|\\geq m \\}$$\n"
   ]
  },
  {
   "cell_type": "code",
   "execution_count": 3,
   "metadata": {
    "id": "a8cu8AcVqTZz"
   },
   "outputs": [],
   "source": [
    "# La suma de los dos dados en n\n",
    "def S(n):\n",
    "    S = {o for o in Omega1 if o[0]+o[1] == n}\n",
    "    return S "
   ]
  },
  {
   "cell_type": "markdown",
   "metadata": {
    "id": "Pc4U2Pefth5N"
   },
   "source": [
    "Veamos los eventos para cada $n$:"
   ]
  },
  {
   "cell_type": "code",
   "execution_count": 4,
   "metadata": {
    "colab": {
     "base_uri": "https://localhost:8080/"
    },
    "id": "dYPee5C6rwxX",
    "outputId": "990ebfcb-5b05-402c-db59-09b0e8344845"
   },
   "outputs": [
    {
     "data": {
      "text/plain": [
       "{2: {(1, 1)},\n",
       " 3: {(1, 2), (2, 1)},\n",
       " 4: {(1, 3), (2, 2), (3, 1)},\n",
       " 5: {(1, 4), (2, 3), (3, 2), (4, 1)},\n",
       " 6: {(1, 5), (2, 4), (3, 3), (4, 2), (5, 1)},\n",
       " 7: {(1, 6), (2, 5), (3, 4), (4, 3), (5, 2), (6, 1)},\n",
       " 8: {(2, 6), (3, 5), (4, 4), (5, 3), (6, 2)},\n",
       " 9: {(3, 6), (4, 5), (5, 4), (6, 3)},\n",
       " 10: {(4, 6), (5, 5), (6, 4)},\n",
       " 11: {(5, 6), (6, 5)},\n",
       " 12: {(6, 6)}}"
      ]
     },
     "execution_count": 4,
     "metadata": {},
     "output_type": "execute_result"
    }
   ],
   "source": [
    "Rango_Sn = range(2,13)\n",
    "\n",
    "Eventos_Sn = {n : S(n) for n in Rango_Sn }\n",
    "\n",
    "Eventos_Sn "
   ]
  },
  {
   "cell_type": "markdown",
   "metadata": {
    "id": "CAszWlI9pN7_"
   },
   "source": [
    "Similarmente,"
   ]
  },
  {
   "cell_type": "code",
   "execution_count": 5,
   "metadata": {
    "id": "kze-sBERuAS2"
   },
   "outputs": [],
   "source": [
    "# La suma de los dos dados en n\n",
    "def D(m):\n",
    "    D = {o for o in Omega1 if abs(o[0]-o[1]) >= m}\n",
    "    return D  "
   ]
  },
  {
   "cell_type": "code",
   "execution_count": 29,
   "metadata": {
    "colab": {
     "base_uri": "https://localhost:8080/"
    },
    "id": "14mxOY5KuL4_",
    "outputId": "b324e0de-3ad5-44be-a351-3576e81d1a38"
   },
   "outputs": [
    {
     "name": "stdout",
     "output_type": "stream",
     "text": [
      "{0: {(3, 4), (4, 3), (3, 1), (5, 4), (4, 6), (5, 1), (2, 2), (1, 6), (2, 5), (1, 3), (6, 2), (6, 5), (4, 2), (4, 5), (3, 3), (5, 6), (3, 6), (5, 3), (2, 4), (1, 2), (2, 1), (1, 5), (6, 1), (6, 4), (3, 2), (4, 1), (3, 5), (5, 2), (4, 4), (5, 5), (1, 1), (1, 4), (2, 3), (2, 6), (6, 6), (6, 3)}, 1: {(3, 4), (4, 3), (3, 1), (5, 4), (4, 6), (5, 1), (1, 6), (2, 5), (1, 3), (6, 2), (6, 5), (4, 2), (4, 5), (5, 6), (3, 6), (5, 3), (2, 4), (1, 2), (2, 1), (1, 5), (6, 1), (6, 4), (3, 2), (4, 1), (3, 5), (5, 2), (1, 4), (2, 3), (2, 6), (6, 3)}, 2: {(3, 1), (4, 6), (5, 1), (1, 6), (2, 5), (1, 3), (6, 2), (4, 2), (3, 6), (5, 3), (2, 4), (1, 5), (6, 1), (6, 4), (4, 1), (3, 5), (5, 2), (1, 4), (2, 6), (6, 3)}, 3: {(6, 2), (1, 5), (6, 1), (5, 1), (1, 4), (6, 3), (2, 6), (3, 6), (1, 6), (2, 5), (4, 1), (5, 2)}, 4: {(6, 2), (1, 5), (6, 1), (5, 1), (2, 6), (1, 6)}, 5: {(1, 6), (6, 1)}}\n"
     ]
    }
   ],
   "source": [
    "Rango_Dm = range(0,6)\n",
    "\n",
    "Eventos_Dm = {m : D(m) for m in Rango_Dm}\n",
    "\n",
    "print(Eventos_Dm)\n",
    "\n"
   ]
  },
  {
   "cell_type": "markdown",
   "metadata": {
    "id": "vLqRoTNqwoXP"
   },
   "source": [
    "Como estamos en el contexto clásico, \n",
    "$$\\mathbb{P}(A)=\\frac{\\# A}{\\# \\Omega_1}.$$"
   ]
  },
  {
   "cell_type": "code",
   "execution_count": 7,
   "metadata": {
    "id": "vGuixvuYxNlB"
   },
   "outputs": [],
   "source": [
    "from fractions import Fraction\n",
    "\n",
    "def P(A,Omega):\n",
    "    p = Rational(len(A),len(Omega1))\n",
    "    return p "
   ]
  },
  {
   "cell_type": "markdown",
   "metadata": {
    "id": "FD0DJYWvxIRu"
   },
   "source": [
    "Calcule $\\mathbb{P}(S_{7}\\mid D_{3})$ y $\\mathbb{P}(D_{3}\\mid S_{7})$."
   ]
  },
  {
   "cell_type": "code",
   "execution_count": 8,
   "metadata": {
    "id": "Yj7oH8PRuivP"
   },
   "outputs": [],
   "source": [
    "S7D3 = D(3).intersection(S(7))"
   ]
  },
  {
   "cell_type": "code",
   "execution_count": 9,
   "metadata": {
    "colab": {
     "base_uri": "https://localhost:8080/"
    },
    "id": "CBX7o0NfuinN",
    "outputId": "c384e438-ed74-4d34-a89c-19348c4c4b5b"
   },
   "outputs": [
    {
     "data": {
      "text/latex": [
       "$\\displaystyle \\frac{1}{3}$"
      ],
      "text/plain": [
       "1/3"
      ]
     },
     "execution_count": 9,
     "metadata": {},
     "output_type": "execute_result"
    }
   ],
   "source": [
    "P(S7D3, Omega1)/P(D(3), Omega1)"
   ]
  },
  {
   "cell_type": "code",
   "execution_count": 10,
   "metadata": {
    "colab": {
     "base_uri": "https://localhost:8080/"
    },
    "id": "yvnyMP2ruifW",
    "outputId": "a928c9dd-0626-49d0-b281-a44e6f5bea95"
   },
   "outputs": [
    {
     "data": {
      "text/latex": [
       "$\\displaystyle \\frac{2}{3}$"
      ],
      "text/plain": [
       "2/3"
      ]
     },
     "execution_count": 10,
     "metadata": {},
     "output_type": "execute_result"
    }
   ],
   "source": [
    "P(S7D3, Omega1)/P(S(7), Omega1)"
   ]
  },
  {
   "cell_type": "markdown",
   "metadata": {
    "id": "nZ3Zm-Ugyg_l"
   },
   "source": [
    "¿Los eventos dados son ajenos para alguna elección de $(n,m)\\in R_{S_n}\\times R_{D_m}$ ?"
   ]
  },
  {
   "cell_type": "code",
   "execution_count": 11,
   "metadata": {
    "id": "JvRYfqz0uiZq"
   },
   "outputs": [],
   "source": [
    "Rango = set(product({2,3,4,5,6,7,8,9,10,11,12}, {0,1,2,3,4,5}))"
   ]
  },
  {
   "cell_type": "code",
   "execution_count": 30,
   "metadata": {
    "colab": {
     "base_uri": "https://localhost:8080/"
    },
    "id": "s9INrEN-uiUF",
    "outputId": "9dc15888-c328-4532-93bf-18d697d58ab7"
   },
   "outputs": [
    {
     "name": "stdout",
     "output_type": "stream",
     "text": [
      "[(12, 4), (12, 1), (3, 4), (4, 3), (5, 4), (9, 5), (11, 2), (11, 5), (2, 2), (10, 3), (2, 5), (6, 5), (12, 3), (4, 5), (3, 3), (8, 5), (9, 4), (11, 4), (2, 4), (10, 5), (2, 1), (12, 2), (12, 5), (3, 2), (3, 5), (4, 4), (5, 5), (10, 4), (11, 3), (2, 3)]\n"
     ]
    }
   ],
   "source": [
    "L = [(n,m) for n,m in Rango if len(D(m).intersection(S(n)))==0]\n",
    "print(L)"
   ]
  },
  {
   "cell_type": "markdown",
   "metadata": {
    "id": "Dbf8LKlptINk"
   },
   "source": [
    "Lo anterior, son las parejas $(n,n)\\in R_{S_n}\\times R_{D_m}$ en donde $S_{n}\\cap D_{m}=∅$."
   ]
  },
  {
   "cell_type": "markdown",
   "metadata": {
    "id": "uBrPhT3T1exy"
   },
   "source": [
    "Calcule $\\mathbb{P}(S_{n}\\cap D_{m})$ para dos $(n,m), (n^{\\prime}, m^{\\prime})\\in R_{S_n}\\times R_{D_m}$ distintos."
   ]
  },
  {
   "cell_type": "code",
   "execution_count": 13,
   "metadata": {
    "colab": {
     "base_uri": "https://localhost:8080/"
    },
    "id": "1IcLlxyS1eMP",
    "outputId": "ce22fbb5-93ba-4e62-ec4d-33494401facb"
   },
   "outputs": [
    {
     "data": {
      "text/plain": [
       "{(4, 0): 1/12,\n",
       " (3, 1): 1/18,\n",
       " (5, 1): 1/9,\n",
       " (8, 0): 5/36,\n",
       " (9, 2): 1/18,\n",
       " (8, 3): 1/18,\n",
       " (10, 0): 1/12,\n",
       " (7, 4): 1/18,\n",
       " (6, 2): 1/9,\n",
       " (7, 1): 1/6,\n",
       " (12, 0): 1/36,\n",
       " (4, 2): 1/18,\n",
       " (3, 0): 1/18,\n",
       " (5, 0): 1/9,\n",
       " (5, 3): 1/18,\n",
       " (8, 2): 1/9,\n",
       " (9, 1): 1/9,\n",
       " (10, 2): 1/18,\n",
       " (11, 1): 1/18,\n",
       " (6, 1): 1/9,\n",
       " (7, 0): 1/6,\n",
       " (6, 4): 1/18,\n",
       " (7, 3): 1/9,\n",
       " (4, 1): 1/18,\n",
       " (5, 2): 1/18,\n",
       " (9, 0): 1/9,\n",
       " (8, 4): 1/18,\n",
       " (9, 3): 1/18,\n",
       " (8, 1): 1/9,\n",
       " (11, 0): 1/18,\n",
       " (2, 0): 1/36,\n",
       " (10, 1): 1/18,\n",
       " (7, 2): 1/9,\n",
       " (6, 0): 5/36,\n",
       " (7, 5): 1/18,\n",
       " (6, 3): 1/18}"
      ]
     },
     "execution_count": 13,
     "metadata": {},
     "output_type": "execute_result"
    }
   ],
   "source": [
    "probabilidades = {(n,m) : P(D(m).intersection(S(n)), Omega1) for n,m in Rango if len(D(m).intersection(S(n)))!=0}\n",
    "probabilidades "
   ]
  },
  {
   "cell_type": "markdown",
   "metadata": {
    "id": "tsruWIgY2EIR"
   },
   "source": [
    "¿Los eventos son independientes?"
   ]
  },
  {
   "cell_type": "code",
   "execution_count": 14,
   "metadata": {
    "id": "R94Wl65B3dfi"
   },
   "outputs": [],
   "source": [
    "def Indep(A,B):\n",
    "    indep = P(A.intersection(B), Omega1)==P(A, Omega1)*P(B,Omega1)\n",
    "    return indep"
   ]
  },
  {
   "cell_type": "code",
   "execution_count": 15,
   "metadata": {
    "colab": {
     "base_uri": "https://localhost:8080/"
    },
    "id": "cICZdMhf3-w1",
    "outputId": "088ac3f9-7443-42eb-cefa-a2bacffe2edd"
   },
   "outputs": [
    {
     "data": {
      "text/plain": [
       "[(4, 0),\n",
       " (8, 0),\n",
       " (10, 0),\n",
       " (12, 0),\n",
       " (3, 0),\n",
       " (5, 0),\n",
       " (7, 0),\n",
       " (9, 0),\n",
       " (11, 0),\n",
       " (2, 0),\n",
       " (6, 0)]"
      ]
     },
     "execution_count": 15,
     "metadata": {},
     "output_type": "execute_result"
    }
   ],
   "source": [
    "Independencia = [(n,m) for (n,m) in Rango if Indep(D(m),S(n))==True]\n",
    "Independencia"
   ]
  },
  {
   "cell_type": "markdown",
   "metadata": {
    "id": "eJkHjyEmbaJb"
   },
   "source": [
    "Por lo tanto, habrá independencia cuando $n\\in R_{S_{n}}$ y $m=0$."
   ]
  },
  {
   "cell_type": "markdown",
   "metadata": {
    "id": "06LT__HnpL2I"
   },
   "source": [
    "### Ejercicio 2.\n",
    "Sean $A$, $B$ y $C$ tres eventos relativos a un experimento aleatorio. ¿Cuáles de las siguientes aseveraciones son verdaderas?\n",
    "\n",
    "  a) $\\mathbb{P}(A\\mid B)+\\mathbb{P}(A^{c}\\mid B)=1$.\n",
    "\n",
    "  b) $\\mathbb{P}(A\\mid B)+\\mathbb{P}(A\\mid B^{c})=1$.\n",
    "\t\n",
    "  c) Si $A$ y $B$ son independientes, entonces $\\mathbb{P}(A\\cap B\\mid C)=\\mathbb{P}(A\\mid C)\\mathbb{P}(B\\mid C)$.\n",
    "   \n",
    "  d) Si $\\mathbb{P}(A\\mid B)=\\mathbb{P}(B)$, entonces $A$ y $B$ son independientes.\n",
    "  \n",
    "  e) Si $\\mathbb{P}(A)=\\mathbb{P}(B)=p$, entonces $\\mathbb{P}(A\\cap B)\\leq p^2$.\n",
    "\t\n",
    "En todos los casos, justifique su respuesta, ya sea demostrando que la aseveración es verdadera o dando un contraejemplo que muestre que la aseveración es falsa."
   ]
  },
  {
   "cell_type": "markdown",
   "metadata": {
    "id": "JxcmJ5TCcxM8"
   },
   "source": [
    "**Solución.**\n",
    "\n",
    "a) Verdadera ya que $\\mathbb{P}(\\bullet\\mid B)$ es función de probabilidad.\n",
    "\n",
    "b) Falsa "
   ]
  },
  {
   "cell_type": "code",
   "execution_count": 16,
   "metadata": {
    "colab": {
     "base_uri": "https://localhost:8080/"
    },
    "id": "Xhz6m_qxcweK",
    "outputId": "a655dfd2-3714-48e6-d649-c961097f09a1"
   },
   "outputs": [
    {
     "data": {
      "text/latex": [
       "$\\displaystyle \\frac{1}{5}$"
      ],
      "text/plain": [
       "1/5"
      ]
     },
     "execution_count": 16,
     "metadata": {},
     "output_type": "execute_result"
    }
   ],
   "source": [
    "S7D2 = D(2).intersection(S(7))\n",
    "P(S7D2, Omega1)/P(D(2), Omega1) "
   ]
  },
  {
   "cell_type": "code",
   "execution_count": 17,
   "metadata": {
    "id": "yBM5HVASd0Zk"
   },
   "outputs": [],
   "source": [
    "def Dc(m):\n",
    "    Dc = {o for o in Omega1 if abs(o[0]-o[1]) < m}\n",
    "    return Dc"
   ]
  },
  {
   "cell_type": "code",
   "execution_count": 18,
   "metadata": {
    "colab": {
     "base_uri": "https://localhost:8080/"
    },
    "id": "mTud6WGLe3tw",
    "outputId": "01fb04dc-6585-4ae8-df36-e1824ab344cb"
   },
   "outputs": [
    {
     "data": {
      "text/latex": [
       "$\\displaystyle \\frac{1}{8}$"
      ],
      "text/plain": [
       "1/8"
      ]
     },
     "execution_count": 18,
     "metadata": {},
     "output_type": "execute_result"
    }
   ],
   "source": [
    "S7Dc2 = Dc(2).intersection(S(7))\n",
    "P(S7Dc2, Omega1)/P(Dc(2), Omega1) "
   ]
  },
  {
   "cell_type": "code",
   "execution_count": 19,
   "metadata": {
    "colab": {
     "base_uri": "https://localhost:8080/"
    },
    "id": "0flXGJL0fZeH",
    "outputId": "13fe44b3-41d3-4511-cbb7-f3cfa7ce3c9e"
   },
   "outputs": [
    {
     "data": {
      "text/plain": [
       "False"
      ]
     },
     "execution_count": 19,
     "metadata": {},
     "output_type": "execute_result"
    }
   ],
   "source": [
    "P(S7D2, Omega1)/P(D(2), Omega1) + P(S7Dc2, Omega1)/P(Dc(2), Omega1) ==1"
   ]
  },
  {
   "cell_type": "markdown",
   "metadata": {
    "id": "-j-Be-qlgWSn"
   },
   "source": [
    "c) Falsa: Sea $C$ el evento el máximo de las caras es 6:\n",
    "$$C=\\{(i,j)\\in \\Omega_{1} : \\max(i,j)=6\\}.$$"
   ]
  },
  {
   "cell_type": "code",
   "execution_count": 20,
   "metadata": {
    "id": "be_Y5s5IgcZ0"
   },
   "outputs": [],
   "source": [
    "C = {o for o in Omega1 if max(o)==6}"
   ]
  },
  {
   "cell_type": "markdown",
   "metadata": {
    "id": "68bW_xomhN_z"
   },
   "source": [
    "Sabemos que $S_{12}$ y $D_0$ son independientes."
   ]
  },
  {
   "cell_type": "code",
   "execution_count": 21,
   "metadata": {
    "colab": {
     "base_uri": "https://localhost:8080/"
    },
    "id": "2ObZUQeBkHTL",
    "outputId": "41a03667-688c-44a3-c296-78c577af9b16"
   },
   "outputs": [
    {
     "data": {
      "text/latex": [
       "$\\displaystyle \\frac{1}{11}$"
      ],
      "text/plain": [
       "1/11"
      ]
     },
     "execution_count": 21,
     "metadata": {},
     "output_type": "execute_result"
    }
   ],
   "source": [
    "P(S(12).intersection(D(0).intersection(C)), Omega1)/P(C, Omega1), P(S(12).intersection(C), Omega1)/P(C, Omega1)"
   ]
  },
  {
   "cell_type": "code",
   "execution_count": 22,
   "metadata": {
    "colab": {
     "base_uri": "https://localhost:8080/"
    },
    "id": "tfSUAXh7kS9O",
    "outputId": "3420063b-578d-4c18-bb3f-3ec254dc412f"
   },
   "outputs": [
    {
     "data": {
      "text/latex": [
       "$\\displaystyle \\frac{1}{11}$"
      ],
      "text/plain": [
       "1/11"
      ]
     },
     "execution_count": 22,
     "metadata": {},
     "output_type": "execute_result"
    }
   ],
   "source": [
    "P(S(12).intersection(C), Omega1)/P(C, Omega1)"
   ]
  },
  {
   "cell_type": "code",
   "execution_count": 23,
   "metadata": {
    "colab": {
     "base_uri": "https://localhost:8080/"
    },
    "id": "f9WrdbdnkXP4",
    "outputId": "41dfbee4-5f9b-4bab-82f4-45be08eae470"
   },
   "outputs": [
    {
     "data": {
      "text/latex": [
       "$\\displaystyle 1$"
      ],
      "text/plain": [
       "1"
      ]
     },
     "execution_count": 23,
     "metadata": {},
     "output_type": "execute_result"
    }
   ],
   "source": [
    "P(D(0).intersection(C),Omega1)/P(C, Omega1)"
   ]
  },
  {
   "cell_type": "markdown",
   "metadata": {
    "id": "p47JHDiwbctc"
   },
   "source": [
    "e) Si $\\mathbb{P}(A)=\\mathbb{P}(B)=p$, entonces $\\mathbb{P}(A\\cap B)\\leq p^2$.\n",
    "\n",
    "Falso"
   ]
  },
  {
   "cell_type": "code",
   "execution_count": 24,
   "metadata": {
    "colab": {
     "base_uri": "https://localhost:8080/"
    },
    "id": "L1iqazZMarDb",
    "outputId": "596fdd29-ead1-4515-e97d-594766827e98"
   },
   "outputs": [
    {
     "data": {
      "text/plain": [
       "(1/6, 1/6)"
      ]
     },
     "execution_count": 24,
     "metadata": {},
     "output_type": "execute_result"
    }
   ],
   "source": [
    "P(S(7), Omega1), P(D(4),Omega1)"
   ]
  },
  {
   "cell_type": "code",
   "execution_count": 25,
   "metadata": {
    "colab": {
     "base_uri": "https://localhost:8080/"
    },
    "id": "yZCnZrbXa306",
    "outputId": "4940b22d-1536-4a5b-caa8-852a227f8410"
   },
   "outputs": [
    {
     "data": {
      "text/latex": [
       "$\\displaystyle \\frac{1}{18}$"
      ],
      "text/plain": [
       "1/18"
      ]
     },
     "execution_count": 25,
     "metadata": {},
     "output_type": "execute_result"
    }
   ],
   "source": [
    "P(S(7).intersection(D(4)), Omega1) "
   ]
  },
  {
   "cell_type": "code",
   "execution_count": 26,
   "metadata": {
    "colab": {
     "base_uri": "https://localhost:8080/"
    },
    "id": "91c07Mq9bBQC",
    "outputId": "c5c08b7a-7a75-4ee5-9b65-5dfbd2237d34"
   },
   "outputs": [
    {
     "data": {
      "text/latex": [
       "$\\displaystyle \\text{False}$"
      ],
      "text/plain": [
       "False"
      ]
     },
     "execution_count": 26,
     "metadata": {},
     "output_type": "execute_result"
    }
   ],
   "source": [
    "P(S(7).intersection(D(4)), Omega1)<= P(D(4),Omega1)*P(D(4),Omega1)"
   ]
  },
  {
   "cell_type": "markdown",
   "metadata": {
    "id": "ubO-5rDkqIz-"
   },
   "source": [
    "### Ejercicio 3.\n",
    "\n",
    "Una urna contiene $10$ bolas numeradas del $1$ al $10$. Un experimento consiste en elegir, al azar y sin reemplazo, dos bolas de la urna, consecutivamente. Calcule \n",
    "\t\n",
    "a) la probabilidad de que la suma de los dos números elegidos sea par y,\n",
    "b) la probabilidad de que en la primera elección resulte par dado que la suma fue par.\n",
    "\t\n"
   ]
  },
  {
   "cell_type": "markdown",
   "metadata": {
    "id": "ys8_EpuJdtWA"
   },
   "source": [
    "**Solución.** Sean\n",
    "\n",
    "- $B$= la suma de los números elegidos es par.\n",
    "- $A_1$=el número de la primera elección es par\n",
    "- $A_2$=el número de la segunda elección es impar"
   ]
  },
  {
   "cell_type": "code",
   "execution_count": 27,
   "metadata": {
    "id": "HxjWMOToef0f"
   },
   "outputs": [],
   "source": [
    "Omega2 = {i for i in range(1,11)}\n",
    "B = {(i,j) for i in Omega2 for j in Omega2 if (i+j)%2==0}\n",
    "A1 = {i for i in Omega2 if i%2==0}\n",
    "A2 = {i for i in Omega2 if i%2==1}"
   ]
  },
  {
   "cell_type": "markdown",
   "metadata": {
    "id": "Qem_4nYAwPLj"
   },
   "source": [
    "#### Calculemos $\\mathbb{P}(B\\mid A_{1})$ y $\\mathbb{P}(B\\mid A_{2})$"
   ]
  },
  {
   "cell_type": "code",
   "execution_count": 28,
   "metadata": {
    "colab": {
     "base_uri": "https://localhost:8080/"
    },
    "id": "y7Yx3XMbv8-G",
    "outputId": "35ec7eea-7a91-49e6-be52-f3c0ae84f16e"
   },
   "outputs": [
    {
     "data": {
      "text/plain": [
       "{(2, 4),\n",
       " (2, 6),\n",
       " (2, 8),\n",
       " (2, 10),\n",
       " (4, 2),\n",
       " (4, 6),\n",
       " (4, 8),\n",
       " (4, 10),\n",
       " (6, 2),\n",
       " (6, 4),\n",
       " (6, 8),\n",
       " (6, 10),\n",
       " (8, 2),\n",
       " (8, 4),\n",
       " (8, 6),\n",
       " (8, 10),\n",
       " (10, 2),\n",
       " (10, 4),\n",
       " (10, 6),\n",
       " (10, 8)}"
      ]
     },
     "execution_count": 28,
     "metadata": {},
     "output_type": "execute_result"
    }
   ],
   "source": [
    "BA1 = {(i, j) for i in A1 for j in Omega2 if (i+j)%2==0 and i!=j}\n",
    "BA1"
   ]
  },
  {
   "cell_type": "markdown",
   "metadata": {
    "id": "IVu4UzAB1vSI"
   },
   "source": [
    "Así,\n",
    "$\\mathbb{P}(B\\mid A_{1})=\\frac{4}{9}=\\mathbb{P}(B\\mid A_{2})$"
   ]
  },
  {
   "cell_type": "markdown",
   "metadata": {
    "id": "q5Jn3N2T2IgV"
   },
   "source": [
    "Por lo tanto,\n",
    "$$\\mathbb{P}(B)=\\frac{4}{9}.$$\n",
    "\n",
    "Así, por Bayes\n",
    "$$\\mathbb{P}(A_{1}\\mid B)=\\frac{2/9}{4/9}=\\frac{1}{2}.$$"
   ]
  },
  {
   "cell_type": "code",
   "execution_count": null,
   "metadata": {},
   "outputs": [],
   "source": []
  }
 ],
 "metadata": {
  "colab": {
   "provenance": []
  },
  "kernelspec": {
   "display_name": "Python 3 (ipykernel)",
   "language": "python",
   "name": "python3"
  },
  "language_info": {
   "codemirror_mode": {
    "name": "ipython",
    "version": 3
   },
   "file_extension": ".py",
   "mimetype": "text/x-python",
   "name": "python",
   "nbconvert_exporter": "python",
   "pygments_lexer": "ipython3",
   "version": "3.9.13"
  }
 },
 "nbformat": 4,
 "nbformat_minor": 1
}
